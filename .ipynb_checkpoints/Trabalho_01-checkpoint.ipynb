{
 "cells": [
  {
   "cell_type": "code",
   "execution_count": 431,
   "metadata": {},
   "outputs": [],
   "source": [
    "from prettytable import PrettyTable, from_csv\n",
    "import pandas as pd\n",
    "import numpy as np\n",
    "import itertools\n",
    "from itertools import chain\n",
    "import numpy\n",
    "import lxml\n",
    "import csv\n",
    "import re"
   ]
  },
  {
   "cell_type": "markdown",
   "metadata": {},
   "source": [
    "## Circuito gerado pelo Algoritmo"
   ]
  },
  {
   "cell_type": "code",
   "execution_count": 528,
   "metadata": {},
   "outputs": [],
   "source": [
    "f2 =  open(\"logicFormCircuitFinal.txt\",'r')\n",
    "texto2 = f2.readlines()"
   ]
  },
  {
   "cell_type": "markdown",
   "metadata": {},
   "source": [
    "### Pegando as variáveis do circuito gerado pelo modelo"
   ]
  },
  {
   "cell_type": "code",
   "execution_count": 529,
   "metadata": {},
   "outputs": [
    {
     "name": "stdout",
     "output_type": "stream",
     "text": [
      "['var', '=', 'A,', '', 'B,', '', 'C'] 7\n"
     ]
    }
   ],
   "source": [
    "def tratamentoFileModel():\n",
    "    a2 =texto2[0].replace('=', '').replace('var', '').replace('\\n', '').replace(\"''\", '').replace(\" \", '').replace(\"[\", '').replace(\"]\", '').replace(\",\", '')\n",
    "    a3=str(texto2[0][0:19].split(',')).replace('\"', '').replace('[', '').replace(']', '').replace('(', '').replace(\"'\", '').split(\" \")\n",
    "    print(a3, len(a3))\n",
    "    var2 = []\n",
    "    for i in range(len(a3)):\n",
    "        if a3[i] =='' or a3[i] =='var' or a3[i] =='=':\n",
    "            pass\n",
    "        else:\n",
    "            var2.append(a3[i])\n",
    "tratamentoFileModel()"
   ]
  },
  {
   "cell_type": "markdown",
   "metadata": {},
   "source": [
    "## Lendo o circuito de teste"
   ]
  },
  {
   "cell_type": "code",
   "execution_count": 530,
   "metadata": {},
   "outputs": [
    {
     "name": "stdout",
     "output_type": "stream",
     "text": [
      "['var = [ A, B, C ] \\n', 'p0 = ( A  and B ) \\n', 'p1 = ( p0  and B ) \\n', 'pF2 = ( p1 )'] <class 'list'> 4\n"
     ]
    }
   ],
   "source": [
    "f = open(\"circuito4.txt\",'r')\n",
    "# logicFormCircuit\n",
    "texto = f.readlines()\n",
    "print(texto, type(texto), len(texto))"
   ]
  },
  {
   "cell_type": "code",
   "execution_count": 532,
   "metadata": {},
   "outputs": [
    {
     "data": {
      "text/plain": [
       "['A', 'B', 'C']"
      ]
     },
     "execution_count": 532,
     "metadata": {},
     "output_type": "execute_result"
    }
   ],
   "source": [
    "def getVarCircuit ():\n",
    "    a =texto[0].replace('=', '').replace('var', '').replace('\\n', '').replace(\"''\", '').replace(\" \", '').replace(\"[\", '').replace(\"]\", '').replace(\",\", '')\n",
    "    ## Lista de variáveis\n",
    "    var = []\n",
    "    for i in range(len(a)):\n",
    "#         print(a[i].split(' '))\n",
    "        var.append(a[i])\n",
    "    return var\n",
    "getVarCircuit()"
   ]
  },
  {
   "cell_type": "markdown",
   "metadata": {},
   "source": [
    "### Pegando o circuito lógico como um mapa para aplicar a um Dataframe"
   ]
  },
  {
   "cell_type": "code",
   "execution_count": 533,
   "metadata": {},
   "outputs": [
    {
     "data": {
      "text/plain": [
       "{'p0 ': '( A  and B ) \\n', 'p1 ': '( p0  and B ) \\n', 'pF2': ' ( p1 )'}"
      ]
     },
     "execution_count": 533,
     "metadata": {},
     "output_type": "execute_result"
    }
   ],
   "source": [
    "listaPortas = []\n",
    "def mapeamentoCircuito():\n",
    "    lPort = []\n",
    "    for i in range(1, len(texto)):\n",
    "        lPort.append(texto[i][0:3])\n",
    "        listaPortas.append(texto[i][0:3])\n",
    "#     print(lPort)\n",
    "    lForm = []\n",
    "    for i in range(1, len(texto)):\n",
    "        lForm.append(texto[i][5:])\n",
    "#     print(lForm)\n",
    "    mapCircuito = dict(zip(lPort, lForm))\n",
    "#     print(\"Lista: \",mapCircuito)\n",
    "    return mapCircuito\n",
    "mapeamentoCircuito()"
   ]
  },
  {
   "cell_type": "markdown",
   "metadata": {},
   "source": [
    "# Pegando o circuito e colocando em um csv"
   ]
  },
  {
   "cell_type": "code",
   "execution_count": 405,
   "metadata": {},
   "outputs": [
    {
     "data": {
      "text/html": [
       "<div>\n",
       "<style scoped>\n",
       "    .dataframe tbody tr th:only-of-type {\n",
       "        vertical-align: middle;\n",
       "    }\n",
       "\n",
       "    .dataframe tbody tr th {\n",
       "        vertical-align: top;\n",
       "    }\n",
       "\n",
       "    .dataframe thead th {\n",
       "        text-align: right;\n",
       "    }\n",
       "</style>\n",
       "<table border=\"1\" class=\"dataframe\">\n",
       "  <thead>\n",
       "    <tr style=\"text-align: right;\">\n",
       "      <th></th>\n",
       "      <th>p0</th>\n",
       "      <th>p1</th>\n",
       "      <th>pF2</th>\n",
       "    </tr>\n",
       "  </thead>\n",
       "  <tbody>\n",
       "    <tr>\n",
       "      <th>0</th>\n",
       "      <td>( A  and B ) \\n</td>\n",
       "      <td>( p0  and B ) \\n</td>\n",
       "      <td>( p1 )</td>\n",
       "    </tr>\n",
       "  </tbody>\n",
       "</table>\n",
       "</div>"
      ],
      "text/plain": [
       "               p0                p1       pF2\n",
       "0  ( A  and B ) \\n  ( p0  and B ) \\n   ( p1 )"
      ]
     },
     "execution_count": 405,
     "metadata": {},
     "output_type": "execute_result"
    }
   ],
   "source": [
    "# Pegando o circuito e colocando em um csv\n",
    "dfCircuito = pd.DataFrame(data=mapCircuito, index=[0])\n",
    "dfCircuito"
   ]
  },
  {
   "cell_type": "markdown",
   "metadata": {},
   "source": [
    "# Colocando o circuito como uma lista para repassar para a função que irá gerar a tabela verdade"
   ]
  },
  {
   "cell_type": "code",
   "execution_count": 280,
   "metadata": {},
   "outputs": [
    {
     "data": {
      "text/plain": [
       "['( A  and B ) \\n', '( p0  and B ) \\n', ' ( p1 )']"
      ]
     },
     "execution_count": 280,
     "metadata": {},
     "output_type": "execute_result"
    }
   ],
   "source": [
    "# Colocando o circuito como uma lista para repassar para a função que irá gerar a tabela verdade\n",
    "listCircuito = dfCircuito.values.tolist()\n",
    "listCircuito = list(chain.from_iterable(listCircuito))\n",
    "listCircuito"
   ]
  },
  {
   "cell_type": "markdown",
   "metadata": {},
   "source": [
    "## Aplicando cada fórmula nas portas"
   ]
  },
  {
   "cell_type": "code",
   "execution_count": 293,
   "metadata": {},
   "outputs": [
    {
     "name": "stdout",
     "output_type": "stream",
     "text": [
      "0    ( A  and B ) \n",
      "Name: p0 , dtype: object\n",
      "0    ( A  and B ) \n",
      "Name: p0 , dtype: object\n",
      "0    ( A  and B ) \n",
      "Name: p0 , dtype: object\n",
      "0    ( ( A  and B )  and B ) \n",
      "Name: p1 , dtype: object\n",
      "0    ( ( A  and B )  and B ) \n",
      "Name: p1 , dtype: object\n",
      "0    ( ( A  and B )  and B ) \n",
      "Name: p1 , dtype: object\n",
      "0     ( ( ( A  and B )  and B ) )\n",
      "Name: pF2, dtype: object\n",
      "0     ( ( ( A  and B )  and B ) )\n",
      "Name: pF2, dtype: object\n",
      "0     ( ( ( A  and B )  and B ) )\n",
      "Name: pF2, dtype: object\n"
     ]
    }
   ],
   "source": [
    "def aplicaClausula():\n",
    "    # Substituindo e gerando o circuito. Circuito de Teste\n",
    "    for feature in dfCircuito.columns:\n",
    "        for i in range(len(listCircuito)):\n",
    "            print(dfCircuito[feature])\n",
    "            dfCircuito[feature].replace(dfCircuito.columns[i], listCircuito[i], regex=True, inplace=True)\n",
    "            dfCircuito[feature].replace(\"\\n\", \"\", regex=True, inplace=True)            \n",
    "            dfCircuito[feature].replace(dfCircuito.columns[i], listCircuito[i], regex=True, inplace=True)\n",
    "            dfCircuito[feature].replace(\"\\n\", \"\", regex=True, inplace=True)            \n",
    "aplicaClausula()"
   ]
  },
  {
   "cell_type": "code",
   "execution_count": 331,
   "metadata": {},
   "outputs": [
    {
     "name": "stdout",
     "output_type": "stream",
     "text": [
      "p0  = ( A  and B ) ', 'p1  = ( ( A  and B )  and B ) ', 'pF2 =  ( ( ( A  and B )  and B ) )', 'p0  = ( A  and B ) ', 'p1  = ( ( A  and B )  and B ) ', 'pF2 =  ( ( ( A  and B )  and B ) )', 'p0  = ( A  and B ) ', 'p1  = ( ( A  and B )  and B ) ', 'pF2 =  ( ( ( A  and B )  and B ) )\n"
     ]
    }
   ],
   "source": [
    "circuitoOriginalVar = []\n",
    "circuitoOriginal = []\n",
    "# Gerando o circuito 1 original\n",
    "circuitoOriginalVar.append('var = ')          \n",
    "for i in range(len(var)):\n",
    "    circuitoOriginalVar.append(var[i])          \n",
    "for feature in dfCircuito.columns:\n",
    "    for i in range(len(listCircuito)):\n",
    "        circuitoOriginal.append(dfCircuito.columns[i]+' = '+ listCircuito[i])  \n",
    "        \n",
    "        \n",
    "circuitoOriginalVar = str(circuitoOriginalVar).replace(\"'\", '').replace(\"  \", ' ').replace(\"[var\", 'var ').replace(' , ',' [ ').replace('\")', '').replace(\"('\", '')\n",
    "c = str(circuitoOriginal).replace(\"['\", '').replace(\"\\n\", '').replace(\"']\", '') \n",
    "print(c)\n",
    "    "
   ]
  },
  {
   "cell_type": "markdown",
   "metadata": {},
   "source": [
    "## Salvando o csv com o circuito"
   ]
  },
  {
   "cell_type": "code",
   "execution_count": 294,
   "metadata": {},
   "outputs": [
    {
     "name": "stdout",
     "output_type": "stream",
     "text": [
      "0    ( A  and B ) \n",
      "Name: p0 , dtype: object\n",
      "0    ( A  and B ) \n",
      "Name: p0 , dtype: object\n",
      "0    ( A  and B ) \n",
      "Name: p0 , dtype: object\n",
      "0    ( ( A  and B )  and B ) \n",
      "Name: p1 , dtype: object\n",
      "0    ( ( A  and B )  and B ) \n",
      "Name: p1 , dtype: object\n",
      "0    ( ( A  and B )  and B ) \n",
      "Name: p1 , dtype: object\n",
      "0     ( ( ( A  and B )  and B ) )\n",
      "Name: pF2, dtype: object\n",
      "0     ( ( ( A  and B )  and B ) )\n",
      "Name: pF2, dtype: object\n",
      "0     ( ( ( A  and B )  and B ) )\n",
      "Name: pF2, dtype: object\n"
     ]
    }
   ],
   "source": [
    "aplicaClausula()\n",
    "dfCircuito.to_csv('circuito4.csv', index=False)"
   ]
  },
  {
   "cell_type": "markdown",
   "metadata": {},
   "source": [
    "## Função para gerar a tabela verdade. "
   ]
  },
  {
   "cell_type": "code",
   "execution_count": 290,
   "metadata": {},
   "outputs": [],
   "source": [
    "class Gob(object):\n",
    "    pass\n",
    "\n",
    "class Truths(object):\n",
    "    def __init__(self, base=None, phrases=None, ints=True):\n",
    "        if not base:\n",
    "            raise Exception('Base items are required')\n",
    "        self.base = base\n",
    "        self.phrases = phrases or []\n",
    "        self.ints = ints\n",
    "\n",
    "        # generate the sets of booleans for the bases\n",
    "        self.base_conditions = list(itertools.product([False, True],\n",
    "                                                      repeat=len(base)))\n",
    "\n",
    "        # regex to match whole words defined in self.bases\n",
    "        # used to add object context to variables in self.phrases\n",
    "        self.p = re.compile(r'(?<!\\w)(' + '|'.join(self.base) + ')(?!\\w)')\n",
    "\n",
    "    def calculate(self, *args):\n",
    "        # store bases in an object context\n",
    "        g = Gob()\n",
    "        for a, b in zip(self.base, args):\n",
    "            setattr(g, a, b)\n",
    "\n",
    "        # add object context to any base variables in self.phrases\n",
    "        # then evaluate each\n",
    "        eval_phrases = []\n",
    "        for item in self.phrases:\n",
    "            item = self.p.sub(r'g.\\1', item)\n",
    "            eval_phrases.append(eval(item))\n",
    "\n",
    "        # add the bases and evaluated phrases to create a single row\n",
    "        row = [getattr(g, b) for b in self.base] + eval_phrases\n",
    "        if self.ints:\n",
    "            return [int(item) for item in row]\n",
    "        else:\n",
    "            return row\n",
    "\n",
    "    def __str__(self):\n",
    "        t = PrettyTable(self.base + self.phrases)\n",
    "        for conditions_set in self.base_conditions:\n",
    "            t.add_row(self.calculate(*conditions_set))\n",
    "            \n",
    "        # Criando e escrevendo em arquivos de texto (modo 'w').\n",
    "            arquivo = open('arq02.txt','w')\n",
    "            arquivo.write(str(t))\n",
    "            arquivo.close()\n",
    "            df = pd.read_html(t.get_html_string())[0]\n",
    "            df.columns = df.iloc[0]\n",
    "            df = df.reindex(df.index.drop(0))\n",
    "            df.to_csv(\"tv4.csv\" , index=False)\n",
    "        return str(t)# t.get_html_string()  #str(t)\n"
   ]
  },
  {
   "cell_type": "markdown",
   "metadata": {},
   "source": [
    "# Colocando o circuito como uma lista para repassar para a função que irá gerar a tabela verdade"
   ]
  },
  {
   "cell_type": "code",
   "execution_count": 291,
   "metadata": {},
   "outputs": [
    {
     "data": {
      "text/plain": [
       "['( A  and B ) ', '( ( A  and B )  and B ) ', ' ( ( ( A  and B )  and B ) )']"
      ]
     },
     "execution_count": 291,
     "metadata": {},
     "output_type": "execute_result"
    }
   ],
   "source": [
    "# Colocando o circuito como uma lista para repassar para a função que irá gerar a tabela verdade\n",
    "listCircuito = dfCircuito.values.tolist()\n",
    "listCircuito = list(chain.from_iterable(listCircuito))\n",
    "listCircuito"
   ]
  },
  {
   "cell_type": "markdown",
   "metadata": {},
   "source": [
    "#### Variáveis do circuito, regras de cada porta"
   ]
  },
  {
   "cell_type": "code",
   "execution_count": 285,
   "metadata": {},
   "outputs": [
    {
     "name": "stdout",
     "output_type": "stream",
     "text": [
      "['A', 'B', 'C'] ['( A  and B ) ', '( ( A  and B )  and B ) ', ' ( ( p0  and B ) )']\n"
     ]
    }
   ],
   "source": [
    "print(var, listCircuito)"
   ]
  },
  {
   "cell_type": "markdown",
   "metadata": {},
   "source": [
    "### Tabela verdade com cada porta lógica"
   ]
  },
  {
   "cell_type": "code",
   "execution_count": 292,
   "metadata": {},
   "outputs": [
    {
     "name": "stdout",
     "output_type": "stream",
     "text": [
      "+---+---+---+---------------+--------------------------+------------------------------+\n",
      "| A | B | C | ( A  and B )  | ( ( A  and B )  and B )  |  ( ( ( A  and B )  and B ) ) |\n",
      "+---+---+---+---------------+--------------------------+------------------------------+\n",
      "| 0 | 0 | 0 |       0       |            0             |              0               |\n",
      "| 0 | 0 | 1 |       0       |            0             |              0               |\n",
      "| 0 | 1 | 0 |       0       |            0             |              0               |\n",
      "| 0 | 1 | 1 |       0       |            0             |              0               |\n",
      "| 1 | 0 | 0 |       0       |            0             |              0               |\n",
      "| 1 | 0 | 1 |       0       |            0             |              0               |\n",
      "| 1 | 1 | 0 |       1       |            1             |              1               |\n",
      "| 1 | 1 | 1 |       1       |            1             |              1               |\n",
      "+---+---+---+---------------+--------------------------+------------------------------+\n"
     ]
    }
   ],
   "source": [
    "print( Truths(var, listCircuito, ints=True) )"
   ]
  },
  {
   "cell_type": "markdown",
   "metadata": {},
   "source": [
    "### Salvando a tabela verdade do circuito lógico"
   ]
  },
  {
   "cell_type": "code",
   "execution_count": 163,
   "metadata": {},
   "outputs": [
    {
     "data": {
      "text/html": [
       "<div>\n",
       "<style scoped>\n",
       "    .dataframe tbody tr th:only-of-type {\n",
       "        vertical-align: middle;\n",
       "    }\n",
       "\n",
       "    .dataframe tbody tr th {\n",
       "        vertical-align: top;\n",
       "    }\n",
       "\n",
       "    .dataframe thead th {\n",
       "        text-align: right;\n",
       "    }\n",
       "</style>\n",
       "<table border=\"1\" class=\"dataframe\">\n",
       "  <thead>\n",
       "    <tr style=\"text-align: right;\">\n",
       "      <th></th>\n",
       "      <th>A</th>\n",
       "      <th>B</th>\n",
       "      <th>C</th>\n",
       "      <th>( A and B )</th>\n",
       "      <th>( ( A and B ) and B )</th>\n",
       "      <th>( ( ( A and B ) and B ) )</th>\n",
       "    </tr>\n",
       "  </thead>\n",
       "  <tbody>\n",
       "    <tr>\n",
       "      <th>0</th>\n",
       "      <td>0</td>\n",
       "      <td>0</td>\n",
       "      <td>0</td>\n",
       "      <td>0</td>\n",
       "      <td>0</td>\n",
       "      <td>0</td>\n",
       "    </tr>\n",
       "    <tr>\n",
       "      <th>1</th>\n",
       "      <td>0</td>\n",
       "      <td>0</td>\n",
       "      <td>1</td>\n",
       "      <td>0</td>\n",
       "      <td>0</td>\n",
       "      <td>0</td>\n",
       "    </tr>\n",
       "    <tr>\n",
       "      <th>2</th>\n",
       "      <td>0</td>\n",
       "      <td>1</td>\n",
       "      <td>0</td>\n",
       "      <td>0</td>\n",
       "      <td>0</td>\n",
       "      <td>0</td>\n",
       "    </tr>\n",
       "    <tr>\n",
       "      <th>3</th>\n",
       "      <td>0</td>\n",
       "      <td>1</td>\n",
       "      <td>1</td>\n",
       "      <td>0</td>\n",
       "      <td>0</td>\n",
       "      <td>0</td>\n",
       "    </tr>\n",
       "    <tr>\n",
       "      <th>4</th>\n",
       "      <td>1</td>\n",
       "      <td>0</td>\n",
       "      <td>0</td>\n",
       "      <td>0</td>\n",
       "      <td>0</td>\n",
       "      <td>0</td>\n",
       "    </tr>\n",
       "  </tbody>\n",
       "</table>\n",
       "</div>"
      ],
      "text/plain": [
       "   A  B  C  ( A and B )  ( ( A and B ) and B )  ( ( ( A and B ) and B ) )\n",
       "0  0  0  0            0                      0                          0\n",
       "1  0  0  1            0                      0                          0\n",
       "2  0  1  0            0                      0                          0\n",
       "3  0  1  1            0                      0                          0\n",
       "4  1  0  0            0                      0                          0"
      ]
     },
     "execution_count": 163,
     "metadata": {},
     "output_type": "execute_result"
    }
   ],
   "source": [
    "data = pd.read_csv('tv4.csv')\n",
    "data.head()  # vendo os primeiros valores da tabela verdade"
   ]
  },
  {
   "cell_type": "markdown",
   "metadata": {},
   "source": [
    "## Salvando o circuito lógico paranteseado"
   ]
  },
  {
   "cell_type": "code",
   "execution_count": 514,
   "metadata": {},
   "outputs": [
    {
     "name": "stdout",
     "output_type": "stream",
     "text": [
      "Lista:  {'p0 ': '( A  and B ) ', 'p1 ': '( ( A  and B )  and B ) ', 'pF2': ' ( ( ( A  and B )  and B ) )'}\n"
     ]
    }
   ],
   "source": [
    "\n",
    "mapCircuito = dict(zip(listaPortas, listCircuito))\n",
    "print(\"Lista: \",mapCircuito)\n",
    "#  Escrevendo a forma lógica do circuito paranteseada no formato de entrada\n",
    "logicForm = open('logicFormCircuitFinal.txt','w')\n",
    "logicForm.write(\"var = \" + str(var))\n",
    "logicForm.write(\"\\n\")\n",
    "logicForm.write(str(mapCircuito))\n",
    "logicForm.close()"
   ]
  },
  {
   "cell_type": "code",
   "execution_count": 214,
   "metadata": {},
   "outputs": [],
   "source": [
    "#  Escrevendo a forma lógica do circuito paranteseada\n",
    "logicForm = open('TVCircuit.txt','w')\n",
    "logicForm.write(str( (str(listCircuito),str(data.values)  ) ))\n",
    "logicForm.close()"
   ]
  },
  {
   "cell_type": "code",
   "execution_count": null,
   "metadata": {},
   "outputs": [],
   "source": []
  },
  {
   "cell_type": "code",
   "execution_count": null,
   "metadata": {},
   "outputs": [],
   "source": []
  }
 ],
 "metadata": {
  "kernelspec": {
   "display_name": "Python 3",
   "language": "python",
   "name": "python3"
  },
  "language_info": {
   "codemirror_mode": {
    "name": "ipython",
    "version": 3
   },
   "file_extension": ".py",
   "mimetype": "text/x-python",
   "name": "python",
   "nbconvert_exporter": "python",
   "pygments_lexer": "ipython3",
   "version": "3.6.5"
  }
 },
 "nbformat": 4,
 "nbformat_minor": 2
}
