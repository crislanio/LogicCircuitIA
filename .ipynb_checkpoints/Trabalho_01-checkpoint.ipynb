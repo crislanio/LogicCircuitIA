{
 "cells": [
  {
   "cell_type": "code",
   "execution_count": 251,
   "metadata": {},
   "outputs": [],
   "source": [
    "from prettytable import PrettyTable, from_csv\n",
    "import pandas as pd\n",
    "import numpy as np\n",
    "import itertools\n",
    "from itertools import chain\n",
    "import numpy\n",
    "import lxml\n",
    "import csv\n",
    "import re"
   ]
  },
  {
   "cell_type": "markdown",
   "metadata": {},
   "source": [
    "#### Descrição do circuito lógico. var indica as variáveis de entrada, coloque as variáveis de entrada em uma lista separado por vírgula e sem espaço.\n",
    "#### Fin representa as falhas de entrada para cada porta do Circuito, coloque em uma lista cada porta e sua falha, por exemplo\n",
    "\n",
    "###### p0 = [ A = 0 ] indica que p0 está presa em 0 para a Entrada no A, caso a porta não possua falhas de entrada coloque uma lista vazia mesmo assim, por exemplo p1 = [  ]  indica que p1 não tem falhas. Lembrando que é necessário colocar espaço em cada caractere.\n",
    "\n",
    "###### Fout representa falhas de saída para as portas, no caso só coloque na lista as postas que tem falha e o valor, no exemplo temos p1=0 que\n",
    "###### indica que p1 está preso na saída da porta por 0.\n",
    "\n",
    "###### Em seguida temos a representação das portas com sua entrada lógica. Por exemplo, p0 = ( A and B ). É necessário coloca colocar espaço em cada caractere de entrada.\n",
    "\n",
    "\n",
    "######  var = [ A, B, C ] \n",
    "###### Fin = [ p0 = [ A = 0 ] , p1 = [ ] , pF2 = [ ] ]\n",
    "###### Fout = [ p1 = 0 ]\n",
    "###### p0 = ( A  and B ) \n",
    "###### p1 = ( p0  and B ) \n",
    "###### pF2 = ( p1 )"
   ]
  },
  {
   "cell_type": "markdown",
   "metadata": {},
   "source": [
    "## Circuito gerado pelo Algoritmo"
   ]
  },
  {
   "cell_type": "code",
   "execution_count": 252,
   "metadata": {},
   "outputs": [],
   "source": [
    "f2 =  open(\"logicFormCircuitFinal.txt\",'r')\n",
    "texto2 = f2.readlines()"
   ]
  },
  {
   "cell_type": "markdown",
   "metadata": {},
   "source": [
    "### Pegando as variáveis do circuito gerado pelo modelo"
   ]
  },
  {
   "cell_type": "code",
   "execution_count": 253,
   "metadata": {},
   "outputs": [
    {
     "name": "stdout",
     "output_type": "stream",
     "text": [
      "['var', '=', 'A,', '', 'B,', '', 'C'] 7\n"
     ]
    }
   ],
   "source": [
    "def tratamentoFileModel():\n",
    "    a2 =texto2[0].replace('=', '').replace('var', '').replace('\\n', '').replace(\"''\", '').replace(\" \", '').replace(\"[\", '').replace(\"]\", '').replace(\",\", '')\n",
    "    a3=str(texto2[0][0:19].split(',')).replace('\"', '').replace('[', '').replace(']', '').replace('(', '').replace(\"'\", '').split(\" \")\n",
    "    print(a3, len(a3))\n",
    "    var2 = []\n",
    "    for i in range(len(a3)):\n",
    "        if a3[i] =='' or a3[i] =='var' or a3[i] =='=':\n",
    "            pass\n",
    "        else:\n",
    "            var2.append(a3[i])\n",
    "tratamentoFileModel()"
   ]
  },
  {
   "cell_type": "markdown",
   "metadata": {},
   "source": [
    "## 1. Lendo o circuito de teste"
   ]
  },
  {
   "cell_type": "code",
   "execution_count": 254,
   "metadata": {},
   "outputs": [
    {
     "name": "stdout",
     "output_type": "stream",
     "text": [
      "['var = [ A, B, C ] \\n', 'Fin = [ p0 = [ A = 0 ] , p1 = [ B = 0 ] , pF2 = [ ] ]\\n', 'Fout = [ p1 = 0 ]\\n', 'p0 = ( A  and B ) \\n', 'p1 = ( p0  and B ) \\n', 'pF2 = ( p1 )'] <class 'list'> 6\n"
     ]
    }
   ],
   "source": [
    "f = open(\"circuito4.txt\",'r')\n",
    "# logicFormCircuit\n",
    "texto = f.readlines()\n",
    "print(texto, type(texto), len(texto))"
   ]
  },
  {
   "cell_type": "markdown",
   "metadata": {},
   "source": [
    "### Pegando variáveis do Circuito"
   ]
  },
  {
   "cell_type": "code",
   "execution_count": 255,
   "metadata": {},
   "outputs": [
    {
     "data": {
      "text/plain": [
       "['A', 'B', 'C']"
      ]
     },
     "execution_count": 255,
     "metadata": {},
     "output_type": "execute_result"
    }
   ],
   "source": [
    "var = []\n",
    "def getVarCircuit ():\n",
    "    a =texto[0].replace('=', '').replace('var', '').replace('\\n', '').replace(\"''\", '').replace(\" \", '').replace(\"[\", '').replace(\"]\", '').replace(\",\", '')\n",
    "    ## Lista de variáveis\n",
    "    var2 = []\n",
    "    for i in range(len(a)):\n",
    "#         print(a[i].split(' '))\n",
    "        var2.append(a[i])\n",
    "        var.append(a[i])        \n",
    "    return var2\n",
    "getVarCircuit()"
   ]
  },
  {
   "cell_type": "markdown",
   "metadata": {},
   "source": [
    "## Pegando falhas de entrada e saída do circuito"
   ]
  },
  {
   "cell_type": "code",
   "execution_count": 227,
   "metadata": {},
   "outputs": [
    {
     "data": {
      "text/plain": [
       "('Fin = [ p0 = [ A = 0 ] , p1 = [ B = 0 ] , pF2 = [ ] ]\\n',\n",
       " ['Fout = [ p1 = 0 ]\\n'])"
      ]
     },
     "execution_count": 227,
     "metadata": {},
     "output_type": "execute_result"
    }
   ],
   "source": [
    "\n",
    "listaPortasFalhasIn = []\n",
    "listaPortasFalhasOut = []\n",
    "def getFalhasIn():\n",
    "    auxT = texto[1]\n",
    "#     auxInOut = texto[1:3]\n",
    "    return auxT\n",
    "    \n",
    "def getFalhasOut():\n",
    "#     auxInOut = texto[1:3]    \n",
    "    auxInOut = texto[2:3]    \n",
    "    return auxInOut\n",
    "\n",
    "getFalhasIn(), getFalhasOut()\n",
    "    "
   ]
  },
  {
   "cell_type": "markdown",
   "metadata": {},
   "source": [
    "### Gerando a lista dos valores de falha para cada porta "
   ]
  },
  {
   "cell_type": "code",
   "execution_count": 256,
   "metadata": {},
   "outputs": [
    {
     "name": "stdout",
     "output_type": "stream",
     "text": [
      "P0 [] P1 ['0'] P2 [] P3 [] P4 [] P5 [] P6 [] P7 [] P8 [] P9 [] P10 []\n"
     ]
    }
   ],
   "source": [
    "## Mapeando as falhas de Saída das portas\n",
    "x = getFalhasOut()[0][0:8]\n",
    "y = getFalhasOut()[0].split(' ')\n",
    "listFalhaP0 = []\n",
    "listFalhaP1 = []\n",
    "listFalhaP2 = []\n",
    "listFalhaP3 = []\n",
    "listFalhaP4 = []\n",
    "listFalhaP5 = []\n",
    "listFalhaP6 = []\n",
    "listFalhaP7 = []\n",
    "listFalhaP8 = []\n",
    "listFalhaP9 = []\n",
    "listFalhaP10 = []\n",
    "def getSaidasPortas():\n",
    "    for i in range(len(y)):\n",
    "        if y[i] == 'p0' and (y[i+3] == '1' or y[i+3] == '0' ) :  \n",
    "            listFalhaP0.append(y[i+3])\n",
    "        if y[i] == 'p0' and (y[i+2] == '1' or y[i+2] == '0' ) :  \n",
    "            listFalhaP0.append(y[i+2])\n",
    "        if y[i] == 'p1' and (y[i+3] == '1' or y[i+3] == '0' ) :  \n",
    "            listFalhaP1.append(y[i+3])\n",
    "        if y[i] == 'p1' and (y[i+2] == '1' or y[i+2] == '0' ) :  \n",
    "            listFalhaP1.append(y[i+2])\n",
    "        if y[i] == 'p2' and (y[i+3] == '1' or y[i+3] == '0' ) :  \n",
    "            listFalhaP2.append(y[i+3])\n",
    "        if y[i] == 'p2' and (y[i+2] == '1' or y[i+2] == '0' ) :  \n",
    "            listFalhaP2.append(y[i+2])\n",
    "        if y[i] == 'p3' and (y[i+3] == '1' or y[i+3] == '0' ) :  \n",
    "            listFalhaP3.append(y[i+3])\n",
    "        if y[i] == 'p3' and (y[i+2] == '1' or y[i+2] == '0' ) :  \n",
    "            listFalhaP3.append(y[i+2])\n",
    "        if y[i] == 'p4' and (y[i+3] == '1' or y[i+3] == '0' ) :  \n",
    "            listFalhaP4.append(y[i+3])\n",
    "        if y[i] == 'p4' and (y[i+2] == '1' or y[i+2] == '0' ) :  \n",
    "            listFalhaP4.append(y[i+2])\n",
    "        if y[i] == 'p5' and (y[i+3] == '1' or y[i+3] == '0' ) :  \n",
    "            listFalhaP5.append(y[i+3])\n",
    "        if y[i] == 'p5' and (y[i+2] == '1' or y[i+2] == '0' ) :  \n",
    "            listFalhaP5.append(y[i+2])\n",
    "        if y[i] == 'p6' and (y[i+3] == '1' or y[i+3] == '0' ) :  \n",
    "            listFalhaP6.append(y[i+3])\n",
    "        if y[i] == 'p6' and (y[i+2] == '1' or y[i+2] == '0' ) :  \n",
    "            listFalhaP6.append(y[i+2])\n",
    "        if y[i] == 'p7' and (y[i+3] == '1' or y[i+3] == '0' ) :  \n",
    "            listFalhaP7.append(y[i+3])\n",
    "        if y[i] == 'p7' and (y[i+2] == '1' or y[i+2] == '0' ) :  \n",
    "            listFalhaP7.append(y[i+2])\n",
    "        if y[i] == 'p8' and (y[i+3] == '1' or y[i+3] == '0' ) :  \n",
    "            listFalhaP8.append(y[i+3])\n",
    "        if y[i] == 'p8' and (y[i+2] == '1' or y[i+2] == '0' ) :  \n",
    "            listFalhaP8.append(y[i+2])\n",
    "        if y[i] == 'p9' and (y[i+3] == '1' or y[i+3] == '0' ) :  \n",
    "            listFalhaP9.append(y[i+3])\n",
    "        if y[i] == 'p9' and (y[i+2] == '1' or y[i+2] == '0' ) :  \n",
    "            listFalhaP9.append(y[i+2])\n",
    "        if y[i] == 'p10' and (y[i+3] == '1' or y[i+3] == '0' ) :  \n",
    "            listFalhaP10.append(y[i+3])\n",
    "        if y[i] == 'p10' and (y[i+2] == '1' or y[i+2] == '0' ) :  \n",
    "            listFalhaP10.append(y[i+2])\n",
    "getSaidasPortas()\n",
    "print('P0', listFalhaP0,'P1',listFalhaP1,'P2',listFalhaP2,'P3',listFalhaP3,'P4',listFalhaP4,'P5',listFalhaP5,'P6',listFalhaP6,'P7',listFalhaP7,'P8',listFalhaP8,'P9',listFalhaP9,'P10',listFalhaP10)\n"
   ]
  },
  {
   "cell_type": "markdown",
   "metadata": {},
   "source": [
    "### Pegando o circuito lógico como um mapa para aplicar a um Dataframe"
   ]
  },
  {
   "cell_type": "code",
   "execution_count": 257,
   "metadata": {},
   "outputs": [
    {
     "data": {
      "text/plain": [
       "{'p0 ': '( A  and B ) \\n', 'p1 ': '( p0  and B ) \\n', 'pF2': ' ( p1 )'}"
      ]
     },
     "execution_count": 257,
     "metadata": {},
     "output_type": "execute_result"
    }
   ],
   "source": [
    "listaPortas = []\n",
    "listaForm= []\n",
    "def mapeamentoCircuito():\n",
    "    lPort = []\n",
    "    for i in range(3, len(texto)):\n",
    "        lPort.append(texto[i][0:3])\n",
    "        listaPortas.append(texto[i][0:3])\n",
    "#     print(lPort)\n",
    "    lForm = []\n",
    "    for i in range(3, len(texto)):\n",
    "        lForm.append(texto[i][5:])\n",
    "        listaForm.append(texto[i][5:])\n",
    "#     print(lForm)\n",
    "    mapCircuito = dict(zip(lPort, lForm))\n",
    "#     print(\"Lista: \",mapCircuito)\n",
    "    return mapCircuito\n",
    "mapeamentoCircuito()"
   ]
  },
  {
   "cell_type": "markdown",
   "metadata": {},
   "source": [
    "# Pegando o circuito e colocando em um csv"
   ]
  },
  {
   "cell_type": "code",
   "execution_count": 258,
   "metadata": {},
   "outputs": [
    {
     "data": {
      "text/html": [
       "<div>\n",
       "<style scoped>\n",
       "    .dataframe tbody tr th:only-of-type {\n",
       "        vertical-align: middle;\n",
       "    }\n",
       "\n",
       "    .dataframe tbody tr th {\n",
       "        vertical-align: top;\n",
       "    }\n",
       "\n",
       "    .dataframe thead th {\n",
       "        text-align: right;\n",
       "    }\n",
       "</style>\n",
       "<table border=\"1\" class=\"dataframe\">\n",
       "  <thead>\n",
       "    <tr style=\"text-align: right;\">\n",
       "      <th></th>\n",
       "      <th>p0</th>\n",
       "      <th>p1</th>\n",
       "      <th>pF2</th>\n",
       "    </tr>\n",
       "  </thead>\n",
       "  <tbody>\n",
       "    <tr>\n",
       "      <th>0</th>\n",
       "      <td>( A  and B ) \\n</td>\n",
       "      <td>( p0  and B ) \\n</td>\n",
       "      <td>( p1 )</td>\n",
       "    </tr>\n",
       "  </tbody>\n",
       "</table>\n",
       "</div>"
      ],
      "text/plain": [
       "               p0                p1       pF2\n",
       "0  ( A  and B ) \\n  ( p0  and B ) \\n   ( p1 )"
      ]
     },
     "execution_count": 258,
     "metadata": {},
     "output_type": "execute_result"
    }
   ],
   "source": [
    "# Pegando o circuito e colocando em um CSV\n",
    "dfCircuito = pd.DataFrame(data=mapeamentoCircuito(), index=[0])\n",
    "dfCircuito"
   ]
  },
  {
   "cell_type": "markdown",
   "metadata": {},
   "source": [
    "# Colocando o circuito como uma lista para repassar para a função que irá gerar a tabela verdade"
   ]
  },
  {
   "cell_type": "code",
   "execution_count": 259,
   "metadata": {},
   "outputs": [
    {
     "data": {
      "text/plain": [
       "['( A  and B ) \\n', '( p0  and B ) \\n', ' ( p1 )']"
      ]
     },
     "execution_count": 259,
     "metadata": {},
     "output_type": "execute_result"
    }
   ],
   "source": [
    "# Colocando o circuito como uma lista para repassar para a função que irá gerar a tabela verdade\n",
    "listCircuito = dfCircuito.values.tolist()\n",
    "listCircuito = list(chain.from_iterable(listCircuito)) # gerando uma lista de uma lista de lista\n",
    "listCircuito"
   ]
  },
  {
   "cell_type": "markdown",
   "metadata": {},
   "source": [
    "## Aplicando cada fórmula nas portas"
   ]
  },
  {
   "cell_type": "code",
   "execution_count": 260,
   "metadata": {},
   "outputs": [
    {
     "name": "stdout",
     "output_type": "stream",
     "text": [
      "0    ( A  and B ) \\n\n",
      "Name: p0 , dtype: object\n",
      "0    ( A  and B ) \n",
      "Name: p0 , dtype: object\n",
      "0    ( A  and B ) \n",
      "Name: p0 , dtype: object\n",
      "0    ( p0  and B ) \\n\n",
      "Name: p1 , dtype: object\n",
      "0    ( ( A  and B )  and B ) \n",
      "Name: p1 , dtype: object\n",
      "0    ( ( A  and B )  and B ) \n",
      "Name: p1 , dtype: object\n",
      "0     ( p1 )\n",
      "Name: pF2, dtype: object\n",
      "0     ( p1 )\n",
      "Name: pF2, dtype: object\n",
      "0     ( ( p0  and B ) )\n",
      "Name: pF2, dtype: object\n"
     ]
    }
   ],
   "source": [
    "def aplicaClausula():\n",
    "    # Substituindo e gerando o circuito. Circuito de Teste\n",
    "    for feature in dfCircuito.columns:\n",
    "        for i in range(len(listCircuito)):\n",
    "            print(dfCircuito[feature])\n",
    "            dfCircuito[feature].replace(dfCircuito.columns[i], listCircuito[i], regex=True, inplace=True)\n",
    "            dfCircuito[feature].replace(\"\\n\", \"\", regex=True, inplace=True)            \n",
    "            dfCircuito[feature].replace(dfCircuito.columns[i], listCircuito[i], regex=True, inplace=True)\n",
    "            dfCircuito[feature].replace(\"\\n\", \"\", regex=True, inplace=True)            \n",
    "aplicaClausula()"
   ]
  },
  {
   "cell_type": "code",
   "execution_count": 244,
   "metadata": {},
   "outputs": [],
   "source": [
    "listCircuito[0] == dfCircuito.values[0][0]\n",
    "# dfCircuito.values[0][0]\n",
    "\n",
    "def aplicaClausulaComFalhas():\n",
    "    # Substituindo e gerando o circuito. Circuito de Teste\n",
    "    for feature in dfCircuito.columns:\n",
    "        for i in range(len(listCircuito)):\n",
    "            if len(listFalhaP0)>0:  # Se temos falhas de Saida em P0 --len(listFalhaP0)\n",
    "                dfCircuito[feature].replace(listCircuito[0], listFalhaP0[0], regex=True, inplace=True)\n",
    "                dfCircuito[feature].replace('p0', listFalhaP0[0], regex=True, inplace=True)\n",
    "#                 print('sucesso p0')\n",
    "\n",
    "            if len(listFalhaP1)>0:  # Se temos falhas de Saida em P1 --len(listFalhaP0)\n",
    "                dfCircuito[feature].replace(listCircuito[1], listFalhaP1[0], regex=True, inplace=True)\n",
    "                dfCircuito[feature].replace('p1', listFalhaP1[0], regex=True, inplace=True)\n",
    "\n",
    "            if len(listFalhaP2)>0:  # Se temos falhas de Saida em P1 --len(listFalhaP0)\n",
    "                dfCircuito[feature].replace(listCircuito[1], listFalhaP2[0], regex=True, inplace=True)\n",
    "                dfCircuito[feature].replace('p1', listFalhaP1[0], regex=True, inplace=True)\n",
    "                \n",
    "            if len(listFalhaP3)>0:  # Se temos falhas de Saida em P1 --len(listFalhaP0)\n",
    "                dfCircuito[feature].replace(listCircuito[1], listFalhaP3[0], regex=True, inplace=True)\n",
    "                dfCircuito[feature].replace('p1', listFalhaP1[0], regex=True, inplace=True)\n",
    "                \n",
    "            if len(listFalhaP4)>0:  # Se temos falhas de Saida em P1 --len(listFalhaP0)\n",
    "                dfCircuito[feature].replace(listCircuito[1], listFalhaP4[0], regex=True, inplace=True)\n",
    "                dfCircuito[feature].replace('p1', listFalhaP1[0], regex=True, inplace=True)\n",
    "            if len(listFalhaP5)>0:  # Se temos falhas de Saida em P1 --len(listFalhaP0)\n",
    "                dfCircuito[feature].replace(listCircuito[1], listFalhaP5[0], regex=True, inplace=True)\n",
    "                dfCircuito[feature].replace('p1', listFalhaP1[0], regex=True, inplace=True)\n",
    "                \n",
    "            if len(listFalhaP6)>0:  # Se temos falhas de Saida em P1 --len(listFalhaP0)\n",
    "                dfCircuito[feature].replace(listCircuito[1], listFalhaP6[0], regex=True, inplace=True)\n",
    "                dfCircuito[feature].replace('p1', listFalhaP1[0], regex=True, inplace=True)\n",
    "                \n",
    "            if len(listFalhaP7)>0:  # Se temos falhas de Saida em P1 --len(listFalhaP0)\n",
    "                dfCircuito[feature].replace(listCircuito[1], listFalhaP7[0], regex=True, inplace=True)\n",
    "                dfCircuito[feature].replace('p1', listFalhaP1[0], regex=True, inplace=True)\n",
    "                \n",
    "            if len(listFalhaP8)>0:  # Se temos falhas de Saida em P1 --len(listFalhaP0)\n",
    "                dfCircuito[feature].replace(listCircuito[1], listFalhaP8[0], regex=True, inplace=True)\n",
    "                dfCircuito[feature].replace('p1', listFalhaP1[0], regex=True, inplace=True)\n",
    "\n",
    "            if len(listFalhaP9)>0:  # Se temos falhas de Saida em P1 --len(listFalhaP0)\n",
    "                dfCircuito[feature].replace(listCircuito[1], listFalhaP9[0], regex=True, inplace=True)\n",
    "                dfCircuito[feature].replace('p1', listFalhaP1[0], regex=True, inplace=True)\n",
    "\n",
    "            if len(listFalhaP10)>0:  # Se temos falhas de Saida em P1 --len(listFalhaP0)\n",
    "                dfCircuito[feature].replace(listCircuito[1], listFalhaP10[0], regex=True, inplace=True)\n",
    "                dfCircuito[feature].replace('p1', listFalhaP1[0], regex=True, inplace=True)\n"
   ]
  },
  {
   "cell_type": "code",
   "execution_count": 234,
   "metadata": {},
   "outputs": [
    {
     "name": "stdout",
     "output_type": "stream",
     "text": [
      "p0  = ( A  and B ) \\n', 'p1  = ( p0  and B ) \\n', 'pF2 =  ( p1 )', 'p0  = ( A  and B ) \\n', 'p1  = ( p0  and B ) \\n', 'pF2 =  ( p1 )', 'p0  = ( A  and B ) \\n', 'p1  = ( p0  and B ) \\n', 'pF2 =  ( p1 )\n"
     ]
    }
   ],
   "source": [
    "circuitoOriginalVar = []\n",
    "circuitoOriginal = []\n",
    "# Gerando o circuito 1 original\n",
    "circuitoOriginalVar.append('var = ')          \n",
    "for i in range(len(var)):\n",
    "    circuitoOriginalVar.append(var[i])          \n",
    "for feature in dfCircuito.columns:\n",
    "    for i in range(len(listCircuito)):\n",
    "        circuitoOriginal.append(dfCircuito.columns[i]+' = '+ listCircuito[i])  \n",
    "        \n",
    "        \n",
    "circuitoOriginalVar = str(circuitoOriginalVar).replace(\"'\", '').replace(\"  \", ' ').replace(\"[var\", 'var ').replace(' , ',' [ ').replace('\")', '').replace(\"('\", '')\n",
    "c = str(circuitoOriginal).replace(\"['\", '').replace(\"\\n\", '').replace(\"']\", '') \n",
    "print(c)\n",
    "    "
   ]
  },
  {
   "cell_type": "markdown",
   "metadata": {},
   "source": [
    "## Salvando o csv com o circuito"
   ]
  },
  {
   "cell_type": "code",
   "execution_count": 235,
   "metadata": {},
   "outputs": [
    {
     "name": "stdout",
     "output_type": "stream",
     "text": [
      "0    ( A  and B ) \n",
      "Name: p0 , dtype: object\n",
      "0    ( A  and B ) \n",
      "Name: p0 , dtype: object\n",
      "0    ( A  and B ) \n",
      "Name: p0 , dtype: object\n",
      "0    ( ( A  and B )  and B ) \n",
      "Name: p1 , dtype: object\n",
      "0    ( ( A  and B )  and B ) \n",
      "Name: p1 , dtype: object\n",
      "0    ( ( A  and B )  and B ) \n",
      "Name: p1 , dtype: object\n",
      "0     ( ( p0  and B ) )\n",
      "Name: pF2, dtype: object\n",
      "0     ( ( ( A  and B )  and B ) )\n",
      "Name: pF2, dtype: object\n",
      "0     ( ( ( A  and B )  and B ) )\n",
      "Name: pF2, dtype: object\n"
     ]
    }
   ],
   "source": [
    "aplicaClausulaComFalhas()\n",
    "dfCircuito.to_csv('circuito4ComFalha.csv', index=False)\n",
    "aplicaClausula()\n",
    "dfCircuito.to_csv('circuito4SemFalha.csv', index=False)"
   ]
  },
  {
   "cell_type": "markdown",
   "metadata": {},
   "source": [
    "## Função para gerar a tabela verdade. "
   ]
  },
  {
   "cell_type": "code",
   "execution_count": 236,
   "metadata": {},
   "outputs": [],
   "source": [
    "### Informe o noem do arquivo para saída do Circuito\n",
    "saidaCircuitoTxt = 'saidaCircuitoTxt1'\n",
    "saidaCircuitoCsv = 'saidaCircuitoCSV1'"
   ]
  },
  {
   "cell_type": "code",
   "execution_count": 237,
   "metadata": {},
   "outputs": [],
   "source": [
    "class Gob(object):\n",
    "    pass\n",
    "\n",
    "class Truths(object):\n",
    "    def __init__(self, base=None, phrases=None, ints=True):\n",
    "        if not base:\n",
    "            raise Exception('Base items are required')\n",
    "        self.base = base\n",
    "        self.phrases = phrases or []\n",
    "        self.ints = ints\n",
    "\n",
    "        # generate the sets of booleans for the bases\n",
    "        self.base_conditions = list(itertools.product([False, True],\n",
    "                                                      repeat=len(base)))\n",
    "\n",
    "        # regex to match whole words defined in self.bases\n",
    "        # used to add object context to variables in self.phrases\n",
    "        self.p = re.compile(r'(?<!\\w)(' + '|'.join(self.base) + ')(?!\\w)')\n",
    "\n",
    "    def calculate(self, *args):\n",
    "        # store bases in an object context\n",
    "        g = Gob()\n",
    "        for a, b in zip(self.base, args):\n",
    "            setattr(g, a, b)\n",
    "\n",
    "        # add object context to any base variables in self.phrases\n",
    "        # then evaluate each\n",
    "        eval_phrases = []\n",
    "        for item in self.phrases:\n",
    "            item = self.p.sub(r'g.\\1', item)\n",
    "            eval_phrases.append(eval(item))\n",
    "\n",
    "        # add the bases and evaluated phrases to create a single row\n",
    "        row = [getattr(g, b) for b in self.base] + eval_phrases\n",
    "        if self.ints:\n",
    "            return [int(item) for item in row]\n",
    "        else:\n",
    "            return row\n",
    "\n",
    "    def __str__(self):\n",
    "        t = PrettyTable(self.base + self.phrases)\n",
    "        for conditions_set in self.base_conditions:\n",
    "            t.add_row(self.calculate(*conditions_set))\n",
    "            \n",
    "        # Criando e escrevendo em arquivos de texto (modo 'w').\n",
    "            arquivo = open(saidaCircuitoTxt+'.txt','w')\n",
    "            arquivo.write(str(t))\n",
    "            arquivo.close()\n",
    "            df = pd.read_html(t.get_html_string())[0]\n",
    "            df.columns = df.iloc[0]\n",
    "            df = df.reindex(df.index.drop(0))\n",
    "            df.to_csv(saidaCircuitoCsv+\".csv\" , index=False)\n",
    "        return str(t)# t.get_html_string()  #str(t)\n"
   ]
  },
  {
   "cell_type": "markdown",
   "metadata": {},
   "source": [
    "# Colocando o circuito como uma lista para repassar para a função que irá gerar a tabela verdade"
   ]
  },
  {
   "cell_type": "code",
   "execution_count": 238,
   "metadata": {},
   "outputs": [
    {
     "data": {
      "text/plain": [
       "['( A  and B ) ', '( ( A  and B )  and B ) ', ' ( ( ( A  and B )  and B ) )']"
      ]
     },
     "execution_count": 238,
     "metadata": {},
     "output_type": "execute_result"
    }
   ],
   "source": [
    "# Colocando o circuito como uma lista para repassar para a função que irá gerar a tabela verdade\n",
    "listCircuito = dfCircuito.values.tolist()\n",
    "listCircuito = list(chain.from_iterable(listCircuito))\n",
    "listCircuito"
   ]
  },
  {
   "cell_type": "markdown",
   "metadata": {},
   "source": [
    "#### Variáveis do circuito, regras de cada porta.\n",
    "\n",
    "#### Substituindo a falha no circuito. "
   ]
  },
  {
   "cell_type": "code",
   "execution_count": 245,
   "metadata": {},
   "outputs": [],
   "source": [
    "def AplicarFalhaCircuito():\n",
    "    # O passo trivial é que se existir mais portas no listCircuito ele será mapeado e o len(listCircuito) não excederá o index\n",
    "    for i in range(len(listCircuito)):\n",
    "        if len(listFalhaP0)>0:\n",
    "            listCircuito[0] = listFalhaP0[0]\n",
    "        if len(listFalhaP1)>0:\n",
    "            listCircuito[1] = listFalhaP1[0]\n",
    "        if len(listFalhaP2)>0:\n",
    "            listCircuito[2] = listFalhaP2[0]\n",
    "        if len(listFalhaP3)>0:\n",
    "            listCircuito[3] = listFalhaP3[0]\n",
    "        if len(listFalhaP4)>0:\n",
    "            listCircuito[4] = listFalhaP4[0]\n",
    "        if len(listFalhaP5)>0:\n",
    "            listCircuito[5] = listFalhaP5[0]\n",
    "        if len(listFalhaP6)>0:\n",
    "            listCircuito[6] = listFalhaP6[0]\n",
    "        if len(listFalhaP7)>0:\n",
    "            listCircuito[7] = listFalhaP7[0]\n",
    "        if len(listFalhaP8)>0:\n",
    "            listCircuito[8] = listFalhaP8[0]\n",
    "        if len(listFalhaP9)>0:\n",
    "            listCircuito[9] = listFalhaP9[0]\n",
    "        if len(listFalhaP10)>0:\n",
    "            listCircuito[10] = listFalhaP10[0]\n",
    "\n",
    "#         print(listCircuito)\n",
    "#### Funções que geram as falhas do circuito.\n",
    "aplicaClausulaComFalhas()\n",
    "AplicarFalhaCircuito()\n",
    "data2 = pd.read_csv('tv4ComFalha.csv')\n",
    "data2.head(10)  # vendo os primeiros valores da tabela verdade"
   ]
  },
  {
   "cell_type": "code",
   "execution_count": 246,
   "metadata": {},
   "outputs": [
    {
     "name": "stdout",
     "output_type": "stream",
     "text": [
      "['A', 'B', 'C'] ['( A  and B ) ', '0', ' ( ( ( A  and B )  and B ) )'] ['0']\n"
     ]
    }
   ],
   "source": [
    "print(var, listCircuito, listFalhaP1)"
   ]
  },
  {
   "cell_type": "markdown",
   "metadata": {},
   "source": [
    "### Tabela verdade com cada porta lógica"
   ]
  },
  {
   "cell_type": "markdown",
   "metadata": {},
   "source": [
    "### As colunas da tabela indicam as variáveis e as Portas do Circuito. Caso a porta esteja presa na saída a coluna representará o número que ela está rpesa"
   ]
  },
  {
   "cell_type": "code",
   "execution_count": 247,
   "metadata": {},
   "outputs": [
    {
     "name": "stdout",
     "output_type": "stream",
     "text": [
      "+---+---+---+---------------+---+------------------------------+\n",
      "| A | B | C | ( A  and B )  | 0 |  ( ( ( A  and B )  and B ) ) |\n",
      "+---+---+---+---------------+---+------------------------------+\n",
      "| 0 | 0 | 0 |       0       | 0 |              0               |\n",
      "| 0 | 0 | 1 |       0       | 0 |              0               |\n",
      "| 0 | 1 | 0 |       0       | 0 |              0               |\n",
      "| 0 | 1 | 1 |       0       | 0 |              0               |\n",
      "| 1 | 0 | 0 |       0       | 0 |              0               |\n",
      "| 1 | 0 | 1 |       0       | 0 |              0               |\n",
      "| 1 | 1 | 0 |       1       | 0 |              1               |\n",
      "| 1 | 1 | 1 |       1       | 0 |              1               |\n",
      "+---+---+---+---------------+---+------------------------------+\n"
     ]
    }
   ],
   "source": [
    "print( Truths(var, listCircuito, ints=True) )"
   ]
  },
  {
   "cell_type": "markdown",
   "metadata": {},
   "source": [
    "### Salvando a tabela verdade do circuito lógico"
   ]
  },
  {
   "cell_type": "code",
   "execution_count": 248,
   "metadata": {},
   "outputs": [
    {
     "data": {
      "text/html": [
       "<div>\n",
       "<style scoped>\n",
       "    .dataframe tbody tr th:only-of-type {\n",
       "        vertical-align: middle;\n",
       "    }\n",
       "\n",
       "    .dataframe tbody tr th {\n",
       "        vertical-align: top;\n",
       "    }\n",
       "\n",
       "    .dataframe thead th {\n",
       "        text-align: right;\n",
       "    }\n",
       "</style>\n",
       "<table border=\"1\" class=\"dataframe\">\n",
       "  <thead>\n",
       "    <tr style=\"text-align: right;\">\n",
       "      <th></th>\n",
       "      <th>A</th>\n",
       "      <th>B</th>\n",
       "      <th>C</th>\n",
       "      <th>( A and B )</th>\n",
       "      <th>0</th>\n",
       "      <th>( 0 )</th>\n",
       "    </tr>\n",
       "  </thead>\n",
       "  <tbody>\n",
       "    <tr>\n",
       "      <th>0</th>\n",
       "      <td>0</td>\n",
       "      <td>0</td>\n",
       "      <td>0</td>\n",
       "      <td>0</td>\n",
       "      <td>0</td>\n",
       "      <td>0</td>\n",
       "    </tr>\n",
       "    <tr>\n",
       "      <th>1</th>\n",
       "      <td>0</td>\n",
       "      <td>0</td>\n",
       "      <td>1</td>\n",
       "      <td>0</td>\n",
       "      <td>0</td>\n",
       "      <td>0</td>\n",
       "    </tr>\n",
       "    <tr>\n",
       "      <th>2</th>\n",
       "      <td>0</td>\n",
       "      <td>1</td>\n",
       "      <td>0</td>\n",
       "      <td>0</td>\n",
       "      <td>0</td>\n",
       "      <td>0</td>\n",
       "    </tr>\n",
       "    <tr>\n",
       "      <th>3</th>\n",
       "      <td>0</td>\n",
       "      <td>1</td>\n",
       "      <td>1</td>\n",
       "      <td>0</td>\n",
       "      <td>0</td>\n",
       "      <td>0</td>\n",
       "    </tr>\n",
       "    <tr>\n",
       "      <th>4</th>\n",
       "      <td>1</td>\n",
       "      <td>0</td>\n",
       "      <td>0</td>\n",
       "      <td>0</td>\n",
       "      <td>0</td>\n",
       "      <td>0</td>\n",
       "    </tr>\n",
       "    <tr>\n",
       "      <th>5</th>\n",
       "      <td>1</td>\n",
       "      <td>0</td>\n",
       "      <td>1</td>\n",
       "      <td>0</td>\n",
       "      <td>0</td>\n",
       "      <td>0</td>\n",
       "    </tr>\n",
       "    <tr>\n",
       "      <th>6</th>\n",
       "      <td>1</td>\n",
       "      <td>1</td>\n",
       "      <td>0</td>\n",
       "      <td>1</td>\n",
       "      <td>0</td>\n",
       "      <td>0</td>\n",
       "    </tr>\n",
       "    <tr>\n",
       "      <th>7</th>\n",
       "      <td>1</td>\n",
       "      <td>1</td>\n",
       "      <td>1</td>\n",
       "      <td>1</td>\n",
       "      <td>0</td>\n",
       "      <td>0</td>\n",
       "    </tr>\n",
       "  </tbody>\n",
       "</table>\n",
       "</div>"
      ],
      "text/plain": [
       "   A  B  C  ( A and B )  0  ( 0 )\n",
       "0  0  0  0            0  0      0\n",
       "1  0  0  1            0  0      0\n",
       "2  0  1  0            0  0      0\n",
       "3  0  1  1            0  0      0\n",
       "4  1  0  0            0  0      0\n",
       "5  1  0  1            0  0      0\n",
       "6  1  1  0            1  0      0\n",
       "7  1  1  1            1  0      0"
      ]
     },
     "execution_count": 248,
     "metadata": {},
     "output_type": "execute_result"
    }
   ],
   "source": [
    "data = pd.read_csv('tv4SemFalha.csv')\n",
    "data.head(10)  # vendo os primeiros valores da tabela verdade"
   ]
  },
  {
   "cell_type": "markdown",
   "metadata": {},
   "source": [
    "## Tabela verdade do circuito com falha. "
   ]
  },
  {
   "cell_type": "code",
   "execution_count": null,
   "metadata": {},
   "outputs": [],
   "source": []
  },
  {
   "cell_type": "code",
   "execution_count": null,
   "metadata": {},
   "outputs": [],
   "source": []
  },
  {
   "cell_type": "markdown",
   "metadata": {},
   "source": [
    "## Salvando o circuito lógico paranteseado"
   ]
  },
  {
   "cell_type": "code",
   "execution_count": 249,
   "metadata": {},
   "outputs": [
    {
     "name": "stdout",
     "output_type": "stream",
     "text": [
      "Lista:  {'p0 ': '( A  and B ) ', 'p1 ': '0', 'pF2': ' ( ( ( A  and B )  and B ) )'}\n"
     ]
    }
   ],
   "source": [
    "\n",
    "mapCircuito = dict(zip(listaPortas, listCircuito))\n",
    "print(\"Lista: \",mapCircuito)\n",
    "#  Escrevendo a forma lógica do circuito paranteseada no formato de entrada\n",
    "logicForm = open('logicFormCircuitFinal.txt','w')\n",
    "logicForm.write(\"var = \" + str(var))\n",
    "logicForm.write(\"\\n\")\n",
    "logicForm.write(str(mapCircuito))\n",
    "logicForm.close()"
   ]
  },
  {
   "cell_type": "code",
   "execution_count": 250,
   "metadata": {},
   "outputs": [],
   "source": [
    "#  Escrevendo a forma lógica do circuito paranteseada\n",
    "logicForm = open('TVCircuit.txt','w')\n",
    "logicForm.write(str( (str(listCircuito),str(data.values)  ) ))\n",
    "logicForm.close()"
   ]
  },
  {
   "cell_type": "code",
   "execution_count": null,
   "metadata": {},
   "outputs": [],
   "source": []
  },
  {
   "cell_type": "code",
   "execution_count": null,
   "metadata": {},
   "outputs": [],
   "source": []
  }
 ],
 "metadata": {
  "kernelspec": {
   "display_name": "Python 3",
   "language": "python",
   "name": "python3"
  },
  "language_info": {
   "codemirror_mode": {
    "name": "ipython",
    "version": 3
   },
   "file_extension": ".py",
   "mimetype": "text/x-python",
   "name": "python",
   "nbconvert_exporter": "python",
   "pygments_lexer": "ipython3",
   "version": "3.6.5"
  }
 },
 "nbformat": 4,
 "nbformat_minor": 2
}
