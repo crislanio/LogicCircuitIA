{
 "cells": [
  {
   "cell_type": "code",
   "execution_count": 1,
   "metadata": {},
   "outputs": [],
   "source": [
    "from prettytable import PrettyTable, from_csv\n",
    "import pandas as pd\n",
    "import numpy as np\n",
    "import itertools\n",
    "from itertools import chain\n",
    "import numpy\n",
    "import lxml\n",
    "import csv\n",
    "import re"
   ]
  },
  {
   "cell_type": "markdown",
   "metadata": {},
   "source": [
    "#### Descrição do circuito lógico. var indica as variáveis de entrada, coloque as variáveis de entrada em uma lista separado por vírgula e sem espaço.\n",
    "#### Fin representa as falhas de entrada para cada porta do Circuito, coloque em uma lista cada porta e sua falha, por exemplo\n",
    "\n",
    "###### p0 = [ A = 0 ] indica que p0 está presa em 0 para a Entrada no A, caso a porta não possua falhas de entrada coloque uma lista vazia mesmo assim, por exemplo p1 = [  ]  indica que p1 não tem falhas. Lembrando que é necessário colocar espaço em cada caractere.\n",
    "\n",
    "###### Fout representa falhas de saída para as portas, no caso só coloque na lista as postas que tem falha e o valor, no exemplo temos p1=0 que\n",
    "###### indica que p1 está preso na saída da porta por 0.\n",
    "\n",
    "###### Em seguida temos a representação das portas com sua entrada lógica. Por exemplo, p0 = ( A and B ). É necessário coloca colocar espaço em cada caractere de entrada.\n",
    "\n",
    "\n",
    "######  var = [ A, B, C ] \n",
    "###### Fin = [ p0 = [ A = 0 ] , p1 = [ ] , pF2 = [ ] ]\n",
    "###### Fout = [ p1 = 0 ]\n",
    "###### p0 = ( A  and B ) \n",
    "###### p1 = ( p0  and B ) \n",
    "###### pF2 = ( p1 )"
   ]
  },
  {
   "cell_type": "markdown",
   "metadata": {},
   "source": [
    "## Circuito gerado pelo Algoritmo"
   ]
  },
  {
   "cell_type": "code",
   "execution_count": 2,
   "metadata": {},
   "outputs": [],
   "source": [
    "f2 =  open(\"logicFormCircuitFinal.txt\",'r')\n",
    "texto2 = f2.readlines()"
   ]
  },
  {
   "cell_type": "markdown",
   "metadata": {},
   "source": [
    "### Pegando as variáveis do circuito gerado pelo modelo"
   ]
  },
  {
   "cell_type": "code",
   "execution_count": 7,
   "metadata": {},
   "outputs": [
    {
     "name": "stdout",
     "output_type": "stream",
     "text": [
      "['var', '=', 'A,', '', 'B,', '', 'C'] 7\n"
     ]
    }
   ],
   "source": [
    "def tratamentoFileModel():\n",
    "    a2 =texto2[0].replace('=', '').replace('var', '').replace('\\n', '').replace(\"''\", '').replace(\" \", '').replace(\"[\", '').replace(\"]\", '').replace(\",\", '')\n",
    "    a3=str(texto2[0][0:19].split(',')).replace('\"', '').replace('[', '').replace(']', '').replace('(', '').replace(\"'\", '').split(\" \")\n",
    "    print(a3, len(a3))\n",
    "    var2 = []\n",
    "    for i in range(len(a3)):\n",
    "        if a3[i] =='' or a3[i] =='var' or a3[i] =='=':\n",
    "            pass\n",
    "        else:\n",
    "            var2.append(a3[i])\n",
    "tratamentoFileModel()"
   ]
  },
  {
   "cell_type": "markdown",
   "metadata": {},
   "source": [
    "## 1. Lendo o circuito de teste"
   ]
  },
  {
   "cell_type": "code",
   "execution_count": 8,
   "metadata": {},
   "outputs": [
    {
     "name": "stdout",
     "output_type": "stream",
     "text": [
      "['var = [ A, B, C ] \\n', 'Fin = [ p0 = [ A = 0 ] , p1 = [ B = 0 ] , pF2 = [ ] ]\\n', 'Fout = [ p1 = 0 ]\\n', 'p0 = ( A  and B ) \\n', 'p1 = ( p0  and B ) \\n', 'pF2 = ( p1 )'] <class 'list'> 6\n"
     ]
    }
   ],
   "source": [
    "f = open(\"circuito4.txt\",'r')\n",
    "# logicFormCircuit\n",
    "texto = f.readlines()\n",
    "print(texto, type(texto), len(texto))"
   ]
  },
  {
   "cell_type": "markdown",
   "metadata": {},
   "source": [
    "### Pegando variáveis do Circuito"
   ]
  },
  {
   "cell_type": "code",
   "execution_count": 9,
   "metadata": {},
   "outputs": [
    {
     "data": {
      "text/plain": [
       "['A', 'B', 'C']"
      ]
     },
     "execution_count": 9,
     "metadata": {},
     "output_type": "execute_result"
    }
   ],
   "source": [
    "var = []\n",
    "def getVarCircuit ():\n",
    "    a =texto[0].replace('=', '').replace('var', '').replace('\\n', '').replace(\"''\", '').replace(\" \", '').replace(\"[\", '').replace(\"]\", '').replace(\",\", '')\n",
    "    ## Lista de variáveis\n",
    "    var2 = []\n",
    "    for i in range(len(a)):\n",
    "#         print(a[i].split(' '))\n",
    "        var2.append(a[i])\n",
    "        var.append(a[i])        \n",
    "    return var2\n",
    "getVarCircuit()"
   ]
  },
  {
   "cell_type": "markdown",
   "metadata": {},
   "source": [
    "## Pegando falhas de entrada e saída do circuito"
   ]
  },
  {
   "cell_type": "code",
   "execution_count": 10,
   "metadata": {},
   "outputs": [
    {
     "data": {
      "text/plain": [
       "('Fin = [ p0 = [ A = 0 ] , p1 = [ B = 0 ] , pF2 = [ ] ]\\n',\n",
       " ['Fout = [ p1 = 0 ]\\n'])"
      ]
     },
     "execution_count": 10,
     "metadata": {},
     "output_type": "execute_result"
    }
   ],
   "source": [
    "\n",
    "listaPortasFalhasIn = []\n",
    "listaPortasFalhasOut = []\n",
    "def getFalhasIn():\n",
    "    auxT = texto[1]\n",
    "#     auxInOut = texto[1:3]\n",
    "    return auxT\n",
    "    \n",
    "def getFalhasOut():\n",
    "#     auxInOut = texto[1:3]    \n",
    "    auxInOut = texto[2:3]    \n",
    "    return auxInOut\n",
    "\n",
    "getFalhasIn(), getFalhasOut()\n",
    "    "
   ]
  },
  {
   "cell_type": "markdown",
   "metadata": {},
   "source": [
    "### Gerando a lista dos valores de falha para cada porta "
   ]
  },
  {
   "cell_type": "code",
   "execution_count": 11,
   "metadata": {},
   "outputs": [
    {
     "name": "stdout",
     "output_type": "stream",
     "text": [
      "P0 [] P1 ['0'] P2 [] P3 [] P4 [] P5 [] P6 [] P7 [] P8 [] P9 [] P10 []\n"
     ]
    }
   ],
   "source": [
    "## Mapeando as falhas de Saída das portas\n",
    "x = getFalhasOut()[0][0:8]\n",
    "y = getFalhasOut()[0].split(' ')\n",
    "listFalhaP0 = []\n",
    "listFalhaP1 = []\n",
    "listFalhaP2 = []\n",
    "listFalhaP3 = []\n",
    "listFalhaP4 = []\n",
    "listFalhaP5 = []\n",
    "listFalhaP6 = []\n",
    "listFalhaP7 = []\n",
    "listFalhaP8 = []\n",
    "listFalhaP9 = []\n",
    "listFalhaP10 = []\n",
    "def getSaidasPortas():\n",
    "    for i in range(len(y)):\n",
    "        if y[i] == 'p0' and (y[i+3] == '1' or y[i+3] == '0' ) :  \n",
    "            listFalhaP0.append(y[i+3])\n",
    "        if y[i] == 'p0' and (y[i+2] == '1' or y[i+2] == '0' ) :  \n",
    "            listFalhaP0.append(y[i+2])\n",
    "        if y[i] == 'p1' and (y[i+3] == '1' or y[i+3] == '0' ) :  \n",
    "            listFalhaP1.append(y[i+3])\n",
    "        if y[i] == 'p1' and (y[i+2] == '1' or y[i+2] == '0' ) :  \n",
    "            listFalhaP1.append(y[i+2])\n",
    "        if y[i] == 'p2' and (y[i+3] == '1' or y[i+3] == '0' ) :  \n",
    "            listFalhaP2.append(y[i+3])\n",
    "        if y[i] == 'p2' and (y[i+2] == '1' or y[i+2] == '0' ) :  \n",
    "            listFalhaP2.append(y[i+2])\n",
    "        if y[i] == 'p3' and (y[i+3] == '1' or y[i+3] == '0' ) :  \n",
    "            listFalhaP3.append(y[i+3])\n",
    "        if y[i] == 'p3' and (y[i+2] == '1' or y[i+2] == '0' ) :  \n",
    "            listFalhaP3.append(y[i+2])\n",
    "        if y[i] == 'p4' and (y[i+3] == '1' or y[i+3] == '0' ) :  \n",
    "            listFalhaP4.append(y[i+3])\n",
    "        if y[i] == 'p4' and (y[i+2] == '1' or y[i+2] == '0' ) :  \n",
    "            listFalhaP4.append(y[i+2])\n",
    "        if y[i] == 'p5' and (y[i+3] == '1' or y[i+3] == '0' ) :  \n",
    "            listFalhaP5.append(y[i+3])\n",
    "        if y[i] == 'p5' and (y[i+2] == '1' or y[i+2] == '0' ) :  \n",
    "            listFalhaP5.append(y[i+2])\n",
    "        if y[i] == 'p6' and (y[i+3] == '1' or y[i+3] == '0' ) :  \n",
    "            listFalhaP6.append(y[i+3])\n",
    "        if y[i] == 'p6' and (y[i+2] == '1' or y[i+2] == '0' ) :  \n",
    "            listFalhaP6.append(y[i+2])\n",
    "        if y[i] == 'p7' and (y[i+3] == '1' or y[i+3] == '0' ) :  \n",
    "            listFalhaP7.append(y[i+3])\n",
    "        if y[i] == 'p7' and (y[i+2] == '1' or y[i+2] == '0' ) :  \n",
    "            listFalhaP7.append(y[i+2])\n",
    "        if y[i] == 'p8' and (y[i+3] == '1' or y[i+3] == '0' ) :  \n",
    "            listFalhaP8.append(y[i+3])\n",
    "        if y[i] == 'p8' and (y[i+2] == '1' or y[i+2] == '0' ) :  \n",
    "            listFalhaP8.append(y[i+2])\n",
    "        if y[i] == 'p9' and (y[i+3] == '1' or y[i+3] == '0' ) :  \n",
    "            listFalhaP9.append(y[i+3])\n",
    "        if y[i] == 'p9' and (y[i+2] == '1' or y[i+2] == '0' ) :  \n",
    "            listFalhaP9.append(y[i+2])\n",
    "        if y[i] == 'p10' and (y[i+3] == '1' or y[i+3] == '0' ) :  \n",
    "            listFalhaP10.append(y[i+3])\n",
    "        if y[i] == 'p10' and (y[i+2] == '1' or y[i+2] == '0' ) :  \n",
    "            listFalhaP10.append(y[i+2])\n",
    "getSaidasPortas()\n",
    "print('P0', listFalhaP0,'P1',listFalhaP1,'P2',listFalhaP2,'P3',listFalhaP3,'P4',listFalhaP4,'P5',listFalhaP5,'P6',listFalhaP6,'P7',listFalhaP7,'P8',listFalhaP8,'P9',listFalhaP9,'P10',listFalhaP10)\n"
   ]
  },
  {
   "cell_type": "markdown",
   "metadata": {},
   "source": [
    "### Pegando o circuito lógico como um mapa para aplicar a um Dataframe"
   ]
  },
  {
   "cell_type": "code",
   "execution_count": 12,
   "metadata": {},
   "outputs": [
    {
     "data": {
      "text/plain": [
       "{'p0 ': '( A  and B ) \\n', 'p1 ': '( p0  and B ) \\n', 'pF2': ' ( p1 )'}"
      ]
     },
     "execution_count": 12,
     "metadata": {},
     "output_type": "execute_result"
    }
   ],
   "source": [
    "listaPortas = []\n",
    "listaForm= []\n",
    "def mapeamentoCircuito():\n",
    "    lPort = []\n",
    "    for i in range(3, len(texto)):\n",
    "        lPort.append(texto[i][0:3])\n",
    "        listaPortas.append(texto[i][0:3])\n",
    "#     print(lPort)\n",
    "    lForm = []\n",
    "    for i in range(3, len(texto)):\n",
    "        lForm.append(texto[i][5:])\n",
    "        listaForm.append(texto[i][5:])\n",
    "#     print(lForm)\n",
    "    mapCircuito = dict(zip(lPort, lForm))\n",
    "#     print(\"Lista: \",mapCircuito)\n",
    "    return mapCircuito\n",
    "mapeamentoCircuito()"
   ]
  },
  {
   "cell_type": "markdown",
   "metadata": {},
   "source": [
    "# Pegando o circuito e colocando em um csv"
   ]
  },
  {
   "cell_type": "code",
   "execution_count": 13,
   "metadata": {},
   "outputs": [
    {
     "data": {
      "text/html": [
       "<div>\n",
       "<style scoped>\n",
       "    .dataframe tbody tr th:only-of-type {\n",
       "        vertical-align: middle;\n",
       "    }\n",
       "\n",
       "    .dataframe tbody tr th {\n",
       "        vertical-align: top;\n",
       "    }\n",
       "\n",
       "    .dataframe thead th {\n",
       "        text-align: right;\n",
       "    }\n",
       "</style>\n",
       "<table border=\"1\" class=\"dataframe\">\n",
       "  <thead>\n",
       "    <tr style=\"text-align: right;\">\n",
       "      <th></th>\n",
       "      <th>p0</th>\n",
       "      <th>p1</th>\n",
       "      <th>pF2</th>\n",
       "    </tr>\n",
       "  </thead>\n",
       "  <tbody>\n",
       "    <tr>\n",
       "      <th>0</th>\n",
       "      <td>( A  and B ) \\n</td>\n",
       "      <td>( p0  and B ) \\n</td>\n",
       "      <td>( p1 )</td>\n",
       "    </tr>\n",
       "  </tbody>\n",
       "</table>\n",
       "</div>"
      ],
      "text/plain": [
       "               p0                p1       pF2\n",
       "0  ( A  and B ) \\n  ( p0  and B ) \\n   ( p1 )"
      ]
     },
     "execution_count": 13,
     "metadata": {},
     "output_type": "execute_result"
    }
   ],
   "source": [
    "# Pegando o circuito e colocando em um CSV\n",
    "dfCircuito = pd.DataFrame(data=mapeamentoCircuito(), index=[0])\n",
    "dfCircuito"
   ]
  },
  {
   "cell_type": "markdown",
   "metadata": {},
   "source": [
    "# Colocando o circuito como uma lista para repassar para a função que irá gerar a tabela verdade"
   ]
  },
  {
   "cell_type": "code",
   "execution_count": 14,
   "metadata": {},
   "outputs": [
    {
     "data": {
      "text/plain": [
       "['( A  and B ) \\n', '( p0  and B ) \\n', ' ( p1 )']"
      ]
     },
     "execution_count": 14,
     "metadata": {},
     "output_type": "execute_result"
    }
   ],
   "source": [
    "# Colocando o circuito como uma lista para repassar para a função que irá gerar a tabela verdade\n",
    "listCircuito = dfCircuito.values.tolist()\n",
    "listCircuito = list(chain.from_iterable(listCircuito)) # gerando uma lista de uma lista de lista\n",
    "listCircuito"
   ]
  },
  {
   "cell_type": "markdown",
   "metadata": {},
   "source": [
    "## Aplicando cada fórmula nas portas"
   ]
  },
  {
   "cell_type": "code",
   "execution_count": 15,
   "metadata": {},
   "outputs": [],
   "source": [
    "def aplicaClausula():\n",
    "    # Substituindo e gerando o circuito. Circuito de Teste\n",
    "    for feature in dfCircuito.columns:\n",
    "        for i in range(len(listCircuito)):\n",
    "            print(dfCircuito[feature])\n",
    "            dfCircuito[feature].replace(dfCircuito.columns[i], listCircuito[i], regex=True, inplace=True)\n",
    "            dfCircuito[feature].replace(\"\\n\", \"\", regex=True, inplace=True)            \n",
    "            dfCircuito[feature].replace(dfCircuito.columns[i], listCircuito[i], regex=True, inplace=True)\n",
    "            dfCircuito[feature].replace(\"\\n\", \"\", regex=True, inplace=True)            \n",
    "# aplicaClausula()"
   ]
  },
  {
   "cell_type": "code",
   "execution_count": 16,
   "metadata": {},
   "outputs": [],
   "source": [
    "listCircuito[0] == dfCircuito.values[0][0]\n",
    "# dfCircuito.values[0][0]\n",
    "\n",
    "def aplicaClausulaComFalhas():\n",
    "    # Substituindo e gerando o circuito. Circuito de Teste\n",
    "    for feature in dfCircuito.columns:\n",
    "        for i in range(len(listCircuito)):\n",
    "            if len(listFalhaP0)>0:  # Se temos falhas de Saida em P0 --len(listFalhaP0)\n",
    "                dfCircuito[feature].replace(listCircuito[0], listFalhaP0[0], regex=True, inplace=True)\n",
    "                dfCircuito[feature].replace('p0', listFalhaP0[0], regex=True, inplace=True)\n",
    "#                 print('sucesso p0')\n",
    "\n",
    "            if len(listFalhaP1)>0:  # Se temos falhas de Saida em P1 --len(listFalhaP0)\n",
    "                dfCircuito[feature].replace(listCircuito[1], listFalhaP1[0], regex=True, inplace=True)\n",
    "                dfCircuito[feature].replace('p1', listFalhaP1[0], regex=True, inplace=True)\n",
    "\n",
    "            if len(listFalhaP2)>0:  # Se temos falhas de Saida em P1 --len(listFalhaP0)\n",
    "                dfCircuito[feature].replace(listCircuito[1], listFalhaP2[0], regex=True, inplace=True)\n",
    "                dfCircuito[feature].replace('p1', listFalhaP1[0], regex=True, inplace=True)\n",
    "                \n",
    "            if len(listFalhaP3)>0:  # Se temos falhas de Saida em P1 --len(listFalhaP0)\n",
    "                dfCircuito[feature].replace(listCircuito[1], listFalhaP3[0], regex=True, inplace=True)\n",
    "                dfCircuito[feature].replace('p1', listFalhaP1[0], regex=True, inplace=True)\n",
    "                \n",
    "            if len(listFalhaP4)>0:  # Se temos falhas de Saida em P1 --len(listFalhaP0)\n",
    "                dfCircuito[feature].replace(listCircuito[1], listFalhaP4[0], regex=True, inplace=True)\n",
    "                dfCircuito[feature].replace('p1', listFalhaP1[0], regex=True, inplace=True)\n",
    "            if len(listFalhaP5)>0:  # Se temos falhas de Saida em P1 --len(listFalhaP0)\n",
    "                dfCircuito[feature].replace(listCircuito[1], listFalhaP5[0], regex=True, inplace=True)\n",
    "                dfCircuito[feature].replace('p1', listFalhaP1[0], regex=True, inplace=True)\n",
    "                \n",
    "            if len(listFalhaP6)>0:  # Se temos falhas de Saida em P1 --len(listFalhaP0)\n",
    "                dfCircuito[feature].replace(listCircuito[1], listFalhaP6[0], regex=True, inplace=True)\n",
    "                dfCircuito[feature].replace('p1', listFalhaP1[0], regex=True, inplace=True)\n",
    "                \n",
    "            if len(listFalhaP7)>0:  # Se temos falhas de Saida em P1 --len(listFalhaP0)\n",
    "                dfCircuito[feature].replace(listCircuito[1], listFalhaP7[0], regex=True, inplace=True)\n",
    "                dfCircuito[feature].replace('p1', listFalhaP1[0], regex=True, inplace=True)\n",
    "                \n",
    "            if len(listFalhaP8)>0:  # Se temos falhas de Saida em P1 --len(listFalhaP0)\n",
    "                dfCircuito[feature].replace(listCircuito[1], listFalhaP8[0], regex=True, inplace=True)\n",
    "                dfCircuito[feature].replace('p1', listFalhaP1[0], regex=True, inplace=True)\n",
    "\n",
    "            if len(listFalhaP9)>0:  # Se temos falhas de Saida em P1 --len(listFalhaP0)\n",
    "                dfCircuito[feature].replace(listCircuito[1], listFalhaP9[0], regex=True, inplace=True)\n",
    "                dfCircuito[feature].replace('p1', listFalhaP1[0], regex=True, inplace=True)\n",
    "\n",
    "            if len(listFalhaP10)>0:  # Se temos falhas de Saida em P1 --len(listFalhaP0)\n",
    "                dfCircuito[feature].replace(listCircuito[1], listFalhaP10[0], regex=True, inplace=True)\n",
    "                dfCircuito[feature].replace('p1', listFalhaP1[0], regex=True, inplace=True)\n"
   ]
  },
  {
   "cell_type": "code",
   "execution_count": 17,
   "metadata": {},
   "outputs": [
    {
     "name": "stdout",
     "output_type": "stream",
     "text": [
      "p0  = ( A  and B ) \\n', 'p1  = ( p0  and B ) \\n', 'pF2 =  ( p1 )', 'p0  = ( A  and B ) \\n', 'p1  = ( p0  and B ) \\n', 'pF2 =  ( p1 )', 'p0  = ( A  and B ) \\n', 'p1  = ( p0  and B ) \\n', 'pF2 =  ( p1 )\n"
     ]
    }
   ],
   "source": [
    "circuitoOriginalVar = []\n",
    "circuitoOriginal = []\n",
    "# Gerando o circuito 1 original\n",
    "circuitoOriginalVar.append('var = ')          \n",
    "for i in range(len(var)):\n",
    "    circuitoOriginalVar.append(var[i])          \n",
    "for feature in dfCircuito.columns:\n",
    "    for i in range(len(listCircuito)):\n",
    "        circuitoOriginal.append(dfCircuito.columns[i]+' = '+ listCircuito[i])  \n",
    "        \n",
    "        \n",
    "circuitoOriginalVar = str(circuitoOriginalVar).replace(\"'\", '').replace(\"  \", ' ').replace(\"[var\", 'var ').replace(' , ',' [ ').replace('\")', '').replace(\"('\", '')\n",
    "c = str(circuitoOriginal).replace(\"['\", '').replace(\"\\n\", '').replace(\"']\", '') \n",
    "print(c)\n",
    "\n",
    "if gerarCSV ==1:\n",
    "    aplicaClausula()    "
   ]
  },
  {
   "cell_type": "markdown",
   "metadata": {},
   "source": [
    "## Salvando o csv com o circuito"
   ]
  },
  {
   "cell_type": "code",
   "execution_count": 18,
   "metadata": {},
   "outputs": [],
   "source": [
    "## Execute o programa mais uma  vez dessa vez sem falhas\n",
    "\n",
    "gerarCSV = 0 # 0 Roda o programa com Falha\n",
    "# gerarCSV = 1 # 0 Roda o programa sem Falha\n",
    "\n",
    "\n",
    "if gerarCSV ==0:\n",
    "    \n",
    "    aplicaClausulaComFalhas()\n",
    "    dfCircuito.to_csv('circuito4ComFalha.csv', index=False)\n",
    "else:    \n",
    "    aplicaClausula()\n",
    "    dfCircuito.to_csv('circuito4SemFalha.csv', index=False)"
   ]
  },
  {
   "cell_type": "markdown",
   "metadata": {},
   "source": [
    "## Função para gerar a tabela verdade. "
   ]
  },
  {
   "cell_type": "code",
   "execution_count": 19,
   "metadata": {},
   "outputs": [],
   "source": [
    "### Informe o nome do arquivo para saída do Circuito\n",
    "if gerarCSV ==0:\n",
    "    saidaCircuitoTxt = 'saidaCircuitoTxt1Falha'\n",
    "    saidaCircuitoCsv = 'saidaCircuitoCSV1Falha'\n",
    "else:\n",
    "    saidaCircuitoTxt = 'saidaCircuitoTxt1SemFalha'\n",
    "    saidaCircuitoCsv = 'saidaCircuitoCSV1SemFalha'\n",
    "    "
   ]
  },
  {
   "cell_type": "code",
   "execution_count": 20,
   "metadata": {},
   "outputs": [],
   "source": [
    "class Gob(object):\n",
    "    pass\n",
    "\n",
    "class Truths(object):\n",
    "    def __init__(self, base=None, phrases=None, ints=True):\n",
    "        if not base:\n",
    "            raise Exception('Base items are required')\n",
    "        self.base = base\n",
    "        self.phrases = phrases or []\n",
    "        self.ints = ints\n",
    "\n",
    "        # generate the sets of booleans for the bases\n",
    "        self.base_conditions = list(itertools.product([False, True],\n",
    "                                                      repeat=len(base)))\n",
    "\n",
    "        # regex to match whole words defined in self.bases\n",
    "        # used to add object context to variables in self.phrases\n",
    "        self.p = re.compile(r'(?<!\\w)(' + '|'.join(self.base) + ')(?!\\w)')\n",
    "\n",
    "    def calculate(self, *args):\n",
    "        # store bases in an object context\n",
    "        g = Gob()\n",
    "        for a, b in zip(self.base, args):\n",
    "            setattr(g, a, b)\n",
    "\n",
    "        # add object context to any base variables in self.phrases\n",
    "        # then evaluate each\n",
    "        eval_phrases = []\n",
    "        for item in self.phrases:\n",
    "            item = self.p.sub(r'g.\\1', item)\n",
    "            eval_phrases.append(eval(item))\n",
    "\n",
    "        # add the bases and evaluated phrases to create a single row\n",
    "        row = [getattr(g, b) for b in self.base] + eval_phrases\n",
    "        if self.ints:\n",
    "            return [int(item) for item in row]\n",
    "        else:\n",
    "            return row\n",
    "\n",
    "    def __str__(self):\n",
    "        t = PrettyTable(self.base + self.phrases)\n",
    "        for conditions_set in self.base_conditions:\n",
    "            t.add_row(self.calculate(*conditions_set))\n",
    "            \n",
    "        # Criando e escrevendo em arquivos de texto (modo 'w').\n",
    "            arquivo = open(saidaCircuitoTxt+'.txt','w')\n",
    "            arquivo.write(str(t))\n",
    "            arquivo.close()\n",
    "            df = pd.read_html(t.get_html_string())[0]\n",
    "            df.columns = df.iloc[0]\n",
    "            df = df.reindex(df.index.drop(0))\n",
    "            df.to_csv(saidaCircuitoCsv+\".csv\" , index=False)\n",
    "        return str(t)# t.get_html_string()  #str(t)\n"
   ]
  },
  {
   "cell_type": "markdown",
   "metadata": {},
   "source": [
    "# Colocando o circuito como uma lista para repassar para a função que irá gerar a tabela verdade"
   ]
  },
  {
   "cell_type": "code",
   "execution_count": 21,
   "metadata": {},
   "outputs": [
    {
     "data": {
      "text/plain": [
       "['( A  and B ) \\n', '( p0  and B ) \\n', ' ( 0 )']"
      ]
     },
     "execution_count": 21,
     "metadata": {},
     "output_type": "execute_result"
    }
   ],
   "source": [
    "# Colocando o circuito como uma lista para repassar para a função que irá gerar a tabela verdade\n",
    "listCircuito = dfCircuito.values.tolist()\n",
    "listCircuito = list(chain.from_iterable(listCircuito))\n",
    "listCircuito"
   ]
  },
  {
   "cell_type": "markdown",
   "metadata": {},
   "source": [
    "#### Variáveis do circuito, regras de cada porta.\n",
    "\n",
    "#### Substituindo a falha no circuito. "
   ]
  },
  {
   "cell_type": "code",
   "execution_count": 22,
   "metadata": {},
   "outputs": [],
   "source": [
    "def AplicarFalhaCircuito():\n",
    "    # O passo trivial é que se existir mais portas no listCircuito ele será mapeado e o len(listCircuito) não excederá o index\n",
    "    for i in range(len(listCircuito)):\n",
    "        if len(listFalhaP0)>0:\n",
    "            listCircuito[0] = listFalhaP0[0]\n",
    "        if len(listFalhaP1)>0:\n",
    "            listCircuito[1] = listFalhaP1[0]\n",
    "        if len(listFalhaP2)>0:\n",
    "            listCircuito[2] = listFalhaP2[0]\n",
    "        if len(listFalhaP3)>0:\n",
    "            listCircuito[3] = listFalhaP3[0]\n",
    "        if len(listFalhaP4)>0:\n",
    "            listCircuito[4] = listFalhaP4[0]\n",
    "        if len(listFalhaP5)>0:\n",
    "            listCircuito[5] = listFalhaP5[0]\n",
    "        if len(listFalhaP6)>0:\n",
    "            listCircuito[6] = listFalhaP6[0]\n",
    "        if len(listFalhaP7)>0:\n",
    "            listCircuito[7] = listFalhaP7[0]\n",
    "        if len(listFalhaP8)>0:\n",
    "            listCircuito[8] = listFalhaP8[0]\n",
    "        if len(listFalhaP9)>0:\n",
    "            listCircuito[9] = listFalhaP9[0]\n",
    "        if len(listFalhaP10)>0:\n",
    "            listCircuito[10] = listFalhaP10[0]\n",
    "if gerarCSV ==0:\n",
    "    #### Funções que geram as falhas do circuito.\n",
    "    aplicaClausulaComFalhas()\n",
    "    AplicarFalhaCircuito()\n",
    "    data2 = pd.read_csv('circuito4ComFalha.csv')\n",
    "    data2.head(10)  # vendo os primeiros valores da tabela verdade\n",
    "else:\n",
    "    #### Funções que geram as falhas do circuito.\n",
    "    aplicaClausula()\n",
    "    data2 = pd.read_csv('circuito4SemFalha.csv')\n",
    "    data2.head(10)  # vendo os primeiros valores da tabela verdade"
   ]
  },
  {
   "cell_type": "code",
   "execution_count": 23,
   "metadata": {},
   "outputs": [
    {
     "name": "stdout",
     "output_type": "stream",
     "text": [
      "['A', 'B', 'C'] ['( A  and B ) \\n', '0', ' ( 0 )'] ['0']\n"
     ]
    }
   ],
   "source": [
    "print(var, listCircuito, listFalhaP1)"
   ]
  },
  {
   "cell_type": "markdown",
   "metadata": {},
   "source": [
    "### Tabela verdade com cada porta lógica"
   ]
  },
  {
   "cell_type": "markdown",
   "metadata": {},
   "source": [
    "### As colunas da tabela indicam as variáveis e as Portas do Circuito. Caso a porta esteja presa na saída a coluna representará o número que ela está rpesa"
   ]
  },
  {
   "cell_type": "code",
   "execution_count": null,
   "metadata": {},
   "outputs": [],
   "source": []
  },
  {
   "cell_type": "code",
   "execution_count": 260,
   "metadata": {},
   "outputs": [
    {
     "name": "stdout",
     "output_type": "stream",
     "text": [
      "+---+---+---+---------+------------------------------+\n",
      "| A | B | C | (A ^ B) | ((A and B) or (A ^ B) and C) |\n",
      "+---+---+---+---------+------------------------------+\n",
      "| 0 | 0 | 0 |    0    |              0               |\n",
      "| 0 | 0 | 1 |    0    |              0               |\n",
      "| 0 | 1 | 0 |    1    |              0               |\n",
      "| 0 | 1 | 1 |    1    |              1               |\n",
      "| 1 | 0 | 0 |    1    |              0               |\n",
      "| 1 | 0 | 1 |    1    |              1               |\n",
      "| 1 | 1 | 0 |    0    |              1               |\n",
      "| 1 | 1 | 1 |    0    |              1               |\n",
      "+---+---+---+---------+------------------------------+\n"
     ]
    }
   ],
   "source": [
    "print( Truths(var, ['(A ^ B)','((A and B) or (A ^ B) and C)'], ints=True) )"
   ]
  },
  {
   "cell_type": "markdown",
   "metadata": {},
   "source": [
    "### Salvando a tabela verdade do circuito lógico"
   ]
  },
  {
   "cell_type": "code",
   "execution_count": 25,
   "metadata": {},
   "outputs": [
    {
     "data": {
      "text/html": [
       "<div>\n",
       "<style scoped>\n",
       "    .dataframe tbody tr th:only-of-type {\n",
       "        vertical-align: middle;\n",
       "    }\n",
       "\n",
       "    .dataframe tbody tr th {\n",
       "        vertical-align: top;\n",
       "    }\n",
       "\n",
       "    .dataframe thead th {\n",
       "        text-align: right;\n",
       "    }\n",
       "</style>\n",
       "<table border=\"1\" class=\"dataframe\">\n",
       "  <thead>\n",
       "    <tr style=\"text-align: right;\">\n",
       "      <th></th>\n",
       "      <th>A</th>\n",
       "      <th>B</th>\n",
       "      <th>C</th>\n",
       "      <th>( A and B )</th>\n",
       "      <th>0</th>\n",
       "      <th>( 0 )</th>\n",
       "    </tr>\n",
       "  </thead>\n",
       "  <tbody>\n",
       "    <tr>\n",
       "      <th>0</th>\n",
       "      <td>0</td>\n",
       "      <td>0</td>\n",
       "      <td>0</td>\n",
       "      <td>0</td>\n",
       "      <td>0</td>\n",
       "      <td>0</td>\n",
       "    </tr>\n",
       "    <tr>\n",
       "      <th>1</th>\n",
       "      <td>0</td>\n",
       "      <td>0</td>\n",
       "      <td>1</td>\n",
       "      <td>0</td>\n",
       "      <td>0</td>\n",
       "      <td>0</td>\n",
       "    </tr>\n",
       "    <tr>\n",
       "      <th>2</th>\n",
       "      <td>0</td>\n",
       "      <td>1</td>\n",
       "      <td>0</td>\n",
       "      <td>0</td>\n",
       "      <td>0</td>\n",
       "      <td>0</td>\n",
       "    </tr>\n",
       "    <tr>\n",
       "      <th>3</th>\n",
       "      <td>0</td>\n",
       "      <td>1</td>\n",
       "      <td>1</td>\n",
       "      <td>0</td>\n",
       "      <td>0</td>\n",
       "      <td>0</td>\n",
       "    </tr>\n",
       "    <tr>\n",
       "      <th>4</th>\n",
       "      <td>1</td>\n",
       "      <td>0</td>\n",
       "      <td>0</td>\n",
       "      <td>0</td>\n",
       "      <td>0</td>\n",
       "      <td>0</td>\n",
       "    </tr>\n",
       "    <tr>\n",
       "      <th>5</th>\n",
       "      <td>1</td>\n",
       "      <td>0</td>\n",
       "      <td>1</td>\n",
       "      <td>0</td>\n",
       "      <td>0</td>\n",
       "      <td>0</td>\n",
       "    </tr>\n",
       "    <tr>\n",
       "      <th>6</th>\n",
       "      <td>1</td>\n",
       "      <td>1</td>\n",
       "      <td>0</td>\n",
       "      <td>1</td>\n",
       "      <td>0</td>\n",
       "      <td>0</td>\n",
       "    </tr>\n",
       "    <tr>\n",
       "      <th>7</th>\n",
       "      <td>1</td>\n",
       "      <td>1</td>\n",
       "      <td>1</td>\n",
       "      <td>1</td>\n",
       "      <td>0</td>\n",
       "      <td>0</td>\n",
       "    </tr>\n",
       "  </tbody>\n",
       "</table>\n",
       "</div>"
      ],
      "text/plain": [
       "   A  B  C  ( A and B )  0  ( 0 )\n",
       "0  0  0  0            0  0      0\n",
       "1  0  0  1            0  0      0\n",
       "2  0  1  0            0  0      0\n",
       "3  0  1  1            0  0      0\n",
       "4  1  0  0            0  0      0\n",
       "5  1  0  1            0  0      0\n",
       "6  1  1  0            1  0      0\n",
       "7  1  1  1            1  0      0"
      ]
     },
     "execution_count": 25,
     "metadata": {},
     "output_type": "execute_result"
    }
   ],
   "source": [
    "data = pd.read_csv(saidaCircuitoCsv+'.csv')\n",
    "data.head(100)  # vendo os primeiros valores da tabela verdade"
   ]
  },
  {
   "cell_type": "code",
   "execution_count": null,
   "metadata": {},
   "outputs": [],
   "source": []
  },
  {
   "cell_type": "code",
   "execution_count": null,
   "metadata": {},
   "outputs": [],
   "source": []
  },
  {
   "cell_type": "markdown",
   "metadata": {},
   "source": [
    "## Salvando o circuito lógico paranteseado"
   ]
  },
  {
   "cell_type": "code",
   "execution_count": 26,
   "metadata": {},
   "outputs": [
    {
     "name": "stdout",
     "output_type": "stream",
     "text": [
      "Lista:  {'p0 ': '( A  and B ) \\n', 'p1 ': '0', 'pF2': ' ( 0 )'}\n"
     ]
    }
   ],
   "source": [
    "\n",
    "mapCircuito = dict(zip(listaPortas, listCircuito))\n",
    "print(\"Lista: \",mapCircuito)\n",
    "#  Escrevendo a forma lógica do circuito paranteseada no formato de entrada\n",
    "logicForm = open('logicFormCircuitFinal.txt','w')\n",
    "logicForm.write(\"var = \" + str(var))\n",
    "logicForm.write(\"\\n\")\n",
    "logicForm.write(str(mapCircuito))\n",
    "logicForm.close()"
   ]
  },
  {
   "cell_type": "code",
   "execution_count": 31,
   "metadata": {},
   "outputs": [],
   "source": [
    "#  Escrevendo a forma lógica do circuito paranteseada\n",
    "logicForm = open('TVCircuit.txt','w')\n",
    "logicForm.write(str( (str(listCircuito),str(data.values)  ) ))\n",
    "logicForm.close()"
   ]
  },
  {
   "cell_type": "markdown",
   "metadata": {},
   "source": [
    "## Lendo tabelas verdades geradas para detectar quais configurações geram a tabela verdade com Falhas"
   ]
  },
  {
   "cell_type": "code",
   "execution_count": 27,
   "metadata": {},
   "outputs": [],
   "source": [
    "dataComFalha = pd.read_csv('saidaCircuitoCSV1Falha.csv')\n",
    "dataSemFalha = pd.read_csv('saidaCircuitoCSV1SemFalha.csv')"
   ]
  },
  {
   "cell_type": "code",
   "execution_count": 28,
   "metadata": {},
   "outputs": [
    {
     "data": {
      "text/html": [
       "<div>\n",
       "<style scoped>\n",
       "    .dataframe tbody tr th:only-of-type {\n",
       "        vertical-align: middle;\n",
       "    }\n",
       "\n",
       "    .dataframe tbody tr th {\n",
       "        vertical-align: top;\n",
       "    }\n",
       "\n",
       "    .dataframe thead th {\n",
       "        text-align: right;\n",
       "    }\n",
       "</style>\n",
       "<table border=\"1\" class=\"dataframe\">\n",
       "  <thead>\n",
       "    <tr style=\"text-align: right;\">\n",
       "      <th></th>\n",
       "      <th>A</th>\n",
       "      <th>B</th>\n",
       "      <th>C</th>\n",
       "      <th>( A and B )</th>\n",
       "      <th>( ( A and B ) and B )</th>\n",
       "      <th>( ( ( A and B ) and B ) )</th>\n",
       "    </tr>\n",
       "  </thead>\n",
       "  <tbody>\n",
       "    <tr>\n",
       "      <th>0</th>\n",
       "      <td>0</td>\n",
       "      <td>0</td>\n",
       "      <td>0</td>\n",
       "      <td>0</td>\n",
       "      <td>0</td>\n",
       "      <td>0</td>\n",
       "    </tr>\n",
       "    <tr>\n",
       "      <th>1</th>\n",
       "      <td>0</td>\n",
       "      <td>0</td>\n",
       "      <td>1</td>\n",
       "      <td>0</td>\n",
       "      <td>0</td>\n",
       "      <td>0</td>\n",
       "    </tr>\n",
       "    <tr>\n",
       "      <th>2</th>\n",
       "      <td>0</td>\n",
       "      <td>1</td>\n",
       "      <td>0</td>\n",
       "      <td>0</td>\n",
       "      <td>0</td>\n",
       "      <td>0</td>\n",
       "    </tr>\n",
       "    <tr>\n",
       "      <th>3</th>\n",
       "      <td>0</td>\n",
       "      <td>1</td>\n",
       "      <td>1</td>\n",
       "      <td>0</td>\n",
       "      <td>0</td>\n",
       "      <td>0</td>\n",
       "    </tr>\n",
       "    <tr>\n",
       "      <th>4</th>\n",
       "      <td>1</td>\n",
       "      <td>0</td>\n",
       "      <td>0</td>\n",
       "      <td>0</td>\n",
       "      <td>0</td>\n",
       "      <td>0</td>\n",
       "    </tr>\n",
       "    <tr>\n",
       "      <th>5</th>\n",
       "      <td>1</td>\n",
       "      <td>0</td>\n",
       "      <td>1</td>\n",
       "      <td>0</td>\n",
       "      <td>0</td>\n",
       "      <td>0</td>\n",
       "    </tr>\n",
       "    <tr>\n",
       "      <th>6</th>\n",
       "      <td>1</td>\n",
       "      <td>1</td>\n",
       "      <td>0</td>\n",
       "      <td>1</td>\n",
       "      <td>1</td>\n",
       "      <td>1</td>\n",
       "    </tr>\n",
       "    <tr>\n",
       "      <th>7</th>\n",
       "      <td>1</td>\n",
       "      <td>1</td>\n",
       "      <td>1</td>\n",
       "      <td>1</td>\n",
       "      <td>1</td>\n",
       "      <td>1</td>\n",
       "    </tr>\n",
       "  </tbody>\n",
       "</table>\n",
       "</div>"
      ],
      "text/plain": [
       "   A  B  C  ( A and B )  ( ( A and B ) and B )  ( ( ( A and B ) and B ) )\n",
       "0  0  0  0            0                      0                          0\n",
       "1  0  0  1            0                      0                          0\n",
       "2  0  1  0            0                      0                          0\n",
       "3  0  1  1            0                      0                          0\n",
       "4  1  0  0            0                      0                          0\n",
       "5  1  0  1            0                      0                          0\n",
       "6  1  1  0            1                      1                          1\n",
       "7  1  1  1            1                      1                          1"
      ]
     },
     "execution_count": 28,
     "metadata": {},
     "output_type": "execute_result"
    }
   ],
   "source": [
    "dataSemFalha.head(10)"
   ]
  },
  {
   "cell_type": "code",
   "execution_count": 314,
   "metadata": {},
   "outputs": [],
   "source": [
    "A = dataSemFalha.A.values.tolist()\n",
    "B = dataSemFalha.B.values.tolist()\n",
    "C = dataSemFalha['( ( ( A and B ) and B ) )'].values.tolist()\n",
    "aval = []\n",
    "j=0\n",
    "while j<20:\n",
    "    for i in range(len(A)):\n",
    "        avalia = ( ( ( np.random.binomial(1,0.5,1)[0]and np.random.binomial(1,0.5,1)[0] ) and np.random.binomial(1,0.5,1)[0] ) )# ( np.random.binomial(1,0.5,1)[0]  and np.random.binomial(1,0.5,1)[0] ) or ( ( np.random.binomial(1,0.5,1)[0] and np.random.binomial(1,0.5,1) )[0] and np.random.binomial(1,0.5,1)[0] ) or ( ( ( np.random.binomial(1,0.5,1)[0] and np.random.binomial(1,0.5,1)[0] ) and np.random.binomial(1,0.5,1)[0] ) )\n",
    "        aval.append(avalia)\n",
    "        if aval == C:\n",
    "    #         j+=1\n",
    "    #         avalia = ( ( ( np.random.binomial(1,0.5,1)[0]and np.random.binomial(1,0.5,1)[0] ) and np.random.binomial(1,0.5,1)[0] ) )# ( np.random.binomial(1,0.5,1)[0]  and np.random.binomial(1,0.5,1)[0] ) or ( ( np.random.binomial(1,0.5,1)[0] and np.random.binomial(1,0.5,1) )[0] and np.random.binomial(1,0.5,1)[0] ) or ( ( ( np.random.binomial(1,0.5,1)[0] and np.random.binomial(1,0.5,1)[0] ) and np.random.binomial(1,0.5,1)[0] ) )\n",
    "    #         if j ==1:\n",
    "            print(\"achou\",j)\n",
    "    #             break \n",
    "        else:\n",
    "            aval = []\n",
    "            pass\n",
    "    j+=1\n",
    "# print(aval)    \n",
    "        \n",
    "    \n",
    "# while True:\n",
    "#     avalia = ( ( ( np.random.binomial(1,0.5,1)[0] and np.random.binomial(1,0.5,1)[0] ) and np.random.binomial(1,0.5,1)[0] ) )# ( np.random.binomial(1,0.5,1)[0]  and np.random.binomial(1,0.5,1)[0] ) or ( ( np.random.binomial(1,0.5,1)[0] and np.random.binomial(1,0.5,1) )[0] and np.random.binomial(1,0.5,1)[0] ) or ( ( ( np.random.binomial(1,0.5,1)[0] and np.random.binomial(1,0.5,1)[0] ) and np.random.binomial(1,0.5,1)[0] ) )\n",
    "#     print(type(avalia),avalia)\n",
    "#     i+=1\n",
    "#     if i ==1:\n",
    "#         break \n",
    "        "
   ]
  },
  {
   "cell_type": "code",
   "execution_count": 315,
   "metadata": {},
   "outputs": [
    {
     "data": {
      "text/plain": [
       "([], [0, 0, 0, 0, 0, 0, 1, 1], 0)"
      ]
     },
     "execution_count": 315,
     "metadata": {},
     "output_type": "execute_result"
    }
   ],
   "source": [
    "(aval,C, avalia)\n",
    "# print(avalia,c)\n",
    "# C"
   ]
  },
  {
   "cell_type": "code",
   "execution_count": 147,
   "metadata": {},
   "outputs": [
    {
     "name": "stdout",
     "output_type": "stream",
     "text": [
      "54.1 µs ± 399 ns per loop (mean ± std. dev. of 7 runs, 10000 loops each)\n"
     ]
    }
   ],
   "source": [
    "%%timeit\n",
    "dataComFalha.head(10)"
   ]
  },
  {
   "cell_type": "code",
   "execution_count": 148,
   "metadata": {},
   "outputs": [
    {
     "data": {
      "text/html": [
       "<div>\n",
       "<style scoped>\n",
       "    .dataframe tbody tr th:only-of-type {\n",
       "        vertical-align: middle;\n",
       "    }\n",
       "\n",
       "    .dataframe tbody tr th {\n",
       "        vertical-align: top;\n",
       "    }\n",
       "\n",
       "    .dataframe thead th {\n",
       "        text-align: right;\n",
       "    }\n",
       "</style>\n",
       "<table border=\"1\" class=\"dataframe\">\n",
       "  <thead>\n",
       "    <tr style=\"text-align: right;\">\n",
       "      <th></th>\n",
       "      <th>A</th>\n",
       "      <th>B</th>\n",
       "      <th>C</th>\n",
       "      <th>( A and B )</th>\n",
       "      <th>0</th>\n",
       "      <th>( 0 )</th>\n",
       "    </tr>\n",
       "  </thead>\n",
       "  <tbody>\n",
       "    <tr>\n",
       "      <th>0</th>\n",
       "      <td>0</td>\n",
       "      <td>0</td>\n",
       "      <td>0</td>\n",
       "      <td>0</td>\n",
       "      <td>0</td>\n",
       "      <td>0</td>\n",
       "    </tr>\n",
       "    <tr>\n",
       "      <th>1</th>\n",
       "      <td>0</td>\n",
       "      <td>0</td>\n",
       "      <td>1</td>\n",
       "      <td>0</td>\n",
       "      <td>0</td>\n",
       "      <td>0</td>\n",
       "    </tr>\n",
       "    <tr>\n",
       "      <th>2</th>\n",
       "      <td>0</td>\n",
       "      <td>1</td>\n",
       "      <td>0</td>\n",
       "      <td>0</td>\n",
       "      <td>0</td>\n",
       "      <td>0</td>\n",
       "    </tr>\n",
       "    <tr>\n",
       "      <th>3</th>\n",
       "      <td>0</td>\n",
       "      <td>1</td>\n",
       "      <td>1</td>\n",
       "      <td>0</td>\n",
       "      <td>0</td>\n",
       "      <td>0</td>\n",
       "    </tr>\n",
       "    <tr>\n",
       "      <th>4</th>\n",
       "      <td>1</td>\n",
       "      <td>0</td>\n",
       "      <td>0</td>\n",
       "      <td>0</td>\n",
       "      <td>0</td>\n",
       "      <td>0</td>\n",
       "    </tr>\n",
       "    <tr>\n",
       "      <th>5</th>\n",
       "      <td>1</td>\n",
       "      <td>0</td>\n",
       "      <td>1</td>\n",
       "      <td>0</td>\n",
       "      <td>0</td>\n",
       "      <td>0</td>\n",
       "    </tr>\n",
       "    <tr>\n",
       "      <th>6</th>\n",
       "      <td>1</td>\n",
       "      <td>1</td>\n",
       "      <td>0</td>\n",
       "      <td>1</td>\n",
       "      <td>0</td>\n",
       "      <td>0</td>\n",
       "    </tr>\n",
       "    <tr>\n",
       "      <th>7</th>\n",
       "      <td>1</td>\n",
       "      <td>1</td>\n",
       "      <td>1</td>\n",
       "      <td>1</td>\n",
       "      <td>0</td>\n",
       "      <td>0</td>\n",
       "    </tr>\n",
       "  </tbody>\n",
       "</table>\n",
       "</div>"
      ],
      "text/plain": [
       "   A  B  C  ( A and B )  0  ( 0 )\n",
       "0  0  0  0            0  0      0\n",
       "1  0  0  1            0  0      0\n",
       "2  0  1  0            0  0      0\n",
       "3  0  1  1            0  0      0\n",
       "4  1  0  0            0  0      0\n",
       "5  1  0  1            0  0      0\n",
       "6  1  1  0            1  0      0\n",
       "7  1  1  1            1  0      0"
      ]
     },
     "execution_count": 148,
     "metadata": {},
     "output_type": "execute_result"
    }
   ],
   "source": [
    "dataComFalha.head(10)"
   ]
  },
  {
   "cell_type": "code",
   "execution_count": 154,
   "metadata": {},
   "outputs": [
    {
     "data": {
      "text/plain": [
       "array([[0, 0],\n",
       "       [0, 0],\n",
       "       [0, 0],\n",
       "       [0, 0],\n",
       "       [0, 0],\n",
       "       [0, 0],\n",
       "       [1, 1],\n",
       "       [1, 1]], dtype=int64)"
      ]
     },
     "execution_count": 154,
     "metadata": {},
     "output_type": "execute_result"
    }
   ],
   "source": [
    "dataSemFalha[['( A and B )','( ( A and B ) and B )']].values"
   ]
  },
  {
   "cell_type": "code",
   "execution_count": null,
   "metadata": {},
   "outputs": [],
   "source": []
  },
  {
   "cell_type": "code",
   "execution_count": null,
   "metadata": {},
   "outputs": [],
   "source": []
  },
  {
   "cell_type": "code",
   "execution_count": null,
   "metadata": {},
   "outputs": [],
   "source": []
  },
  {
   "cell_type": "code",
   "execution_count": null,
   "metadata": {},
   "outputs": [],
   "source": []
  },
  {
   "cell_type": "code",
   "execution_count": null,
   "metadata": {},
   "outputs": [],
   "source": []
  },
  {
   "cell_type": "code",
   "execution_count": null,
   "metadata": {},
   "outputs": [],
   "source": []
  },
  {
   "cell_type": "code",
   "execution_count": null,
   "metadata": {},
   "outputs": [],
   "source": []
  },
  {
   "cell_type": "code",
   "execution_count": 57,
   "metadata": {},
   "outputs": [],
   "source": [
    "# !pip install ipynb"
   ]
  },
  {
   "cell_type": "code",
   "execution_count": 76,
   "metadata": {},
   "outputs": [],
   "source": [
    "import utils2 as ut\n",
    "import logic as lg"
   ]
  },
  {
   "cell_type": "code",
   "execution_count": 131,
   "metadata": {},
   "outputs": [
    {
     "name": "stdout",
     "output_type": "stream",
     "text": [
      "(A & B) (A & B & B) (A & B & B)\n"
     ]
    }
   ],
   "source": [
    "p0 = ut.expr('(A & B)')\n",
    "p1 = ut.expr('((A & B) & B)')\n",
    "pF2 = ut.expr('((A & B) & B)')\n",
    "\n",
    "# A, B, C, D = ut.expr('A, B, C, D')\n",
    "print(p0Cnf, p1Cnf, pF1Cnf)"
   ]
  },
  {
   "cell_type": "code",
   "execution_count": 137,
   "metadata": {},
   "outputs": [
    {
     "name": "stdout",
     "output_type": "stream",
     "text": [
      "33.5 µs ± 782 ns per loop (mean ± std. dev. of 7 runs, 10000 loops each)\n"
     ]
    }
   ],
   "source": [
    "%%timeit\n",
    "lg.dpll_satisfiable(p0)"
   ]
  },
  {
   "cell_type": "code",
   "execution_count": 138,
   "metadata": {},
   "outputs": [
    {
     "data": {
      "text/plain": [
       "{A: True, B: True}"
      ]
     },
     "execution_count": 138,
     "metadata": {},
     "output_type": "execute_result"
    }
   ],
   "source": [
    "# %%timeit\n",
    "lg.dpll_satisfiable(p1)"
   ]
  },
  {
   "cell_type": "code",
   "execution_count": null,
   "metadata": {},
   "outputs": [],
   "source": [
    "lg.dpll_satisfiable(pF2)"
   ]
  },
  {
   "cell_type": "code",
   "execution_count": null,
   "metadata": {},
   "outputs": [],
   "source": []
  },
  {
   "cell_type": "code",
   "execution_count": 129,
   "metadata": {},
   "outputs": [],
   "source": [
    "P0, P1, PF2, A, B = ut.expr('P0, P1, PF2, A, B')\n",
    "p0Cnf = lg.to_cnf(A |'&'| B)\n",
    "p1Cnf = lg.to_cnf((A |'&'| B) |'&'| B)\n",
    "pF1Cnf = lg.to_cnf((A |'&'| B) |'&'| B)\n"
   ]
  },
  {
   "cell_type": "code",
   "execution_count": 94,
   "metadata": {},
   "outputs": [],
   "source": [
    "wumpus_kb = lg.PropKB()"
   ]
  },
  {
   "cell_type": "code",
   "execution_count": 95,
   "metadata": {},
   "outputs": [],
   "source": [
    "wumpus_kb.tell(A | '&' | B)\n",
    "wumpus_kb.tell(P0 | '&' | B)\n",
    "wumpus_kb.tell(P1)\n",
    "\n",
    "# wumpus_kb.tell(p1)\n",
    "# wumpus_kb.tell(pF2)"
   ]
  },
  {
   "cell_type": "code",
   "execution_count": 96,
   "metadata": {},
   "outputs": [
    {
     "data": {
      "text/plain": [
       "[A, B, P0, B, P1]"
      ]
     },
     "execution_count": 96,
     "metadata": {},
     "output_type": "execute_result"
    }
   ],
   "source": [
    "wumpus_kb.clauses"
   ]
  },
  {
   "cell_type": "code",
   "execution_count": 114,
   "metadata": {},
   "outputs": [
    {
     "data": {
      "text/plain": [
       "0"
      ]
     },
     "execution_count": 114,
     "metadata": {},
     "output_type": "execute_result"
    }
   ],
   "source": [
    "lg.tt_entails(A & B, 0)"
   ]
  },
  {
   "cell_type": "code",
   "execution_count": null,
   "metadata": {},
   "outputs": [],
   "source": [
    "var = [ A, B, C ] \n",
    "Fin = [ p0 = [ A = 0 ] , p1 = [ B = 0 ] , pF2 = [ ] ]\n",
    "Fout = [ p1 = 0 ]\n",
    "p0 = ( A  and B ) \n",
    "p1 = ( p0  and B ) \n",
    "pF2 = ( p1 )"
   ]
  },
  {
   "cell_type": "code",
   "execution_count": 101,
   "metadata": {},
   "outputs": [
    {
     "data": {
      "text/plain": [
       "((A | ~B) & (B | ~A))"
      ]
     },
     "execution_count": 101,
     "metadata": {},
     "output_type": "execute_result"
    }
   ],
   "source": [
    "A, B, C, D = ut.expr('A, B, C, D')\n",
    "lg.to_cnf(A |'<=>'| B)"
   ]
  },
  {
   "cell_type": "code",
   "execution_count": 143,
   "metadata": {},
   "outputs": [
    {
     "data": {
      "text/plain": [
       "{A: True, B: False}"
      ]
     },
     "execution_count": 143,
     "metadata": {},
     "output_type": "execute_result"
    }
   ],
   "source": [
    "lg.dpll_satisfiable((A & B) & (~(A & B) & ~B) |  (~(A & B) & ~B))"
   ]
  },
  {
   "cell_type": "code",
   "execution_count": 144,
   "metadata": {},
   "outputs": [
    {
     "data": {
      "text/plain": [
       "{A: True, B: True}"
      ]
     },
     "execution_count": 144,
     "metadata": {},
     "output_type": "execute_result"
    }
   ],
   "source": [
    "lg.dpll_satisfiable((A & B) & ((A & B)) & B |  ((A & B)) & B)"
   ]
  },
  {
   "cell_type": "code",
   "execution_count": null,
   "metadata": {},
   "outputs": [],
   "source": []
  }
 ],
 "metadata": {
  "kernelspec": {
   "display_name": "Python 3",
   "language": "python",
   "name": "python3"
  },
  "language_info": {
   "codemirror_mode": {
    "name": "ipython",
    "version": 3
   },
   "file_extension": ".py",
   "mimetype": "text/x-python",
   "name": "python",
   "nbconvert_exporter": "python",
   "pygments_lexer": "ipython3",
   "version": "3.6.5"
  }
 },
 "nbformat": 4,
 "nbformat_minor": 2
}
