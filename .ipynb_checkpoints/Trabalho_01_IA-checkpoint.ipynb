{
 "cells": [
  {
   "cell_type": "code",
   "execution_count": 1,
   "metadata": {},
   "outputs": [],
   "source": [
    "from prettytable import PrettyTable, from_csv\n",
    "import pandas as pd\n",
    "import numpy as np\n",
    "import itertools\n",
    "from random import randint\n",
    "from itertools import chain\n",
    "import string\n",
    "import numpy\n",
    "import lxml\n",
    "import time\n",
    "import csv\n",
    "import re"
   ]
  },
  {
   "cell_type": "markdown",
   "metadata": {},
   "source": [
    "#### Descrição do circuito lógico. var indica as variáveis de entrada, coloque as variáveis de entrada em uma lista separado por vírgula e sem espaço.\n",
    "Para representar as Falhas de entrada coloque F0 para representar uma entrada presa em 0 e F1 para representar uma entrada presa em 1\n",
    "\n",
    "###### p0 = [ A = 0 ] indica que p0 está presa em 0 para a Entrada no A, caso a porta não possua falhas de entrada coloque uma lista vazia mesmo assim, por exemplo p1 = [  ]  indica que p1 não tem falhas. Lembrando que é necessário colocar espaço em cada caractere.\n",
    "\n",
    "Fout representa falhas de saída para as portas, no caso só coloque na lista as postas que tem falha e o valor, no exemplo temos p1=0 que\n",
    "indica que p1 está preso na saída da porta por 0.\n",
    "\n",
    "###### Em seguida temos a representação das portas com sua entrada lógica. Por exemplo, p0 = ( A and B ). É necessário coloca colocar espaço em cada caractere de entrada.\n",
    "\n",
    "\n",
    "######  var = [ A, B, C ] \n",
    "###### Fout = [ p1 = 0 ]\n",
    "###### p0 = ( A  and B ) \n",
    "###### p1 = ( p0  and B ) \n",
    "###### pF2 = ( p1 )"
   ]
  },
  {
   "cell_type": "markdown",
   "metadata": {},
   "source": [
    "## Circuito gerado pelo Algoritmo"
   ]
  },
  {
   "cell_type": "code",
   "execution_count": 104,
   "metadata": {},
   "outputs": [],
   "source": [
    "f2 =  open(\"logicFormCircuitFinal.txt\",'r')\n",
    "texto2 = f2.readlines()"
   ]
  },
  {
   "cell_type": "markdown",
   "metadata": {},
   "source": [
    "### Pegando as variáveis do circuito gerado pelo modelo"
   ]
  },
  {
   "cell_type": "code",
   "execution_count": 132,
   "metadata": {},
   "outputs": [
    {
     "name": "stdout",
     "output_type": "stream",
     "text": [
      "['var', '=', 'A,', '', 'B,', '', 'C'] 7\n"
     ]
    }
   ],
   "source": [
    "def tratamentoFileModel():\n",
    "    a2 =texto2[0].replace('=', '').replace('var', '').replace('\\n', '').replace(\"''\", '').replace(\" \", '').replace(\"[\", '').replace(\"]\", '').replace(\",\", '')\n",
    "    a3=str(texto2[0][0:19].split(',')).replace('\"', '').replace('[', '').replace(']', '').replace('(', '').replace(\"'\", '').split(\" \")\n",
    "    print(a3, len(a3))\n",
    "    var2 = []\n",
    "    for i in range(len(a3)):\n",
    "        if a3[i] =='' or a3[i] =='var' or a3[i] =='=':\n",
    "            pass\n",
    "        else:\n",
    "            var2.append(a3[i])\n",
    "tratamentoFileModel()"
   ]
  },
  {
   "cell_type": "markdown",
   "metadata": {},
   "source": [
    "## 1. Lendo o circuito de teste"
   ]
  },
  {
   "cell_type": "code",
   "execution_count": 3,
   "metadata": {},
   "outputs": [
    {
     "name": "stdout",
     "output_type": "stream",
     "text": [
      "['var = [ A, B, C ] \\n', 'Fout = [ p4 = 0 ]\\n', 'p0 = ( A ^  B )  \\n', 'p1 = ( ( ( A ^  B ) ^ C ) )\\n', 'p2 = ( C and ( A ^  B ) )\\n', 'p3 = ( B and A )\\n', 'p4 = ( ( C and ( A ^  B ) ) or ( B and A ) )\\n', 'pF1 = ( ( ( C and ( A ^  B ) ) or ( B and A ) ) )\\n', 'pF2 = ( ( ( ( A ^  B ) ^ C ) ) )'] <class 'list'> 9\n"
     ]
    }
   ],
   "source": [
    "f = open(\"circuito.txt\",'r')\n",
    "# logicFormCircuit\n",
    "texto = f.readlines()\n",
    "print(texto, type(texto), len(texto))"
   ]
  },
  {
   "cell_type": "markdown",
   "metadata": {},
   "source": [
    "### Pegando variáveis do Circuito"
   ]
  },
  {
   "cell_type": "code",
   "execution_count": 4,
   "metadata": {},
   "outputs": [
    {
     "data": {
      "text/plain": [
       "['A', 'B', 'C']"
      ]
     },
     "execution_count": 4,
     "metadata": {},
     "output_type": "execute_result"
    }
   ],
   "source": [
    "var = []\n",
    "def getVarCircuit ():\n",
    "    a =texto[0].replace('=', '').replace('var', '').replace('\\n', '').replace(\"''\", '').replace(\" \", '').replace(\"[\", '').replace(\"]\", '').replace(\",\", '')\n",
    "    ## Lista de variáveis\n",
    "    var2 = []\n",
    "    for i in range(len(a)):\n",
    "#         print(a[i].split(' '))\n",
    "        var2.append(a[i])\n",
    "        var.append(a[i])        \n",
    "    return var2\n",
    "getVarCircuit()"
   ]
  },
  {
   "cell_type": "markdown",
   "metadata": {},
   "source": [
    "## Pegando falhas de entrada e saída do circuito"
   ]
  },
  {
   "cell_type": "code",
   "execution_count": 5,
   "metadata": {},
   "outputs": [
    {
     "data": {
      "text/plain": [
       "['Fout = [ p4 = 0 ]\\n']"
      ]
     },
     "execution_count": 5,
     "metadata": {},
     "output_type": "execute_result"
    }
   ],
   "source": [
    "\n",
    "listaPortasFalhasIn = []\n",
    "listaPortasFalhasOut = []\n",
    "def getFalhasIn():\n",
    "    auxT = texto[1]\n",
    "#     auxInOut = texto[1:3]\n",
    "    return auxT\n",
    "    \n",
    "def getFalhasOut():\n",
    "#     auxInOut = texto[1:3]    \n",
    "    auxInOut = texto[1:2]    \n",
    "    return auxInOut\n",
    "\n",
    "# getFalhasIn(),\n",
    "getFalhasOut()\n",
    "    "
   ]
  },
  {
   "cell_type": "markdown",
   "metadata": {},
   "source": [
    "### Gerando a lista dos valores de falha para cada porta "
   ]
  },
  {
   "cell_type": "code",
   "execution_count": 6,
   "metadata": {},
   "outputs": [
    {
     "name": "stdout",
     "output_type": "stream",
     "text": [
      "P0 [] P1 [] P2 [] P3 [] P4 ['0'] P5 [] P6 [] P7 [] P8 [] P9 [] P10 []\n"
     ]
    }
   ],
   "source": [
    "## Mapeando as falhas de Saída das portas\n",
    "x = getFalhasOut()[0][9:12]\n",
    "y = getFalhasOut()[0].split(' ')\n",
    "listFalhaP0 = []\n",
    "listFalhaP1 = []\n",
    "listFalhaP2 = []\n",
    "listFalhaP3 = []\n",
    "listFalhaP4 = []\n",
    "listFalhaP5 = []\n",
    "listFalhaP6 = []\n",
    "listFalhaP7 = []\n",
    "listFalhaP8 = []\n",
    "listFalhaP9 = []\n",
    "listFalhaP10 = []\n",
    "def getSaidasPortas():\n",
    "    for i in range(len(y)):\n",
    "        if y[i] == 'p0' and (y[i+3] == '1' or y[i+3] == '0' ) :  \n",
    "            listFalhaP0.append(y[i+3])\n",
    "        if y[i] == 'p0' and (y[i+2] == '1' or y[i+2] == '0' ) :  \n",
    "            listFalhaP0.append(y[i+2])\n",
    "        if y[i] == 'p1' and (y[i+3] == '1' or y[i+3] == '0' ) :  \n",
    "            listFalhaP1.append(y[i+3])\n",
    "        if y[i] == 'p1' and (y[i+2] == '1' or y[i+2] == '0' ) :  \n",
    "            listFalhaP1.append(y[i+2])\n",
    "        if y[i] == 'p2' and (y[i+3] == '1' or y[i+3] == '0' ) :  \n",
    "            listFalhaP2.append(y[i+3])\n",
    "        if y[i] == 'p2' and (y[i+2] == '1' or y[i+2] == '0' ) :  \n",
    "            listFalhaP2.append(y[i+2])\n",
    "        if y[i] == 'p3' and (y[i+3] == '1' or y[i+3] == '0' ) :  \n",
    "            listFalhaP3.append(y[i+3])\n",
    "        if y[i] == 'p3' and (y[i+2] == '1' or y[i+2] == '0' ) :  \n",
    "            listFalhaP3.append(y[i+2])\n",
    "        if y[i] == 'p4' and (y[i+3] == '1' or y[i+3] == '0' ) :  \n",
    "            listFalhaP4.append(y[i+3])\n",
    "        if y[i] == 'p4' and (y[i+2] == '1' or y[i+2] == '0' ) :  \n",
    "            listFalhaP4.append(y[i+2])\n",
    "        if y[i] == 'p5' and (y[i+3] == '1' or y[i+3] == '0' ) :  \n",
    "            listFalhaP5.append(y[i+3])\n",
    "        if y[i] == 'p5' and (y[i+2] == '1' or y[i+2] == '0' ) :  \n",
    "            listFalhaP5.append(y[i+2])\n",
    "        if y[i] == 'p6' and (y[i+3] == '1' or y[i+3] == '0' ) :  \n",
    "            listFalhaP6.append(y[i+3])\n",
    "        if y[i] == 'p6' and (y[i+2] == '1' or y[i+2] == '0' ) :  \n",
    "            listFalhaP6.append(y[i+2])\n",
    "        if y[i] == 'p7' and (y[i+3] == '1' or y[i+3] == '0' ) :  \n",
    "            listFalhaP7.append(y[i+3])\n",
    "        if y[i] == 'p7' and (y[i+2] == '1' or y[i+2] == '0' ) :  \n",
    "            listFalhaP7.append(y[i+2])\n",
    "        if y[i] == 'p8' and (y[i+3] == '1' or y[i+3] == '0' ) :  \n",
    "            listFalhaP8.append(y[i+3])\n",
    "        if y[i] == 'p8' and (y[i+2] == '1' or y[i+2] == '0' ) :  \n",
    "            listFalhaP8.append(y[i+2])\n",
    "        if y[i] == 'p9' and (y[i+3] == '1' or y[i+3] == '0' ) :  \n",
    "            listFalhaP9.append(y[i+3])\n",
    "        if y[i] == 'p9' and (y[i+2] == '1' or y[i+2] == '0' ) :  \n",
    "            listFalhaP9.append(y[i+2])\n",
    "        if y[i] == 'p10' and (y[i+3] == '1' or y[i+3] == '0' ) :  \n",
    "            listFalhaP10.append(y[i+3])\n",
    "        if y[i] == 'p10' and (y[i+2] == '1' or y[i+2] == '0' ) :  \n",
    "            listFalhaP10.append(y[i+2])\n",
    "getSaidasPortas()\n",
    "print('P0', listFalhaP0,'P1',listFalhaP1,'P2',listFalhaP2,'P3',listFalhaP3,'P4',listFalhaP4,'P5',listFalhaP5,'P6',listFalhaP6,'P7',listFalhaP7,'P8',listFalhaP8,'P9',listFalhaP9,'P10',listFalhaP10)\n"
   ]
  },
  {
   "cell_type": "markdown",
   "metadata": {},
   "source": [
    "### Pegando o circuito lógico como um mapa para aplicar a um Dataframe"
   ]
  },
  {
   "cell_type": "code",
   "execution_count": 7,
   "metadata": {},
   "outputs": [
    {
     "data": {
      "text/plain": [
       "{'p1 ': '( ( ( A ^  B ) ^ C ) )\\n',\n",
       " 'p2 ': '( C and ( A ^  B ) )\\n',\n",
       " 'p3 ': '( B and A )\\n',\n",
       " 'p4 ': '( ( C and ( A ^  B ) ) or ( B and A ) )\\n',\n",
       " 'pF1': ' ( ( ( C and ( A ^  B ) ) or ( B and A ) ) )\\n',\n",
       " 'pF2': ' ( ( ( ( A ^  B ) ^ C ) ) )'}"
      ]
     },
     "execution_count": 7,
     "metadata": {},
     "output_type": "execute_result"
    }
   ],
   "source": [
    "listaPortas = []\n",
    "listaForm= []\n",
    "def mapeamentoCircuito():\n",
    "    lPort = []\n",
    "    for i in range(3, len(texto)):\n",
    "        lPort.append(texto[i][0:3])\n",
    "        listaPortas.append(texto[i][0:3])\n",
    "#     print(lPort)\n",
    "    lForm = []\n",
    "    for i in range(3, len(texto)):\n",
    "        lForm.append(texto[i][5:])\n",
    "        listaForm.append(texto[i][5:])\n",
    "#     print(lForm)\n",
    "    mapCircuito = dict(zip(lPort, lForm))\n",
    "#     print(\"Lista: \",mapCircuito)\n",
    "    return mapCircuito\n",
    "mapeamentoCircuito()"
   ]
  },
  {
   "cell_type": "markdown",
   "metadata": {},
   "source": [
    "# Pegando o circuito e colocando em um csv"
   ]
  },
  {
   "cell_type": "code",
   "execution_count": 8,
   "metadata": {},
   "outputs": [
    {
     "data": {
      "text/html": [
       "<div>\n",
       "<style scoped>\n",
       "    .dataframe tbody tr th:only-of-type {\n",
       "        vertical-align: middle;\n",
       "    }\n",
       "\n",
       "    .dataframe tbody tr th {\n",
       "        vertical-align: top;\n",
       "    }\n",
       "\n",
       "    .dataframe thead th {\n",
       "        text-align: right;\n",
       "    }\n",
       "</style>\n",
       "<table border=\"1\" class=\"dataframe\">\n",
       "  <thead>\n",
       "    <tr style=\"text-align: right;\">\n",
       "      <th></th>\n",
       "      <th>p1</th>\n",
       "      <th>p2</th>\n",
       "      <th>p3</th>\n",
       "      <th>p4</th>\n",
       "      <th>pF1</th>\n",
       "      <th>pF2</th>\n",
       "    </tr>\n",
       "  </thead>\n",
       "  <tbody>\n",
       "    <tr>\n",
       "      <th>0</th>\n",
       "      <td>( ( ( A ^  B ) ^ C ) )\\n</td>\n",
       "      <td>( C and ( A ^  B ) )\\n</td>\n",
       "      <td>( B and A )\\n</td>\n",
       "      <td>( ( C and ( A ^  B ) ) or ( B and A ) )\\n</td>\n",
       "      <td>( ( ( C and ( A ^  B ) ) or ( B and A ) ) )\\n</td>\n",
       "      <td>( ( ( ( A ^  B ) ^ C ) ) )</td>\n",
       "    </tr>\n",
       "  </tbody>\n",
       "</table>\n",
       "</div>"
      ],
      "text/plain": [
       "                        p1                      p2             p3   \\\n",
       "0  ( ( ( A ^  B ) ^ C ) )\\n  ( C and ( A ^  B ) )\\n  ( B and A )\\n   \n",
       "\n",
       "                                         p4   \\\n",
       "0  ( ( C and ( A ^  B ) ) or ( B and A ) )\\n   \n",
       "\n",
       "                                              pF1                          pF2  \n",
       "0   ( ( ( C and ( A ^  B ) ) or ( B and A ) ) )\\n   ( ( ( ( A ^  B ) ^ C ) ) )  "
      ]
     },
     "execution_count": 8,
     "metadata": {},
     "output_type": "execute_result"
    }
   ],
   "source": [
    "# Pegando o circuito e colocando em um CSV\n",
    "dfCircuito = pd.DataFrame(data=mapeamentoCircuito(), index=[0])\n",
    "dfCircuito"
   ]
  },
  {
   "cell_type": "markdown",
   "metadata": {},
   "source": [
    "# Colocando o circuito como uma lista para repassar para a função que irá gerar a tabela verdade"
   ]
  },
  {
   "cell_type": "code",
   "execution_count": 9,
   "metadata": {},
   "outputs": [
    {
     "data": {
      "text/plain": [
       "['( ( ( A ^  B ) ^ C ) )\\n',\n",
       " '( C and ( A ^  B ) )\\n',\n",
       " '( B and A )\\n',\n",
       " '( ( C and ( A ^  B ) ) or ( B and A ) )\\n',\n",
       " ' ( ( ( C and ( A ^  B ) ) or ( B and A ) ) )\\n',\n",
       " ' ( ( ( ( A ^  B ) ^ C ) ) )']"
      ]
     },
     "execution_count": 9,
     "metadata": {},
     "output_type": "execute_result"
    }
   ],
   "source": [
    "# Colocando o circuito como uma lista para repassar para a função que irá gerar a tabela verdade\n",
    "listCircuito = dfCircuito.values.tolist()\n",
    "listCircuito = list(chain.from_iterable(listCircuito)) # gerando uma lista de uma lista de lista\n",
    "listCircuito"
   ]
  },
  {
   "cell_type": "markdown",
   "metadata": {},
   "source": [
    "## Aplicando cada fórmula nas portas"
   ]
  },
  {
   "cell_type": "code",
   "execution_count": 10,
   "metadata": {},
   "outputs": [],
   "source": [
    "def aplicaClausula():\n",
    "    # Substituindo e gerando o circuito. Circuito de Teste\n",
    "    for feature in dfCircuito.columns:\n",
    "        for i in range(len(listCircuito)):\n",
    "            print(dfCircuito[feature])\n",
    "            dfCircuito[feature].replace(dfCircuito.columns[i], listCircuito[i], regex=True, inplace=True)\n",
    "            dfCircuito[feature].replace(\"\\n\", \"\", regex=True, inplace=True)            \n",
    "            dfCircuito[feature].replace(dfCircuito.columns[i], listCircuito[i], regex=True, inplace=True)\n",
    "            dfCircuito[feature].replace(\"\\n\", \"\", regex=True, inplace=True)            \n",
    "# aplicaClausula()"
   ]
  },
  {
   "cell_type": "code",
   "execution_count": 11,
   "metadata": {},
   "outputs": [],
   "source": [
    "listCircuito[0] == dfCircuito.values[0][0]\n",
    "# dfCircuito.values[0][0]\n",
    "\n",
    "def aplicaClausulaComFalhas():\n",
    "    # Substituindo e gerando o circuito. Circuito de Teste\n",
    "    for feature in dfCircuito.columns:\n",
    "        for i in range(len(listCircuito)):\n",
    "            if len(listFalhaP0)>0:  # Se temos falhas de Saida em P0 --len(listFalhaP0)\n",
    "                dfCircuito[feature].replace(listCircuito[0], listFalhaP0[0], regex=True, inplace=True)\n",
    "                dfCircuito[feature].replace('p0', listFalhaP0[0], regex=True, inplace=True)\n",
    "#                 print('sucesso p0')\n",
    "\n",
    "            if len(listFalhaP1)>0:  # Se temos falhas de Saida em P1 --len(listFalhaP0)\n",
    "                dfCircuito[feature].replace(listCircuito[1], listFalhaP1[0], regex=True, inplace=True)\n",
    "                dfCircuito[feature].replace('p1', listFalhaP1[0], regex=True, inplace=True)\n",
    "\n",
    "            if len(listFalhaP2)>0:  # Se temos falhas de Saida em P1 --len(listFalhaP0)\n",
    "                dfCircuito[feature].replace(listCircuito[1], listFalhaP2[0], regex=True, inplace=True)\n",
    "                dfCircuito[feature].replace('p2', listFalhaP2[0], regex=True, inplace=True)\n",
    "                \n",
    "            if len(listFalhaP3)>0:  # Se temos falhas de Saida em P1 --len(listFalhaP0)\n",
    "                dfCircuito[feature].replace(listCircuito[1], listFalhaP3[0], regex=True, inplace=True)\n",
    "                dfCircuito[feature].replace('p3', listFalhaP3[0], regex=True, inplace=True)\n",
    "                \n",
    "            if len(listFalhaP4)>0:  # Se temos falhas de Saida em P1 --len(listFalhaP0)\n",
    "                dfCircuito[feature].replace(listCircuito[1], listFalhaP4[0], regex=True, inplace=True)\n",
    "                dfCircuito[feature].replace('p4', listFalhaP4[0], regex=True, inplace=True)\n",
    "            if len(listFalhaP5)>0:  # Se temos falhas de Saida em P1 --len(listFalhaP0)\n",
    "                dfCircuito[feature].replace(listCircuito[1], listFalhaP5[0], regex=True, inplace=True)\n",
    "                dfCircuito[feature].replace('p5', listFalhaP5[0], regex=True, inplace=True)\n",
    "                \n",
    "            if len(listFalhaP6)>0:  # Se temos falhas de Saida em P1 --len(listFalhaP0)\n",
    "                dfCircuito[feature].replace(listCircuito[1], listFalhaP6[0], regex=True, inplace=True)\n",
    "                dfCircuito[feature].replace('p6', listFalhaP6[0], regex=True, inplace=True)\n",
    "                \n",
    "            if len(listFalhaP7)>0:  # Se temos falhas de Saida em P1 --len(listFalhaP0)\n",
    "                dfCircuito[feature].replace(listCircuito[1], listFalhaP7[0], regex=True, inplace=True)\n",
    "                dfCircuito[feature].replace('p7', listFalhaP7[0], regex=True, inplace=True)\n",
    "                \n",
    "            if len(listFalhaP8)>0:  # Se temos falhas de Saida em P1 --len(listFalhaP0)\n",
    "                dfCircuito[feature].replace(listCircuito[1], listFalhaP8[0], regex=True, inplace=True)\n",
    "                dfCircuito[feature].replace('p8', listFalhaP8[0], regex=True, inplace=True)\n",
    "\n",
    "            if len(listFalhaP9)>0:  # Se temos falhas de Saida em P1 --len(listFalhaP0)\n",
    "                dfCircuito[feature].replace(listCircuito[1], listFalhaP9[0], regex=True, inplace=True)\n",
    "                dfCircuito[feature].replace('p9', listFalhaP9[0], regex=True, inplace=True)\n",
    "\n",
    "            if len(listFalhaP10)>0:  # Se temos falhas de Saida em P1 --len(listFalhaP0)\n",
    "                dfCircuito[feature].replace(listCircuito[1], listFalhaP10[0], regex=True, inplace=True)\n",
    "                dfCircuito[feature].replace('p10', listFalhaP10[0], regex=True, inplace=True)\n",
    "# aplicaClausulaComFalhas()"
   ]
  },
  {
   "cell_type": "code",
   "execution_count": 12,
   "metadata": {},
   "outputs": [
    {
     "name": "stdout",
     "output_type": "stream",
     "text": [
      "p1  = ( ( ( A ^  B ) ^ C ) )\\n', 'p2  = ( C and ( A ^  B ) )\\n', 'p3  = ( B and A )\\n', 'p4  = ( ( C and ( A ^  B ) ) or ( B and A ) )\\n', 'pF1 =  ( ( ( C and ( A ^  B ) ) or ( B and A ) ) )\\n', 'pF2 =  ( ( ( ( A ^  B ) ^ C ) ) )', 'p1  = ( ( ( A ^  B ) ^ C ) )\\n', 'p2  = ( C and ( A ^  B ) )\\n', 'p3  = ( B and A )\\n', 'p4  = ( ( C and ( A ^  B ) ) or ( B and A ) )\\n', 'pF1 =  ( ( ( C and ( A ^  B ) ) or ( B and A ) ) )\\n', 'pF2 =  ( ( ( ( A ^  B ) ^ C ) ) )', 'p1  = ( ( ( A ^  B ) ^ C ) )\\n', 'p2  = ( C and ( A ^  B ) )\\n', 'p3  = ( B and A )\\n', 'p4  = ( ( C and ( A ^  B ) ) or ( B and A ) )\\n', 'pF1 =  ( ( ( C and ( A ^  B ) ) or ( B and A ) ) )\\n', 'pF2 =  ( ( ( ( A ^  B ) ^ C ) ) )', 'p1  = ( ( ( A ^  B ) ^ C ) )\\n', 'p2  = ( C and ( A ^  B ) )\\n', 'p3  = ( B and A )\\n', 'p4  = ( ( C and ( A ^  B ) ) or ( B and A ) )\\n', 'pF1 =  ( ( ( C and ( A ^  B ) ) or ( B and A ) ) )\\n', 'pF2 =  ( ( ( ( A ^  B ) ^ C ) ) )', 'p1  = ( ( ( A ^  B ) ^ C ) )\\n', 'p2  = ( C and ( A ^  B ) )\\n', 'p3  = ( B and A )\\n', 'p4  = ( ( C and ( A ^  B ) ) or ( B and A ) )\\n', 'pF1 =  ( ( ( C and ( A ^  B ) ) or ( B and A ) ) )\\n', 'pF2 =  ( ( ( ( A ^  B ) ^ C ) ) )', 'p1  = ( ( ( A ^  B ) ^ C ) )\\n', 'p2  = ( C and ( A ^  B ) )\\n', 'p3  = ( B and A )\\n', 'p4  = ( ( C and ( A ^  B ) ) or ( B and A ) )\\n', 'pF1 =  ( ( ( C and ( A ^  B ) ) or ( B and A ) ) )\\n', 'pF2 =  ( ( ( ( A ^  B ) ^ C ) ) )\n",
      "0    ( ( ( A ^  B ) ^ C ) )\\n\n",
      "Name: p1 , dtype: object\n",
      "0    ( ( ( A ^  B ) ^ C ) )\n",
      "Name: p1 , dtype: object\n",
      "0    ( ( ( A ^  B ) ^ C ) )\n",
      "Name: p1 , dtype: object\n",
      "0    ( ( ( A ^  B ) ^ C ) )\n",
      "Name: p1 , dtype: object\n",
      "0    ( ( ( A ^  B ) ^ C ) )\n",
      "Name: p1 , dtype: object\n",
      "0    ( ( ( A ^  B ) ^ C ) )\n",
      "Name: p1 , dtype: object\n",
      "0    ( C and ( A ^  B ) )\\n\n",
      "Name: p2 , dtype: object\n",
      "0    ( C and ( A ^  B ) )\n",
      "Name: p2 , dtype: object\n",
      "0    ( C and ( A ^  B ) )\n",
      "Name: p2 , dtype: object\n",
      "0    ( C and ( A ^  B ) )\n",
      "Name: p2 , dtype: object\n",
      "0    ( C and ( A ^  B ) )\n",
      "Name: p2 , dtype: object\n",
      "0    ( C and ( A ^  B ) )\n",
      "Name: p2 , dtype: object\n",
      "0    ( B and A )\\n\n",
      "Name: p3 , dtype: object\n",
      "0    ( B and A )\n",
      "Name: p3 , dtype: object\n",
      "0    ( B and A )\n",
      "Name: p3 , dtype: object\n",
      "0    ( B and A )\n",
      "Name: p3 , dtype: object\n",
      "0    ( B and A )\n",
      "Name: p3 , dtype: object\n",
      "0    ( B and A )\n",
      "Name: p3 , dtype: object\n",
      "0    ( ( C and ( A ^  B ) ) or ( B and A ) )\\n\n",
      "Name: p4 , dtype: object\n",
      "0    ( ( C and ( A ^  B ) ) or ( B and A ) )\n",
      "Name: p4 , dtype: object\n",
      "0    ( ( C and ( A ^  B ) ) or ( B and A ) )\n",
      "Name: p4 , dtype: object\n",
      "0    ( ( C and ( A ^  B ) ) or ( B and A ) )\n",
      "Name: p4 , dtype: object\n",
      "0    ( ( C and ( A ^  B ) ) or ( B and A ) )\n",
      "Name: p4 , dtype: object\n",
      "0    ( ( C and ( A ^  B ) ) or ( B and A ) )\n",
      "Name: p4 , dtype: object\n",
      "0     ( ( ( C and ( A ^  B ) ) or ( B and A ) ) )\\n\n",
      "Name: pF1, dtype: object\n",
      "0     ( ( ( C and ( A ^  B ) ) or ( B and A ) ) )\n",
      "Name: pF1, dtype: object\n",
      "0     ( ( ( C and ( A ^  B ) ) or ( B and A ) ) )\n",
      "Name: pF1, dtype: object\n",
      "0     ( ( ( C and ( A ^  B ) ) or ( B and A ) ) )\n",
      "Name: pF1, dtype: object\n",
      "0     ( ( ( C and ( A ^  B ) ) or ( B and A ) ) )\n",
      "Name: pF1, dtype: object\n",
      "0     ( ( ( C and ( A ^  B ) ) or ( B and A ) ) )\n",
      "Name: pF1, dtype: object\n",
      "0     ( ( ( ( A ^  B ) ^ C ) ) )\n",
      "Name: pF2, dtype: object\n",
      "0     ( ( ( ( A ^  B ) ^ C ) ) )\n",
      "Name: pF2, dtype: object\n",
      "0     ( ( ( ( A ^  B ) ^ C ) ) )\n",
      "Name: pF2, dtype: object\n",
      "0     ( ( ( ( A ^  B ) ^ C ) ) )\n",
      "Name: pF2, dtype: object\n",
      "0     ( ( ( ( A ^  B ) ^ C ) ) )\n",
      "Name: pF2, dtype: object\n",
      "0     ( ( ( ( A ^  B ) ^ C ) ) )\n",
      "Name: pF2, dtype: object\n"
     ]
    }
   ],
   "source": [
    "## Execute o programa mais uma  vez dessa vez sem falhas\n",
    "\n",
    "# gerarCSV =  0 # 0 Roda o programa com Falha\n",
    "gerarCSV = 1 # 0 Roda o programa sem Falha\n",
    "\n",
    "\n",
    "\n",
    "circuitoOriginalVar = []\n",
    "circuitoOriginal = []\n",
    "# Gerando o circuito 1 original\n",
    "circuitoOriginalVar.append('var = ')          \n",
    "for i in range(len(var)):\n",
    "    circuitoOriginalVar.append(var[i])          \n",
    "for feature in dfCircuito.columns:\n",
    "    for i in range(len(listCircuito)):\n",
    "        circuitoOriginal.append(dfCircuito.columns[i]+' = '+ listCircuito[i])  \n",
    "        \n",
    "        \n",
    "circuitoOriginalVar = str(circuitoOriginalVar).replace(\"'\", '').replace(\"  \", ' ').replace(\"[var\", 'var ').replace(' , ',' [ ').replace('\")', '').replace(\"('\", '')\n",
    "c = str(circuitoOriginal).replace(\"['\", '').replace(\"\\n\", '').replace(\"']\", '') \n",
    "print(c)\n",
    "\n",
    "if gerarCSV ==1:\n",
    "    aplicaClausula()    \n",
    "if gerarCSV ==0:\n",
    "    aplicaClausulaComFalhas() \n",
    "    "
   ]
  },
  {
   "cell_type": "markdown",
   "metadata": {},
   "source": [
    "## Salvando o csv com o circuito"
   ]
  },
  {
   "cell_type": "code",
   "execution_count": 14,
   "metadata": {},
   "outputs": [
    {
     "name": "stdout",
     "output_type": "stream",
     "text": [
      "0    ( ( ( A ^  B ) ^ C ) )\n",
      "Name: p1 , dtype: object\n",
      "0    ( ( ( A ^  B ) ^ C ) )\n",
      "Name: p1 , dtype: object\n",
      "0    ( ( ( A ^  B ) ^ C ) )\n",
      "Name: p1 , dtype: object\n",
      "0    ( ( ( A ^  B ) ^ C ) )\n",
      "Name: p1 , dtype: object\n",
      "0    ( ( ( A ^  B ) ^ C ) )\n",
      "Name: p1 , dtype: object\n",
      "0    ( ( ( A ^  B ) ^ C ) )\n",
      "Name: p1 , dtype: object\n",
      "0    ( C and ( A ^  B ) )\n",
      "Name: p2 , dtype: object\n",
      "0    ( C and ( A ^  B ) )\n",
      "Name: p2 , dtype: object\n",
      "0    ( C and ( A ^  B ) )\n",
      "Name: p2 , dtype: object\n",
      "0    ( C and ( A ^  B ) )\n",
      "Name: p2 , dtype: object\n",
      "0    ( C and ( A ^  B ) )\n",
      "Name: p2 , dtype: object\n",
      "0    ( C and ( A ^  B ) )\n",
      "Name: p2 , dtype: object\n",
      "0    ( B and A )\n",
      "Name: p3 , dtype: object\n",
      "0    ( B and A )\n",
      "Name: p3 , dtype: object\n",
      "0    ( B and A )\n",
      "Name: p3 , dtype: object\n",
      "0    ( B and A )\n",
      "Name: p3 , dtype: object\n",
      "0    ( B and A )\n",
      "Name: p3 , dtype: object\n",
      "0    ( B and A )\n",
      "Name: p3 , dtype: object\n",
      "0    ( ( C and ( A ^  B ) ) or ( B and A ) )\n",
      "Name: p4 , dtype: object\n",
      "0    ( ( C and ( A ^  B ) ) or ( B and A ) )\n",
      "Name: p4 , dtype: object\n",
      "0    ( ( C and ( A ^  B ) ) or ( B and A ) )\n",
      "Name: p4 , dtype: object\n",
      "0    ( ( C and ( A ^  B ) ) or ( B and A ) )\n",
      "Name: p4 , dtype: object\n",
      "0    ( ( C and ( A ^  B ) ) or ( B and A ) )\n",
      "Name: p4 , dtype: object\n",
      "0    ( ( C and ( A ^  B ) ) or ( B and A ) )\n",
      "Name: p4 , dtype: object\n",
      "0     ( ( ( C and ( A ^  B ) ) or ( B and A ) ) )\n",
      "Name: pF1, dtype: object\n",
      "0     ( ( ( C and ( A ^  B ) ) or ( B and A ) ) )\n",
      "Name: pF1, dtype: object\n",
      "0     ( ( ( C and ( A ^  B ) ) or ( B and A ) ) )\n",
      "Name: pF1, dtype: object\n",
      "0     ( ( ( C and ( A ^  B ) ) or ( B and A ) ) )\n",
      "Name: pF1, dtype: object\n",
      "0     ( ( ( C and ( A ^  B ) ) or ( B and A ) ) )\n",
      "Name: pF1, dtype: object\n",
      "0     ( ( ( C and ( A ^  B ) ) or ( B and A ) ) )\n",
      "Name: pF1, dtype: object\n",
      "0     ( ( ( ( A ^  B ) ^ C ) ) )\n",
      "Name: pF2, dtype: object\n",
      "0     ( ( ( ( A ^  B ) ^ C ) ) )\n",
      "Name: pF2, dtype: object\n",
      "0     ( ( ( ( A ^  B ) ^ C ) ) )\n",
      "Name: pF2, dtype: object\n",
      "0     ( ( ( ( A ^  B ) ^ C ) ) )\n",
      "Name: pF2, dtype: object\n",
      "0     ( ( ( ( A ^  B ) ^ C ) ) )\n",
      "Name: pF2, dtype: object\n",
      "0     ( ( ( ( A ^  B ) ^ C ) ) )\n",
      "Name: pF2, dtype: object\n"
     ]
    }
   ],
   "source": [
    "\n",
    "if gerarCSV ==0:\n",
    "#     AplicarFalhaCircuito()  # depois\n",
    "    aplicaClausulaComFalhas()\n",
    "    dfCircuito.to_csv('circuito1ComFalha.csv', index=False)\n",
    "else:    \n",
    "    aplicaClausula()\n",
    "    dfCircuito.to_csv('circuito1SemFalha.csv', index=False)"
   ]
  },
  {
   "cell_type": "markdown",
   "metadata": {},
   "source": [
    "## Função para gerar a tabela verdade. "
   ]
  },
  {
   "cell_type": "code",
   "execution_count": 16,
   "metadata": {},
   "outputs": [],
   "source": [
    "### Informe o nome do arquivo para saída do Circuito\n",
    "if gerarCSV ==0:\n",
    "    saidaCircuitoTxt = 'saidaCircuitoTxt1Falha'\n",
    "    saidaCircuitoCsv = 'saidaCircuitoCSV1Falha'\n",
    "else:\n",
    "    saidaCircuitoTxt = 'saidaCircuitoTxt1SemFalha'\n",
    "    saidaCircuitoCsv = 'saidaCircuitoCSV1SemFalha'\n",
    "    "
   ]
  },
  {
   "cell_type": "code",
   "execution_count": 24,
   "metadata": {},
   "outputs": [],
   "source": [
    "class Gob(object):\n",
    "    pass\n",
    "\n",
    "class Truths(object):\n",
    "    def __init__(self, base=None, phrases=None, ints=True):\n",
    "        if not base:\n",
    "            raise Exception('Base items are required')\n",
    "        self.base = base\n",
    "        self.phrases = phrases or []\n",
    "        self.ints = ints\n",
    "\n",
    "        # generate the sets of booleans for the bases\n",
    "        self.base_conditions = list(itertools.product([False, True],\n",
    "                                                      repeat=len(base)))\n",
    "\n",
    "        # regex to match whole words defined in self.bases\n",
    "        # used to add object context to variables in self.phrases\n",
    "        self.p = re.compile(r'(?<!\\w)(' + '|'.join(self.base) + ')(?!\\w)')\n",
    "\n",
    "    def calculate(self, *args):\n",
    "        # store bases in an object context\n",
    "        g = Gob()\n",
    "        for a, b in zip(self.base, args):\n",
    "            setattr(g, a, b)\n",
    "\n",
    "        # add object context to any base variables in self.phrases\n",
    "        # then evaluate each\n",
    "        eval_phrases = []\n",
    "        for item in self.phrases:\n",
    "            item = self.p.sub(r'g.\\1', item)\n",
    "            eval_phrases.append(eval(item))\n",
    "\n",
    "        # add the bases and evaluated phrases to create a single row\n",
    "        row = [getattr(g, b) for b in self.base] + eval_phrases\n",
    "        if self.ints:\n",
    "            return [int(item) for item in row]\n",
    "        else:\n",
    "            return row\n",
    "\n",
    "    def __str__(self):\n",
    "        t = PrettyTable(self.base + self.phrases)\n",
    "        for conditions_set in self.base_conditions:\n",
    "            t.add_row(self.calculate(*conditions_set))\n",
    "        # Criando e escrevendo em arquivos de texto (modo 'w'). # Falhas\n",
    "            arquivo = open(saidaCircuitoTxt+'.txt','w')\n",
    "            arquivo.write(str(t))\n",
    "            arquivo.close()\n",
    "            df = pd.read_html(t.get_html_string())[0]\n",
    "            df.columns = df.iloc[0]\n",
    "            df = df.reindex(df.index.drop(0))\n",
    "            df.to_csv(saidaCircuitoCsv+\".csv\" , index=False)\n",
    "\n",
    "         # Criando e escrevendo em arquivos de texto (modo 'w').\n",
    "            arquivo2 = open('SaidasFalhasS1.txt','a')\n",
    "            arquivo2.write(str(t))\n",
    "            arquivo2.close()\n",
    "            df2 = pd.read_html(t.get_html_string())[0]\n",
    "            df2.columns = df2.iloc[0]\n",
    "            df2 = df.reindex(df2.index.drop(0))\n",
    "            df2.to_csv(\"SaidasFalhasS1.csv\" , index=False)\n",
    "            \n",
    "            # Criando e escrevendo em arquivos de texto (modo 'w').\n",
    "            arquivo3 = open('SaidasFalhasS2.txt','a')\n",
    "            arquivo3.write(str(t))\n",
    "            arquivo3.close()\n",
    "            df3 = pd.read_html(t.get_html_string())[0]\n",
    "            df3.columns = df3.iloc[0]\n",
    "            df3 = df.reindex(df3.index.drop(0))\n",
    "            df3.to_csv(\"SaidasFalhasS2.csv\" , index=False)\n",
    "\n",
    "        return str(t)# t.get_html_string()  #str(t)\n"
   ]
  },
  {
   "cell_type": "markdown",
   "metadata": {},
   "source": [
    "# Colocando o circuito como uma lista para repassar para a função que irá gerar a tabela verdade"
   ]
  },
  {
   "cell_type": "code",
   "execution_count": 18,
   "metadata": {},
   "outputs": [
    {
     "data": {
      "text/plain": [
       "['( ( ( A ^  B ) ^ C ) )',\n",
       " '( C and ( A ^  B ) )',\n",
       " '( B and A )',\n",
       " '( ( C and ( A ^  B ) ) or ( B and A ) )',\n",
       " ' ( ( ( C and ( A ^  B ) ) or ( B and A ) ) )',\n",
       " ' ( ( ( ( A ^  B ) ^ C ) ) )']"
      ]
     },
     "execution_count": 18,
     "metadata": {},
     "output_type": "execute_result"
    }
   ],
   "source": [
    "# Colocando o circuito como uma lista para repassar para a função que irá gerar a tabela verdade\n",
    "listCircuito = dfCircuito.values.tolist()\n",
    "listCircuito = list(chain.from_iterable(listCircuito))\n",
    "listCircuito"
   ]
  },
  {
   "cell_type": "markdown",
   "metadata": {},
   "source": [
    "#### Variáveis do circuito, regras de cada porta.\n",
    "\n",
    "#### Substituindo a falha no circuito. "
   ]
  },
  {
   "cell_type": "code",
   "execution_count": 19,
   "metadata": {},
   "outputs": [
    {
     "name": "stdout",
     "output_type": "stream",
     "text": [
      "0    ( ( ( A ^  B ) ^ C ) )\n",
      "Name: p1 , dtype: object\n",
      "0    ( ( ( A ^  B ) ^ C ) )\n",
      "Name: p1 , dtype: object\n",
      "0    ( ( ( A ^  B ) ^ C ) )\n",
      "Name: p1 , dtype: object\n",
      "0    ( ( ( A ^  B ) ^ C ) )\n",
      "Name: p1 , dtype: object\n",
      "0    ( ( ( A ^  B ) ^ C ) )\n",
      "Name: p1 , dtype: object\n",
      "0    ( ( ( A ^  B ) ^ C ) )\n",
      "Name: p1 , dtype: object\n",
      "0    ( C and ( A ^  B ) )\n",
      "Name: p2 , dtype: object\n",
      "0    ( C and ( A ^  B ) )\n",
      "Name: p2 , dtype: object\n",
      "0    ( C and ( A ^  B ) )\n",
      "Name: p2 , dtype: object\n",
      "0    ( C and ( A ^  B ) )\n",
      "Name: p2 , dtype: object\n",
      "0    ( C and ( A ^  B ) )\n",
      "Name: p2 , dtype: object\n",
      "0    ( C and ( A ^  B ) )\n",
      "Name: p2 , dtype: object\n",
      "0    ( B and A )\n",
      "Name: p3 , dtype: object\n",
      "0    ( B and A )\n",
      "Name: p3 , dtype: object\n",
      "0    ( B and A )\n",
      "Name: p3 , dtype: object\n",
      "0    ( B and A )\n",
      "Name: p3 , dtype: object\n",
      "0    ( B and A )\n",
      "Name: p3 , dtype: object\n",
      "0    ( B and A )\n",
      "Name: p3 , dtype: object\n",
      "0    ( ( C and ( A ^  B ) ) or ( B and A ) )\n",
      "Name: p4 , dtype: object\n",
      "0    ( ( C and ( A ^  B ) ) or ( B and A ) )\n",
      "Name: p4 , dtype: object\n",
      "0    ( ( C and ( A ^  B ) ) or ( B and A ) )\n",
      "Name: p4 , dtype: object\n",
      "0    ( ( C and ( A ^  B ) ) or ( B and A ) )\n",
      "Name: p4 , dtype: object\n",
      "0    ( ( C and ( A ^  B ) ) or ( B and A ) )\n",
      "Name: p4 , dtype: object\n",
      "0    ( ( C and ( A ^  B ) ) or ( B and A ) )\n",
      "Name: p4 , dtype: object\n",
      "0     ( ( ( C and ( A ^  B ) ) or ( B and A ) ) )\n",
      "Name: pF1, dtype: object\n",
      "0     ( ( ( C and ( A ^  B ) ) or ( B and A ) ) )\n",
      "Name: pF1, dtype: object\n",
      "0     ( ( ( C and ( A ^  B ) ) or ( B and A ) ) )\n",
      "Name: pF1, dtype: object\n",
      "0     ( ( ( C and ( A ^  B ) ) or ( B and A ) ) )\n",
      "Name: pF1, dtype: object\n",
      "0     ( ( ( C and ( A ^  B ) ) or ( B and A ) ) )\n",
      "Name: pF1, dtype: object\n",
      "0     ( ( ( C and ( A ^  B ) ) or ( B and A ) ) )\n",
      "Name: pF1, dtype: object\n",
      "0     ( ( ( ( A ^  B ) ^ C ) ) )\n",
      "Name: pF2, dtype: object\n",
      "0     ( ( ( ( A ^  B ) ^ C ) ) )\n",
      "Name: pF2, dtype: object\n",
      "0     ( ( ( ( A ^  B ) ^ C ) ) )\n",
      "Name: pF2, dtype: object\n",
      "0     ( ( ( ( A ^  B ) ^ C ) ) )\n",
      "Name: pF2, dtype: object\n",
      "0     ( ( ( ( A ^  B ) ^ C ) ) )\n",
      "Name: pF2, dtype: object\n",
      "0     ( ( ( ( A ^  B ) ^ C ) ) )\n",
      "Name: pF2, dtype: object\n"
     ]
    }
   ],
   "source": [
    "def AplicarFalhaCircuito():\n",
    "    # O passo trivial é que se existir mais portas no listCircuito ele será mapeado e o len(listCircuito) não excederá o index\n",
    "    for i in range(len(listCircuito)):\n",
    "        if len(listFalhaP0)>0:\n",
    "            listCircuito[0] = listFalhaP0[0]\n",
    "        if len(listFalhaP1)>0:\n",
    "            listCircuito[1] = listFalhaP1[0]\n",
    "        if len(listFalhaP2)>0:\n",
    "            listCircuito[2] = listFalhaP2[0]\n",
    "        if len(listFalhaP3)>0:\n",
    "            listCircuito[3] = listFalhaP3[0]\n",
    "        if len(listFalhaP4)>0:\n",
    "            listCircuito[4] = listFalhaP4[0]\n",
    "        if len(listFalhaP5)>0:\n",
    "            listCircuito[5] = listFalhaP5[0]\n",
    "        if len(listFalhaP6)>0:\n",
    "            listCircuito[6] = listFalhaP6[0]\n",
    "        if len(listFalhaP7)>0:\n",
    "            listCircuito[7] = listFalhaP7[0]\n",
    "        if len(listFalhaP8)>0:\n",
    "            listCircuito[8] = listFalhaP8[0]\n",
    "        if len(listFalhaP9)>0:\n",
    "            listCircuito[9] = listFalhaP9[0]\n",
    "        if len(listFalhaP10)>0:\n",
    "            listCircuito[10] = listFalhaP10[0]\n",
    "if gerarCSV ==0:\n",
    "    #### Funções que geram as falhas do circuito.\n",
    "    aplicaClausulaComFalhas()\n",
    "    AplicarFalhaCircuito()\n",
    "    data2 = pd.read_csv('circuito1ComFalha.csv')\n",
    "    data2.head(10)  # vendo os primeiros valores da tabela verdade\n",
    "else:\n",
    "    #### Funções que geram as falhas do circuito.\n",
    "    aplicaClausula()\n",
    "    data2 = pd.read_csv('circuito1SemFalha.csv')\n",
    "    data2.head(10)  # vendo os primeiros valores da tabela verdade"
   ]
  },
  {
   "cell_type": "code",
   "execution_count": 43,
   "metadata": {
    "scrolled": true
   },
   "outputs": [
    {
     "data": {
      "text/plain": [
       "[' ( ( ( 0 and ( A ^  B ) ) or ( B and A ) ) )',\n",
       " ' ( ( ( 1 and ( A ^  B ) ) or ( B and A ) ) )',\n",
       " ' ( ( ( C and ( 0 ^  B ) ) or ( B and 0 ) ) )',\n",
       " ' ( ( ( C and ( 1 ^  B ) ) or ( B and 1 ) ) )',\n",
       " ' ( ( ( C and ( A ^  0 ) ) or ( 0 and A ) ) )',\n",
       " ' ( ( ( C and ( A ^  1 ) ) or ( 1 and A ) ) )',\n",
       " ' ( ( ( C and ( A ^  B ) ) or ( B and A ) ) )']"
      ]
     },
     "execution_count": 43,
     "metadata": {},
     "output_type": "execute_result"
    }
   ],
   "source": [
    "def simularFalhasPorta2():\n",
    "        # Simular 10 falhas aleatórias no circuito\n",
    "    listaIndicesVar = []\n",
    "    listaSaidasCircuitoF1 = []\n",
    "\n",
    "    saidasCircuito = listCircuito[::-1] # Pegando as saídas Finais dos Circuitos\n",
    "    saidasCircuitoF1 = saidasCircuito[1]\n",
    "#     print(saidasCircuitoF1)\n",
    "    for i in range(len(saidasCircuitoF1)): # pegando os índices das variáveis para simular falhas de entrada no circuito\n",
    "        for j in range(len(var)):\n",
    "            if saidasCircuitoF1[i] == var[j]:\n",
    "                listaIndicesVar.append(i)\n",
    "\n",
    "    # Gerando 10 falhas aleatórias 1 a 1\n",
    "    for i in range(len(listaIndicesVar)):    \n",
    "    #     for j in range(len(saidasCircuitoF1)): # pegando os índices das variáveis para simular falhas de entrada no circuito\n",
    "        repP0 = saidasCircuitoF1.replace(saidasCircuitoF1[listaIndicesVar[i]], '0' )\n",
    "        repP1 = saidasCircuitoF1.replace(saidasCircuitoF1[listaIndicesVar[i]], '1' )\n",
    "        listaSaidasCircuitoF1.append(repP0)\n",
    "        listaSaidasCircuitoF1.append(repP1)\n",
    "        ## Adicionando no circuito as falhas 1 x 1 presa em 0 e 1\n",
    "\n",
    "#         print(repP0, repP1)\n",
    "    ### Adicionando a lista de ocorrencias para gerar a TV\n",
    "#     for i in range(len((listaSaidasCircuitoF1))):\n",
    "#         print(listaSaidasCircuitoF1[i])\n",
    "    #     print('aqui ',saidasCircuitoF1, len(saidasCircuitoF1))\n",
    "\n",
    "    # listaSaidasCircuitoF2.append(saidasCircuitoF2)\n",
    "    # listaSaidasCircuitoF2\n",
    "    listaSaidasCircuitoF1.append(saidasCircuitoF1)\n",
    "#     type((listaSaidasCircuitoF1))\n",
    "    return sorted(set(listaSaidasCircuitoF1))\n",
    "\n",
    "def simularFalhasPorta1():\n",
    "    # Simular 10 falhas aleatórias no circuito\n",
    "    listaIndicesVar = []\n",
    "    listaSaidasCircuitoF2 = []\n",
    "\n",
    "    saidasCircuito = listCircuito[::-1] # Pegando as saídas Finais dos Circuitos\n",
    "    saidasCircuitoF2 = listCircuito[0]\n",
    "\n",
    "    for i in range(len(saidasCircuitoF2)): # pegando os índices das variáveis para simular falhas de entrada no circuito\n",
    "        for j in range(len(var)):\n",
    "            if saidasCircuitoF2[i] == var[j]:\n",
    "                listaIndicesVar.append(i)\n",
    "\n",
    "    # Gerando 10 falhas aleatórias 1 a 1\n",
    "    for i in range(len(listaIndicesVar)):    \n",
    "    #     for j in range(len(saidasCircuitoF1)): # pegando os índices das variáveis para simular falhas de entrada no circuito\n",
    "        repP0 = saidasCircuitoF2.replace(saidasCircuitoF2[listaIndicesVar[i]], '0' )\n",
    "        repP1 = saidasCircuitoF2.replace(saidasCircuitoF2[listaIndicesVar[i]], '1' )\n",
    "        listaSaidasCircuitoF2.append(repP0)\n",
    "        listaSaidasCircuitoF2.append(repP1)\n",
    "        ## Adicionando no circuito as falhas 1 x 1 presa em 0 e 1\n",
    "\n",
    "#         print(repP0, repP1)\n",
    "    ## Adicionando a lista de ocorrencias para gerar a TV\n",
    "    for i in range(len((listaSaidasCircuitoF2))):\n",
    "        print(listaSaidasCircuitoF2[i])\n",
    "#         print('aqui ',saidasCircuitoF1, len(saidasCircuitoF1))\n",
    "\n",
    "    listaSaidasCircuitoF2.append(saidasCircuitoF2)\n",
    "#     listaSaidasCircuitoF2\n",
    "#     type((listaSaidasCircuitoF2))\n",
    "    return listaSaidasCircuitoF2\n",
    "\n",
    "simularFalhasPorta2()"
   ]
  },
  {
   "cell_type": "code",
   "execution_count": 49,
   "metadata": {},
   "outputs": [
    {
     "data": {
      "text/plain": [
       "['( 0 and ( A ^  B ) )',\n",
       " '( 1 and ( A ^  B ) )',\n",
       " '( C and ( 0 ^  B ) )',\n",
       " '( C and ( 1 ^  B ) )',\n",
       " '( C and ( A ^  0 ) )',\n",
       " '( C and ( A ^  1 ) )']"
      ]
     },
     "execution_count": 49,
     "metadata": {},
     "output_type": "execute_result"
    }
   ],
   "source": [
    "simularFalhasPorta2()"
   ]
  },
  {
   "cell_type": "code",
   "execution_count": 19,
   "metadata": {},
   "outputs": [
    {
     "data": {
      "text/plain": [
       "(list, list)"
      ]
     },
     "execution_count": 19,
     "metadata": {},
     "output_type": "execute_result"
    }
   ],
   "source": [
    "type(listCircuito), type(listaSaidasCircuitoF1)"
   ]
  },
  {
   "cell_type": "code",
   "execution_count": 45,
   "metadata": {},
   "outputs": [
    {
     "name": "stdout",
     "output_type": "stream",
     "text": [
      "+---+---+---+----------------------------------------------+----------------------------------------------+----------------------------------------------+----------------------------------------------+----------------------------------------------+----------------------------------------------+----------------------------------------------+\n",
      "| A | B | C |  ( ( ( 0 and ( A ^  B ) ) or ( B and A ) ) ) |  ( ( ( 1 and ( A ^  B ) ) or ( B and A ) ) ) |  ( ( ( C and ( 0 ^  B ) ) or ( B and 0 ) ) ) |  ( ( ( C and ( 1 ^  B ) ) or ( B and 1 ) ) ) |  ( ( ( C and ( A ^  0 ) ) or ( 0 and A ) ) ) |  ( ( ( C and ( A ^  1 ) ) or ( 1 and A ) ) ) |  ( ( ( C and ( A ^  B ) ) or ( B and A ) ) ) |\n",
      "+---+---+---+----------------------------------------------+----------------------------------------------+----------------------------------------------+----------------------------------------------+----------------------------------------------+----------------------------------------------+----------------------------------------------+\n",
      "| 0 | 0 | 0 |                      0                       |                      0                       |                      0                       |                      0                       |                      0                       |                      0                       |                      0                       |\n",
      "| 0 | 0 | 1 |                      0                       |                      0                       |                      0                       |                      1                       |                      0                       |                      1                       |                      0                       |\n",
      "| 0 | 1 | 0 |                      0                       |                      1                       |                      0                       |                      1                       |                      0                       |                      0                       |                      0                       |\n",
      "| 0 | 1 | 1 |                      0                       |                      1                       |                      1                       |                      1                       |                      0                       |                      1                       |                      1                       |\n",
      "| 1 | 0 | 0 |                      0                       |                      1                       |                      0                       |                      0                       |                      0                       |                      1                       |                      0                       |\n",
      "| 1 | 0 | 1 |                      0                       |                      1                       |                      0                       |                      1                       |                      1                       |                      1                       |                      1                       |\n",
      "| 1 | 1 | 0 |                      1                       |                      1                       |                      0                       |                      1                       |                      0                       |                      1                       |                      1                       |\n",
      "| 1 | 1 | 1 |                      1                       |                      1                       |                      1                       |                      1                       |                      1                       |                      1                       |                      1                       |\n",
      "+---+---+---+----------------------------------------------+----------------------------------------------+----------------------------------------------+----------------------------------------------+----------------------------------------------+----------------------------------------------+----------------------------------------------+\n"
     ]
    }
   ],
   "source": [
    "# print( Truths(var, listCircuito, ints=True) )\n",
    "## Gerando Falhas para o Circuito 2\n",
    "print( Truths(var, simularFalhasPorta2(), ints=True) )\n",
    "## Gerando Falhas para o Circuito 1\n",
    "# print( Truths(var, simularFalhasPorta1(), ints=True) )\n",
    "\n",
    "# print( Truths(var, ['( C and ( A ^ B ) )','( ( ( A ^ B ) ^ C ) )'], ints=True) )\n"
   ]
  },
  {
   "cell_type": "code",
   "execution_count": 48,
   "metadata": {},
   "outputs": [
    {
     "data": {
      "text/html": [
       "<div>\n",
       "<style scoped>\n",
       "    .dataframe tbody tr th:only-of-type {\n",
       "        vertical-align: middle;\n",
       "    }\n",
       "\n",
       "    .dataframe tbody tr th {\n",
       "        vertical-align: top;\n",
       "    }\n",
       "\n",
       "    .dataframe thead th {\n",
       "        text-align: right;\n",
       "    }\n",
       "</style>\n",
       "<table border=\"1\" class=\"dataframe\">\n",
       "  <thead>\n",
       "    <tr style=\"text-align: right;\">\n",
       "      <th></th>\n",
       "      <th>A</th>\n",
       "      <th>B</th>\n",
       "      <th>C</th>\n",
       "      <th>( ( ( 0 and ( A ^ B ) ) or ( B and A ) ) )</th>\n",
       "      <th>( ( ( 1 and ( A ^ B ) ) or ( B and A ) ) )</th>\n",
       "      <th>( ( ( C and ( 0 ^ B ) ) or ( B and 0 ) ) )</th>\n",
       "      <th>( ( ( C and ( 1 ^ B ) ) or ( B and 1 ) ) )</th>\n",
       "      <th>( ( ( C and ( A ^ 0 ) ) or ( 0 and A ) ) )</th>\n",
       "      <th>( ( ( C and ( A ^ 1 ) ) or ( 1 and A ) ) )</th>\n",
       "      <th>( ( ( C and ( A ^ B ) ) or ( B and A ) ) )</th>\n",
       "    </tr>\n",
       "  </thead>\n",
       "  <tbody>\n",
       "    <tr>\n",
       "      <th>0</th>\n",
       "      <td>0</td>\n",
       "      <td>0</td>\n",
       "      <td>0</td>\n",
       "      <td>0</td>\n",
       "      <td>0</td>\n",
       "      <td>0</td>\n",
       "      <td>0</td>\n",
       "      <td>0</td>\n",
       "      <td>0</td>\n",
       "      <td>0</td>\n",
       "    </tr>\n",
       "    <tr>\n",
       "      <th>1</th>\n",
       "      <td>0</td>\n",
       "      <td>0</td>\n",
       "      <td>1</td>\n",
       "      <td>0</td>\n",
       "      <td>0</td>\n",
       "      <td>0</td>\n",
       "      <td>1</td>\n",
       "      <td>0</td>\n",
       "      <td>1</td>\n",
       "      <td>0</td>\n",
       "    </tr>\n",
       "    <tr>\n",
       "      <th>2</th>\n",
       "      <td>0</td>\n",
       "      <td>1</td>\n",
       "      <td>0</td>\n",
       "      <td>0</td>\n",
       "      <td>1</td>\n",
       "      <td>0</td>\n",
       "      <td>1</td>\n",
       "      <td>0</td>\n",
       "      <td>0</td>\n",
       "      <td>0</td>\n",
       "    </tr>\n",
       "    <tr>\n",
       "      <th>3</th>\n",
       "      <td>0</td>\n",
       "      <td>1</td>\n",
       "      <td>1</td>\n",
       "      <td>0</td>\n",
       "      <td>1</td>\n",
       "      <td>1</td>\n",
       "      <td>1</td>\n",
       "      <td>0</td>\n",
       "      <td>1</td>\n",
       "      <td>1</td>\n",
       "    </tr>\n",
       "    <tr>\n",
       "      <th>4</th>\n",
       "      <td>1</td>\n",
       "      <td>0</td>\n",
       "      <td>0</td>\n",
       "      <td>0</td>\n",
       "      <td>1</td>\n",
       "      <td>0</td>\n",
       "      <td>0</td>\n",
       "      <td>0</td>\n",
       "      <td>1</td>\n",
       "      <td>0</td>\n",
       "    </tr>\n",
       "  </tbody>\n",
       "</table>\n",
       "</div>"
      ],
      "text/plain": [
       "   A  B  C  ( ( ( 0 and ( A ^ B ) ) or ( B and A ) ) )  \\\n",
       "0  0  0  0                                           0   \n",
       "1  0  0  1                                           0   \n",
       "2  0  1  0                                           0   \n",
       "3  0  1  1                                           0   \n",
       "4  1  0  0                                           0   \n",
       "\n",
       "   ( ( ( 1 and ( A ^ B ) ) or ( B and A ) ) )  \\\n",
       "0                                           0   \n",
       "1                                           0   \n",
       "2                                           1   \n",
       "3                                           1   \n",
       "4                                           1   \n",
       "\n",
       "   ( ( ( C and ( 0 ^ B ) ) or ( B and 0 ) ) )  \\\n",
       "0                                           0   \n",
       "1                                           0   \n",
       "2                                           0   \n",
       "3                                           1   \n",
       "4                                           0   \n",
       "\n",
       "   ( ( ( C and ( 1 ^ B ) ) or ( B and 1 ) ) )  \\\n",
       "0                                           0   \n",
       "1                                           1   \n",
       "2                                           1   \n",
       "3                                           1   \n",
       "4                                           0   \n",
       "\n",
       "   ( ( ( C and ( A ^ 0 ) ) or ( 0 and A ) ) )  \\\n",
       "0                                           0   \n",
       "1                                           0   \n",
       "2                                           0   \n",
       "3                                           0   \n",
       "4                                           0   \n",
       "\n",
       "   ( ( ( C and ( A ^ 1 ) ) or ( 1 and A ) ) )  \\\n",
       "0                                           0   \n",
       "1                                           1   \n",
       "2                                           0   \n",
       "3                                           1   \n",
       "4                                           1   \n",
       "\n",
       "   ( ( ( C and ( A ^ B ) ) or ( B and A ) ) )  \n",
       "0                                           0  \n",
       "1                                           0  \n",
       "2                                           0  \n",
       "3                                           1  \n",
       "4                                           0  "
      ]
     },
     "execution_count": 48,
     "metadata": {},
     "output_type": "execute_result"
    }
   ],
   "source": [
    "dfFilesGerado = pd.read_csv(saidaCircuitoCsv+'.csv')\n",
    "## Salvando o arquivo com falhas parciais e fazendo o merge em um novo arquivo\n",
    "dfFilesFalhasS1 = pd.read_csv('SaidasFalhasS1.csv')\n",
    "# print(dfFilesFalhasS1.head(8) )\n",
    "dfFilesFalhasS2 = pd.read_csv('SaidasFalhasS2.csv')\n",
    "# print(dfFilesFalhasS2.head(8) )\n",
    "\n",
    "\n",
    "dfFilesGerado.head()\n"
   ]
  },
  {
   "cell_type": "code",
   "execution_count": 49,
   "metadata": {},
   "outputs": [
    {
     "data": {
      "text/html": [
       "<div>\n",
       "<style scoped>\n",
       "    .dataframe tbody tr th:only-of-type {\n",
       "        vertical-align: middle;\n",
       "    }\n",
       "\n",
       "    .dataframe tbody tr th {\n",
       "        vertical-align: top;\n",
       "    }\n",
       "\n",
       "    .dataframe thead th {\n",
       "        text-align: right;\n",
       "    }\n",
       "</style>\n",
       "<table border=\"1\" class=\"dataframe\">\n",
       "  <thead>\n",
       "    <tr style=\"text-align: right;\">\n",
       "      <th></th>\n",
       "      <th>A</th>\n",
       "      <th>B</th>\n",
       "      <th>C</th>\n",
       "      <th>( ( ( 0 and ( A ^ B ) ) or ( B and A ) ) )</th>\n",
       "      <th>( ( ( 1 and ( A ^ B ) ) or ( B and A ) ) )</th>\n",
       "      <th>( ( ( C and ( 0 ^ B ) ) or ( B and 0 ) ) )</th>\n",
       "      <th>( ( ( C and ( 1 ^ B ) ) or ( B and 1 ) ) )</th>\n",
       "      <th>( ( ( C and ( A ^ 0 ) ) or ( 0 and A ) ) )</th>\n",
       "      <th>( ( ( C and ( A ^ 1 ) ) or ( 1 and A ) ) )</th>\n",
       "      <th>( ( ( C and ( A ^ B ) ) or ( B and A ) ) )</th>\n",
       "    </tr>\n",
       "  </thead>\n",
       "  <tbody>\n",
       "    <tr>\n",
       "      <th>0</th>\n",
       "      <td>0</td>\n",
       "      <td>0</td>\n",
       "      <td>0</td>\n",
       "      <td>0</td>\n",
       "      <td>0</td>\n",
       "      <td>0</td>\n",
       "      <td>0</td>\n",
       "      <td>0</td>\n",
       "      <td>0</td>\n",
       "      <td>0</td>\n",
       "    </tr>\n",
       "    <tr>\n",
       "      <th>1</th>\n",
       "      <td>0</td>\n",
       "      <td>0</td>\n",
       "      <td>1</td>\n",
       "      <td>0</td>\n",
       "      <td>0</td>\n",
       "      <td>0</td>\n",
       "      <td>1</td>\n",
       "      <td>0</td>\n",
       "      <td>1</td>\n",
       "      <td>0</td>\n",
       "    </tr>\n",
       "    <tr>\n",
       "      <th>2</th>\n",
       "      <td>0</td>\n",
       "      <td>1</td>\n",
       "      <td>0</td>\n",
       "      <td>0</td>\n",
       "      <td>1</td>\n",
       "      <td>0</td>\n",
       "      <td>1</td>\n",
       "      <td>0</td>\n",
       "      <td>0</td>\n",
       "      <td>0</td>\n",
       "    </tr>\n",
       "    <tr>\n",
       "      <th>3</th>\n",
       "      <td>0</td>\n",
       "      <td>1</td>\n",
       "      <td>1</td>\n",
       "      <td>0</td>\n",
       "      <td>1</td>\n",
       "      <td>1</td>\n",
       "      <td>1</td>\n",
       "      <td>0</td>\n",
       "      <td>1</td>\n",
       "      <td>1</td>\n",
       "    </tr>\n",
       "    <tr>\n",
       "      <th>4</th>\n",
       "      <td>1</td>\n",
       "      <td>0</td>\n",
       "      <td>0</td>\n",
       "      <td>0</td>\n",
       "      <td>1</td>\n",
       "      <td>0</td>\n",
       "      <td>0</td>\n",
       "      <td>0</td>\n",
       "      <td>1</td>\n",
       "      <td>0</td>\n",
       "    </tr>\n",
       "    <tr>\n",
       "      <th>5</th>\n",
       "      <td>1</td>\n",
       "      <td>0</td>\n",
       "      <td>1</td>\n",
       "      <td>0</td>\n",
       "      <td>1</td>\n",
       "      <td>0</td>\n",
       "      <td>1</td>\n",
       "      <td>1</td>\n",
       "      <td>1</td>\n",
       "      <td>1</td>\n",
       "    </tr>\n",
       "    <tr>\n",
       "      <th>6</th>\n",
       "      <td>1</td>\n",
       "      <td>1</td>\n",
       "      <td>0</td>\n",
       "      <td>1</td>\n",
       "      <td>1</td>\n",
       "      <td>0</td>\n",
       "      <td>1</td>\n",
       "      <td>0</td>\n",
       "      <td>1</td>\n",
       "      <td>1</td>\n",
       "    </tr>\n",
       "    <tr>\n",
       "      <th>7</th>\n",
       "      <td>1</td>\n",
       "      <td>1</td>\n",
       "      <td>1</td>\n",
       "      <td>1</td>\n",
       "      <td>1</td>\n",
       "      <td>1</td>\n",
       "      <td>1</td>\n",
       "      <td>1</td>\n",
       "      <td>1</td>\n",
       "      <td>1</td>\n",
       "    </tr>\n",
       "  </tbody>\n",
       "</table>\n",
       "</div>"
      ],
      "text/plain": [
       "   A  B  C  ( ( ( 0 and ( A ^ B ) ) or ( B and A ) ) )  \\\n",
       "0  0  0  0                                           0   \n",
       "1  0  0  1                                           0   \n",
       "2  0  1  0                                           0   \n",
       "3  0  1  1                                           0   \n",
       "4  1  0  0                                           0   \n",
       "5  1  0  1                                           0   \n",
       "6  1  1  0                                           1   \n",
       "7  1  1  1                                           1   \n",
       "\n",
       "   ( ( ( 1 and ( A ^ B ) ) or ( B and A ) ) )  \\\n",
       "0                                           0   \n",
       "1                                           0   \n",
       "2                                           1   \n",
       "3                                           1   \n",
       "4                                           1   \n",
       "5                                           1   \n",
       "6                                           1   \n",
       "7                                           1   \n",
       "\n",
       "   ( ( ( C and ( 0 ^ B ) ) or ( B and 0 ) ) )  \\\n",
       "0                                           0   \n",
       "1                                           0   \n",
       "2                                           0   \n",
       "3                                           1   \n",
       "4                                           0   \n",
       "5                                           0   \n",
       "6                                           0   \n",
       "7                                           1   \n",
       "\n",
       "   ( ( ( C and ( 1 ^ B ) ) or ( B and 1 ) ) )  \\\n",
       "0                                           0   \n",
       "1                                           1   \n",
       "2                                           1   \n",
       "3                                           1   \n",
       "4                                           0   \n",
       "5                                           1   \n",
       "6                                           1   \n",
       "7                                           1   \n",
       "\n",
       "   ( ( ( C and ( A ^ 0 ) ) or ( 0 and A ) ) )  \\\n",
       "0                                           0   \n",
       "1                                           0   \n",
       "2                                           0   \n",
       "3                                           0   \n",
       "4                                           0   \n",
       "5                                           1   \n",
       "6                                           0   \n",
       "7                                           1   \n",
       "\n",
       "   ( ( ( C and ( A ^ 1 ) ) or ( 1 and A ) ) )  \\\n",
       "0                                           0   \n",
       "1                                           1   \n",
       "2                                           0   \n",
       "3                                           1   \n",
       "4                                           1   \n",
       "5                                           1   \n",
       "6                                           1   \n",
       "7                                           1   \n",
       "\n",
       "   ( ( ( C and ( A ^ B ) ) or ( B and A ) ) )  \n",
       "0                                           0  \n",
       "1                                           0  \n",
       "2                                           0  \n",
       "3                                           1  \n",
       "4                                           0  \n",
       "5                                           1  \n",
       "6                                           1  \n",
       "7                                           1  "
      ]
     },
     "execution_count": 49,
     "metadata": {},
     "output_type": "execute_result"
    }
   ],
   "source": [
    "dfFilesFalhasS1.head(8)\n"
   ]
  },
  {
   "cell_type": "code",
   "execution_count": 50,
   "metadata": {},
   "outputs": [
    {
     "data": {
      "text/html": [
       "<div>\n",
       "<style scoped>\n",
       "    .dataframe tbody tr th:only-of-type {\n",
       "        vertical-align: middle;\n",
       "    }\n",
       "\n",
       "    .dataframe tbody tr th {\n",
       "        vertical-align: top;\n",
       "    }\n",
       "\n",
       "    .dataframe thead th {\n",
       "        text-align: right;\n",
       "    }\n",
       "</style>\n",
       "<table border=\"1\" class=\"dataframe\">\n",
       "  <thead>\n",
       "    <tr style=\"text-align: right;\">\n",
       "      <th></th>\n",
       "      <th>A</th>\n",
       "      <th>B</th>\n",
       "      <th>C</th>\n",
       "      <th>( ( ( 0 and ( A ^ B ) ) or ( B and A ) ) )</th>\n",
       "      <th>( ( ( 1 and ( A ^ B ) ) or ( B and A ) ) )</th>\n",
       "      <th>( ( ( C and ( 0 ^ B ) ) or ( B and 0 ) ) )</th>\n",
       "      <th>( ( ( C and ( 1 ^ B ) ) or ( B and 1 ) ) )</th>\n",
       "      <th>( ( ( C and ( A ^ 0 ) ) or ( 0 and A ) ) )</th>\n",
       "      <th>( ( ( C and ( A ^ 1 ) ) or ( 1 and A ) ) )</th>\n",
       "      <th>( ( ( C and ( A ^ B ) ) or ( B and A ) ) )</th>\n",
       "    </tr>\n",
       "  </thead>\n",
       "  <tbody>\n",
       "    <tr>\n",
       "      <th>0</th>\n",
       "      <td>0</td>\n",
       "      <td>0</td>\n",
       "      <td>0</td>\n",
       "      <td>0</td>\n",
       "      <td>0</td>\n",
       "      <td>0</td>\n",
       "      <td>0</td>\n",
       "      <td>0</td>\n",
       "      <td>0</td>\n",
       "      <td>0</td>\n",
       "    </tr>\n",
       "    <tr>\n",
       "      <th>1</th>\n",
       "      <td>0</td>\n",
       "      <td>0</td>\n",
       "      <td>1</td>\n",
       "      <td>0</td>\n",
       "      <td>0</td>\n",
       "      <td>0</td>\n",
       "      <td>1</td>\n",
       "      <td>0</td>\n",
       "      <td>1</td>\n",
       "      <td>0</td>\n",
       "    </tr>\n",
       "    <tr>\n",
       "      <th>2</th>\n",
       "      <td>0</td>\n",
       "      <td>1</td>\n",
       "      <td>0</td>\n",
       "      <td>0</td>\n",
       "      <td>1</td>\n",
       "      <td>0</td>\n",
       "      <td>1</td>\n",
       "      <td>0</td>\n",
       "      <td>0</td>\n",
       "      <td>0</td>\n",
       "    </tr>\n",
       "    <tr>\n",
       "      <th>3</th>\n",
       "      <td>0</td>\n",
       "      <td>1</td>\n",
       "      <td>1</td>\n",
       "      <td>0</td>\n",
       "      <td>1</td>\n",
       "      <td>1</td>\n",
       "      <td>1</td>\n",
       "      <td>0</td>\n",
       "      <td>1</td>\n",
       "      <td>1</td>\n",
       "    </tr>\n",
       "    <tr>\n",
       "      <th>4</th>\n",
       "      <td>1</td>\n",
       "      <td>0</td>\n",
       "      <td>0</td>\n",
       "      <td>0</td>\n",
       "      <td>1</td>\n",
       "      <td>0</td>\n",
       "      <td>0</td>\n",
       "      <td>0</td>\n",
       "      <td>1</td>\n",
       "      <td>0</td>\n",
       "    </tr>\n",
       "    <tr>\n",
       "      <th>5</th>\n",
       "      <td>1</td>\n",
       "      <td>0</td>\n",
       "      <td>1</td>\n",
       "      <td>0</td>\n",
       "      <td>1</td>\n",
       "      <td>0</td>\n",
       "      <td>1</td>\n",
       "      <td>1</td>\n",
       "      <td>1</td>\n",
       "      <td>1</td>\n",
       "    </tr>\n",
       "    <tr>\n",
       "      <th>6</th>\n",
       "      <td>1</td>\n",
       "      <td>1</td>\n",
       "      <td>0</td>\n",
       "      <td>1</td>\n",
       "      <td>1</td>\n",
       "      <td>0</td>\n",
       "      <td>1</td>\n",
       "      <td>0</td>\n",
       "      <td>1</td>\n",
       "      <td>1</td>\n",
       "    </tr>\n",
       "    <tr>\n",
       "      <th>7</th>\n",
       "      <td>1</td>\n",
       "      <td>1</td>\n",
       "      <td>1</td>\n",
       "      <td>1</td>\n",
       "      <td>1</td>\n",
       "      <td>1</td>\n",
       "      <td>1</td>\n",
       "      <td>1</td>\n",
       "      <td>1</td>\n",
       "      <td>1</td>\n",
       "    </tr>\n",
       "  </tbody>\n",
       "</table>\n",
       "</div>"
      ],
      "text/plain": [
       "   A  B  C  ( ( ( 0 and ( A ^ B ) ) or ( B and A ) ) )  \\\n",
       "0  0  0  0                                           0   \n",
       "1  0  0  1                                           0   \n",
       "2  0  1  0                                           0   \n",
       "3  0  1  1                                           0   \n",
       "4  1  0  0                                           0   \n",
       "5  1  0  1                                           0   \n",
       "6  1  1  0                                           1   \n",
       "7  1  1  1                                           1   \n",
       "\n",
       "   ( ( ( 1 and ( A ^ B ) ) or ( B and A ) ) )  \\\n",
       "0                                           0   \n",
       "1                                           0   \n",
       "2                                           1   \n",
       "3                                           1   \n",
       "4                                           1   \n",
       "5                                           1   \n",
       "6                                           1   \n",
       "7                                           1   \n",
       "\n",
       "   ( ( ( C and ( 0 ^ B ) ) or ( B and 0 ) ) )  \\\n",
       "0                                           0   \n",
       "1                                           0   \n",
       "2                                           0   \n",
       "3                                           1   \n",
       "4                                           0   \n",
       "5                                           0   \n",
       "6                                           0   \n",
       "7                                           1   \n",
       "\n",
       "   ( ( ( C and ( 1 ^ B ) ) or ( B and 1 ) ) )  \\\n",
       "0                                           0   \n",
       "1                                           1   \n",
       "2                                           1   \n",
       "3                                           1   \n",
       "4                                           0   \n",
       "5                                           1   \n",
       "6                                           1   \n",
       "7                                           1   \n",
       "\n",
       "   ( ( ( C and ( A ^ 0 ) ) or ( 0 and A ) ) )  \\\n",
       "0                                           0   \n",
       "1                                           0   \n",
       "2                                           0   \n",
       "3                                           0   \n",
       "4                                           0   \n",
       "5                                           1   \n",
       "6                                           0   \n",
       "7                                           1   \n",
       "\n",
       "   ( ( ( C and ( A ^ 1 ) ) or ( 1 and A ) ) )  \\\n",
       "0                                           0   \n",
       "1                                           1   \n",
       "2                                           0   \n",
       "3                                           1   \n",
       "4                                           1   \n",
       "5                                           1   \n",
       "6                                           1   \n",
       "7                                           1   \n",
       "\n",
       "   ( ( ( C and ( A ^ B ) ) or ( B and A ) ) )  \n",
       "0                                           0  \n",
       "1                                           0  \n",
       "2                                           0  \n",
       "3                                           1  \n",
       "4                                           0  \n",
       "5                                           1  \n",
       "6                                           1  \n",
       "7                                           1  "
      ]
     },
     "execution_count": 50,
     "metadata": {},
     "output_type": "execute_result"
    }
   ],
   "source": [
    "dfFilesFalhasS2.head(8) "
   ]
  },
  {
   "cell_type": "code",
   "execution_count": null,
   "metadata": {},
   "outputs": [],
   "source": []
  },
  {
   "cell_type": "code",
   "execution_count": 221,
   "metadata": {},
   "outputs": [
    {
     "name": "stdout",
     "output_type": "stream",
     "text": [
      "['A', 'B', 'C'] ['( ( ( A ^  B ) ^ C ) )', '( C and ( A ^  B ) )', '( B and A )', '( ( C and ( A ^  B ) ) or ( B and A ) )', ' ( ( ( C and ( A ^  B ) ) or ( B and A ) ) )', ' ( ( ( ( A ^  B ) ^ C ) ) )'] []\n"
     ]
    }
   ],
   "source": [
    "print(var, listCircuito, listFalhaP1)  "
   ]
  },
  {
   "cell_type": "markdown",
   "metadata": {},
   "source": [
    "### Tabela verdade com cada porta lógica"
   ]
  },
  {
   "cell_type": "markdown",
   "metadata": {},
   "source": [
    "### As colunas da tabela indicam as variáveis e as Portas do Circuito. Caso a porta esteja presa na saída a coluna representará o número que ela está rpesa"
   ]
  },
  {
   "cell_type": "code",
   "execution_count": 222,
   "metadata": {},
   "outputs": [
    {
     "name": "stdout",
     "output_type": "stream",
     "text": [
      "+---+---+---+------------------------+----------------------+-------------+-----------------------------------------+----------------------------------------------+-----------------------------+\n",
      "| A | B | C | ( ( ( A ^  B ) ^ C ) ) | ( C and ( A ^  B ) ) | ( B and A ) | ( ( C and ( A ^  B ) ) or ( B and A ) ) |  ( ( ( C and ( A ^  B ) ) or ( B and A ) ) ) |  ( ( ( ( A ^  B ) ^ C ) ) ) |\n",
      "+---+---+---+------------------------+----------------------+-------------+-----------------------------------------+----------------------------------------------+-----------------------------+\n",
      "| 0 | 0 | 0 |           0            |          0           |      0      |                    0                    |                      0                       |              0              |\n",
      "| 0 | 0 | 1 |           1            |          0           |      0      |                    0                    |                      0                       |              1              |\n",
      "| 0 | 1 | 0 |           1            |          0           |      0      |                    0                    |                      0                       |              1              |\n",
      "| 0 | 1 | 1 |           0            |          1           |      0      |                    1                    |                      1                       |              0              |\n",
      "| 1 | 0 | 0 |           1            |          0           |      0      |                    0                    |                      0                       |              1              |\n",
      "| 1 | 0 | 1 |           0            |          1           |      0      |                    1                    |                      1                       |              0              |\n",
      "| 1 | 1 | 0 |           0            |          0           |      1      |                    1                    |                      1                       |              0              |\n",
      "| 1 | 1 | 1 |           1            |          0           |      1      |                    1                    |                      1                       |              1              |\n",
      "+---+---+---+------------------------+----------------------+-------------+-----------------------------------------+----------------------------------------------+-----------------------------+\n"
     ]
    }
   ],
   "source": [
    "print( Truths(var, listCircuito, ints=True) )"
   ]
  },
  {
   "cell_type": "markdown",
   "metadata": {},
   "source": [
    "### Salvando a tabela verdade do circuito lógico"
   ]
  },
  {
   "cell_type": "code",
   "execution_count": 63,
   "metadata": {},
   "outputs": [
    {
     "data": {
      "text/html": [
       "<div>\n",
       "<style scoped>\n",
       "    .dataframe tbody tr th:only-of-type {\n",
       "        vertical-align: middle;\n",
       "    }\n",
       "\n",
       "    .dataframe tbody tr th {\n",
       "        vertical-align: top;\n",
       "    }\n",
       "\n",
       "    .dataframe thead th {\n",
       "        text-align: right;\n",
       "    }\n",
       "</style>\n",
       "<table border=\"1\" class=\"dataframe\">\n",
       "  <thead>\n",
       "    <tr style=\"text-align: right;\">\n",
       "      <th></th>\n",
       "      <th>A</th>\n",
       "      <th>B</th>\n",
       "      <th>C</th>\n",
       "      <th>( ( ( 0 ^ B ) ^ C ) )</th>\n",
       "      <th>( ( ( 1 ^ B ) ^ C ) )</th>\n",
       "      <th>( ( ( A ^ 0 ) ^ C ) )</th>\n",
       "      <th>( ( ( A ^ 1 ) ^ C ) )</th>\n",
       "      <th>( ( ( A ^ B ) ^ 0 ) )</th>\n",
       "      <th>( ( ( A ^ B ) ^ 1 ) )</th>\n",
       "      <th>( ( ( A ^ B ) ^ C ) )</th>\n",
       "    </tr>\n",
       "  </thead>\n",
       "  <tbody>\n",
       "    <tr>\n",
       "      <th>0</th>\n",
       "      <td>0</td>\n",
       "      <td>0</td>\n",
       "      <td>0</td>\n",
       "      <td>0</td>\n",
       "      <td>1</td>\n",
       "      <td>0</td>\n",
       "      <td>1</td>\n",
       "      <td>0</td>\n",
       "      <td>1</td>\n",
       "      <td>0</td>\n",
       "    </tr>\n",
       "    <tr>\n",
       "      <th>1</th>\n",
       "      <td>0</td>\n",
       "      <td>0</td>\n",
       "      <td>1</td>\n",
       "      <td>1</td>\n",
       "      <td>0</td>\n",
       "      <td>1</td>\n",
       "      <td>0</td>\n",
       "      <td>0</td>\n",
       "      <td>1</td>\n",
       "      <td>1</td>\n",
       "    </tr>\n",
       "    <tr>\n",
       "      <th>2</th>\n",
       "      <td>0</td>\n",
       "      <td>1</td>\n",
       "      <td>0</td>\n",
       "      <td>1</td>\n",
       "      <td>0</td>\n",
       "      <td>0</td>\n",
       "      <td>1</td>\n",
       "      <td>1</td>\n",
       "      <td>0</td>\n",
       "      <td>1</td>\n",
       "    </tr>\n",
       "    <tr>\n",
       "      <th>3</th>\n",
       "      <td>0</td>\n",
       "      <td>1</td>\n",
       "      <td>1</td>\n",
       "      <td>0</td>\n",
       "      <td>1</td>\n",
       "      <td>1</td>\n",
       "      <td>0</td>\n",
       "      <td>1</td>\n",
       "      <td>0</td>\n",
       "      <td>0</td>\n",
       "    </tr>\n",
       "    <tr>\n",
       "      <th>4</th>\n",
       "      <td>1</td>\n",
       "      <td>0</td>\n",
       "      <td>0</td>\n",
       "      <td>0</td>\n",
       "      <td>1</td>\n",
       "      <td>1</td>\n",
       "      <td>0</td>\n",
       "      <td>1</td>\n",
       "      <td>0</td>\n",
       "      <td>1</td>\n",
       "    </tr>\n",
       "    <tr>\n",
       "      <th>5</th>\n",
       "      <td>1</td>\n",
       "      <td>0</td>\n",
       "      <td>1</td>\n",
       "      <td>1</td>\n",
       "      <td>0</td>\n",
       "      <td>0</td>\n",
       "      <td>1</td>\n",
       "      <td>1</td>\n",
       "      <td>0</td>\n",
       "      <td>0</td>\n",
       "    </tr>\n",
       "    <tr>\n",
       "      <th>6</th>\n",
       "      <td>1</td>\n",
       "      <td>1</td>\n",
       "      <td>0</td>\n",
       "      <td>1</td>\n",
       "      <td>0</td>\n",
       "      <td>1</td>\n",
       "      <td>0</td>\n",
       "      <td>0</td>\n",
       "      <td>1</td>\n",
       "      <td>0</td>\n",
       "    </tr>\n",
       "    <tr>\n",
       "      <th>7</th>\n",
       "      <td>1</td>\n",
       "      <td>1</td>\n",
       "      <td>1</td>\n",
       "      <td>0</td>\n",
       "      <td>1</td>\n",
       "      <td>0</td>\n",
       "      <td>1</td>\n",
       "      <td>0</td>\n",
       "      <td>1</td>\n",
       "      <td>1</td>\n",
       "    </tr>\n",
       "  </tbody>\n",
       "</table>\n",
       "</div>"
      ],
      "text/plain": [
       "   A  B  C  ( ( ( 0 ^ B ) ^ C ) )  ( ( ( 1 ^ B ) ^ C ) )  \\\n",
       "0  0  0  0                      0                      1   \n",
       "1  0  0  1                      1                      0   \n",
       "2  0  1  0                      1                      0   \n",
       "3  0  1  1                      0                      1   \n",
       "4  1  0  0                      0                      1   \n",
       "5  1  0  1                      1                      0   \n",
       "6  1  1  0                      1                      0   \n",
       "7  1  1  1                      0                      1   \n",
       "\n",
       "   ( ( ( A ^ 0 ) ^ C ) )  ( ( ( A ^ 1 ) ^ C ) )  ( ( ( A ^ B ) ^ 0 ) )  \\\n",
       "0                      0                      1                      0   \n",
       "1                      1                      0                      0   \n",
       "2                      0                      1                      1   \n",
       "3                      1                      0                      1   \n",
       "4                      1                      0                      1   \n",
       "5                      0                      1                      1   \n",
       "6                      1                      0                      0   \n",
       "7                      0                      1                      0   \n",
       "\n",
       "   ( ( ( A ^ B ) ^ 1 ) )  ( ( ( A ^ B ) ^ C ) )  \n",
       "0                      1                      0  \n",
       "1                      1                      1  \n",
       "2                      0                      1  \n",
       "3                      0                      0  \n",
       "4                      0                      1  \n",
       "5                      0                      0  \n",
       "6                      1                      0  \n",
       "7                      1                      1  "
      ]
     },
     "execution_count": 63,
     "metadata": {},
     "output_type": "execute_result"
    }
   ],
   "source": [
    "data = pd.read_csv(saidaCircuitoCsv+'.csv')\n",
    "data.head(100)  # vendo os primeiros valores da tabela verdade"
   ]
  },
  {
   "cell_type": "code",
   "execution_count": null,
   "metadata": {},
   "outputs": [],
   "source": []
  },
  {
   "cell_type": "code",
   "execution_count": null,
   "metadata": {},
   "outputs": [],
   "source": []
  },
  {
   "cell_type": "markdown",
   "metadata": {},
   "source": [
    "## Salvando o circuito lógico paranteseado"
   ]
  },
  {
   "cell_type": "code",
   "execution_count": 223,
   "metadata": {},
   "outputs": [
    {
     "name": "stdout",
     "output_type": "stream",
     "text": [
      "Lista:  {'p1 ': '( ( ( A ^  B ) ^ C ) )', 'p2 ': '( C and ( A ^  B ) )', 'p3 ': '( B and A )', 'p4 ': '( ( C and ( A ^  B ) ) or ( B and A ) )', 'pF1': ' ( ( ( C and ( A ^  B ) ) or ( B and A ) ) )', 'pF2': ' ( ( ( ( A ^  B ) ^ C ) ) )'}\n"
     ]
    }
   ],
   "source": [
    "\n",
    "mapCircuito = dict(zip(listaPortas, listCircuito))\n",
    "print(\"Lista: \",mapCircuito)\n",
    "#  Escrevendo a forma lógica do circuito paranteseada no formato de entrada\n",
    "logicForm = open('logicFormCircuit1_Final.txt','w')\n",
    "logicForm.write(\"var = \" + str(var))\n",
    "logicForm.write(\"\\n\")\n",
    "logicForm.write(str(mapCircuito))\n",
    "logicForm.close()"
   ]
  },
  {
   "cell_type": "code",
   "execution_count": 226,
   "metadata": {},
   "outputs": [],
   "source": [
    "#  Escrevendo a forma lógica do circuito paranteseada\n",
    "logicForm = open('TVCircuit1.txt','w')\n",
    "logicForm.write(str( (str(listCircuito),str(data.values)  ) ))\n",
    "logicForm.close()"
   ]
  },
  {
   "cell_type": "markdown",
   "metadata": {},
   "source": [
    "## Lendo tabelas verdades geradas para detectar quais configurações geram a tabela verdade com Falhas"
   ]
  },
  {
   "cell_type": "code",
   "execution_count": 227,
   "metadata": {},
   "outputs": [],
   "source": [
    "dataComFalha = pd.read_csv('saidaCircuitoCSV1Falha.csv')\n",
    "dataSemFalha = pd.read_csv('saidaCircuitoCSV1SemFalha.csv')"
   ]
  },
  {
   "cell_type": "markdown",
   "metadata": {},
   "source": [
    "### Gerando falha para o Circuito 1 - Falha saída -p4 = 0"
   ]
  },
  {
   "cell_type": "code",
   "execution_count": 231,
   "metadata": {},
   "outputs": [],
   "source": [
    "# dataSemFalha[['( ( C and ( A ^ B ) )or ( B and A ))', '( ( ( C and ( A ^ B ) )or ( B and A )))']] =0\n",
    "# dataSemFalha.to_csv('saidaCircuitoCSV1Falha.csv', index=False)"
   ]
  },
  {
   "cell_type": "code",
   "execution_count": 232,
   "metadata": {},
   "outputs": [
    {
     "data": {
      "text/html": [
       "<div>\n",
       "<style scoped>\n",
       "    .dataframe tbody tr th:only-of-type {\n",
       "        vertical-align: middle;\n",
       "    }\n",
       "\n",
       "    .dataframe tbody tr th {\n",
       "        vertical-align: top;\n",
       "    }\n",
       "\n",
       "    .dataframe thead th {\n",
       "        text-align: right;\n",
       "    }\n",
       "</style>\n",
       "<table border=\"1\" class=\"dataframe\">\n",
       "  <thead>\n",
       "    <tr style=\"text-align: right;\">\n",
       "      <th></th>\n",
       "      <th>A</th>\n",
       "      <th>B</th>\n",
       "      <th>C</th>\n",
       "      <th>( ( ( A ^ B ) ^ C ) )</th>\n",
       "      <th>( C and ( A ^ B ) )</th>\n",
       "      <th>( B and A )</th>\n",
       "      <th>( ( C and ( A ^ B ) ) or ( B and A ) )</th>\n",
       "      <th>( ( ( C and ( A ^ B ) ) or ( B and A ) ) )</th>\n",
       "      <th>( ( ( ( A ^ B ) ^ C ) ) )</th>\n",
       "    </tr>\n",
       "  </thead>\n",
       "  <tbody>\n",
       "    <tr>\n",
       "      <th>0</th>\n",
       "      <td>0</td>\n",
       "      <td>0</td>\n",
       "      <td>0</td>\n",
       "      <td>0</td>\n",
       "      <td>0</td>\n",
       "      <td>0</td>\n",
       "      <td>0</td>\n",
       "      <td>0</td>\n",
       "      <td>0</td>\n",
       "    </tr>\n",
       "    <tr>\n",
       "      <th>1</th>\n",
       "      <td>0</td>\n",
       "      <td>0</td>\n",
       "      <td>1</td>\n",
       "      <td>1</td>\n",
       "      <td>0</td>\n",
       "      <td>0</td>\n",
       "      <td>0</td>\n",
       "      <td>0</td>\n",
       "      <td>1</td>\n",
       "    </tr>\n",
       "    <tr>\n",
       "      <th>2</th>\n",
       "      <td>0</td>\n",
       "      <td>1</td>\n",
       "      <td>0</td>\n",
       "      <td>1</td>\n",
       "      <td>0</td>\n",
       "      <td>0</td>\n",
       "      <td>0</td>\n",
       "      <td>0</td>\n",
       "      <td>1</td>\n",
       "    </tr>\n",
       "    <tr>\n",
       "      <th>3</th>\n",
       "      <td>0</td>\n",
       "      <td>1</td>\n",
       "      <td>1</td>\n",
       "      <td>0</td>\n",
       "      <td>1</td>\n",
       "      <td>0</td>\n",
       "      <td>1</td>\n",
       "      <td>1</td>\n",
       "      <td>0</td>\n",
       "    </tr>\n",
       "    <tr>\n",
       "      <th>4</th>\n",
       "      <td>1</td>\n",
       "      <td>0</td>\n",
       "      <td>0</td>\n",
       "      <td>1</td>\n",
       "      <td>0</td>\n",
       "      <td>0</td>\n",
       "      <td>0</td>\n",
       "      <td>0</td>\n",
       "      <td>1</td>\n",
       "    </tr>\n",
       "    <tr>\n",
       "      <th>5</th>\n",
       "      <td>1</td>\n",
       "      <td>0</td>\n",
       "      <td>1</td>\n",
       "      <td>0</td>\n",
       "      <td>1</td>\n",
       "      <td>0</td>\n",
       "      <td>1</td>\n",
       "      <td>1</td>\n",
       "      <td>0</td>\n",
       "    </tr>\n",
       "    <tr>\n",
       "      <th>6</th>\n",
       "      <td>1</td>\n",
       "      <td>1</td>\n",
       "      <td>0</td>\n",
       "      <td>0</td>\n",
       "      <td>0</td>\n",
       "      <td>1</td>\n",
       "      <td>1</td>\n",
       "      <td>1</td>\n",
       "      <td>0</td>\n",
       "    </tr>\n",
       "    <tr>\n",
       "      <th>7</th>\n",
       "      <td>1</td>\n",
       "      <td>1</td>\n",
       "      <td>1</td>\n",
       "      <td>1</td>\n",
       "      <td>0</td>\n",
       "      <td>1</td>\n",
       "      <td>1</td>\n",
       "      <td>1</td>\n",
       "      <td>1</td>\n",
       "    </tr>\n",
       "  </tbody>\n",
       "</table>\n",
       "</div>"
      ],
      "text/plain": [
       "   A  B  C  ( ( ( A ^ B ) ^ C ) )  ( C and ( A ^ B ) )  ( B and A )  \\\n",
       "0  0  0  0                      0                    0            0   \n",
       "1  0  0  1                      1                    0            0   \n",
       "2  0  1  0                      1                    0            0   \n",
       "3  0  1  1                      0                    1            0   \n",
       "4  1  0  0                      1                    0            0   \n",
       "5  1  0  1                      0                    1            0   \n",
       "6  1  1  0                      0                    0            1   \n",
       "7  1  1  1                      1                    0            1   \n",
       "\n",
       "   ( ( C and ( A ^ B ) ) or ( B and A ) )  \\\n",
       "0                                       0   \n",
       "1                                       0   \n",
       "2                                       0   \n",
       "3                                       1   \n",
       "4                                       0   \n",
       "5                                       1   \n",
       "6                                       1   \n",
       "7                                       1   \n",
       "\n",
       "   ( ( ( C and ( A ^ B ) ) or ( B and A ) ) )  ( ( ( ( A ^ B ) ^ C ) ) )  \n",
       "0                                           0                          0  \n",
       "1                                           0                          1  \n",
       "2                                           0                          1  \n",
       "3                                           1                          0  \n",
       "4                                           0                          1  \n",
       "5                                           1                          0  \n",
       "6                                           1                          0  \n",
       "7                                           1                          1  "
      ]
     },
     "execution_count": 232,
     "metadata": {},
     "output_type": "execute_result"
    }
   ],
   "source": [
    "dataSemFalha.head(10)"
   ]
  },
  {
   "cell_type": "code",
   "execution_count": 70,
   "metadata": {},
   "outputs": [],
   "source": [
    "## Circuito 1 Avaliação\n",
    "A = dataSemFalha.A.values.tolist()\n",
    "B = dataSemFalha.B.values.tolist()\n",
    "C = dataSemFalha.B.values.tolist()\n",
    "pS1C1 = dataSemFalha['( ( ( C and ( A ^ B ) )or ( B and A )))'].tolist()\n",
    "pS2C1 = dataSemFalha['( ( ( ( A ^ B ) ^ C ) ))'].tolist()\n",
    "pF1C1 = dataComFalha['( ( ( C and ( A ^ B ) )or ( B and A )))'].tolist()\n",
    "pF2C1 = dataComFalha['( ( ( ( A ^ B ) ^ C ) ))'].tolist()\n"
   ]
  },
  {
   "cell_type": "code",
   "execution_count": 80,
   "metadata": {},
   "outputs": [
    {
     "data": {
      "text/plain": [
       "[0, 0, 0, 0, 0, 0, 0, 0]"
      ]
     },
     "execution_count": 80,
     "metadata": {},
     "output_type": "execute_result"
    }
   ],
   "source": [
    "pF1C1"
   ]
  },
  {
   "cell_type": "code",
   "execution_count": 81,
   "metadata": {},
   "outputs": [],
   "source": [
    "\n",
    "\n",
    "## Funçãod e avaliação para verificar se a saída do Circuito está presa em 0 ou 1\n",
    "def avaliaC1Preso0_1():\n",
    "    listaSol = []\n",
    "    valoresVarPreso0 = [0,0,0,0,0,0,0,0]\n",
    "    valoresVarPreso1 = [1,1,1,1,1,1,1,1]\n",
    "    if valoresVarPreso0 == pF1C1:\n",
    "        C2 = [A,B,C,valoresVarPreso0]\n",
    "        C2 = np.transpose(C2).tolist()  # Colocando num formato matriz 3x8\n",
    "        df3 = pd.DataFrame(C2, columns=['A','B','C','preso 0'])\n",
    "        listaSol.append(df3)\n",
    "        #  Escrevendo os valores pelo qual gera o circuito com falha.\n",
    "        solFinais = open('SolucoesTVCircuit1P0Saida1.txt','a')\n",
    "        solFinais.write(str(listaSol))\n",
    "        solFinais.close()\n",
    "\n",
    "    if valoresVarPreso1 == pF1C1:\n",
    "        C2 = [A,B,C,valoresVarPreso1]\n",
    "        C2 = np.transpose(C2).tolist()  # Colocando num formato matriz 3x8\n",
    "        df3 = pd.DataFrame(C2, columns=['A','B','C','preso 0'])\n",
    "        listaSol.append(df3)\n",
    "        #  Escrevendo os valores pelo qual gera o circuito com falha.\n",
    "        solFinais = open('SolucoesTVCircuit1P0Saida1.txt','a')\n",
    "        solFinais.write(str(listaSol))\n",
    "        solFinais.close()\n",
    "    if valoresVarPreso0 == pF2C1:\n",
    "        C2 = [A,B,C,valoresVarPreso0]\n",
    "        C2 = np.transpose(C2).tolist()  # Colocando num formato matriz 3x8\n",
    "        df3 = pd.DataFrame(C2, columns=['A','B','C','preso 0'])\n",
    "        listaSol.append(df3)\n",
    "        #  Escrevendo os valores pelo qual gera o circuito com falha.\n",
    "        solFinais = open('SolucoesTVCircuit1P0Saida2.txt','a')\n",
    "        solFinais.write(str(listaSol))\n",
    "        solFinais.close()\n",
    "    if valoresVarPreso1 == pF2C1:\n",
    "        C2 = [A,B,C,valoresVarPreso1]\n",
    "        C2 = np.transpose(C2).tolist()  # Colocando num formato matriz 3x8\n",
    "        df3 = pd.DataFrame(C2, columns=['A','B','C','preso 0'])\n",
    "        listaSol.append(df3)\n",
    "        #  Escrevendo os valores pelo qual gera o circuito com falha.\n",
    "        solFinais = open('SolucoesTVCircuit1P0Saida2.txt','a') # O 'a' significa que o arquivo pode ser gerado, atualizado.\n",
    "        solFinais.write(str(listaSol))\n",
    "        solFinais.close()"
   ]
  },
  {
   "cell_type": "code",
   "execution_count": 96,
   "metadata": {},
   "outputs": [
    {
     "name": "stdout",
     "output_type": "stream",
     "text": [
      "\n",
      "[   A  B  C  pF1\n",
      "0  0  0  0    0\n",
      "1  0  1  0    0\n",
      "2  1  0  0    0\n",
      "3  0  0  0    0\n",
      "4  1  0  0    0\n",
      "5  0  0  0    0\n",
      "6  0  1  0    0\n",
      "7  0  0  0    0]\n",
      "Tempo de Execução: 0.8616945743560791\n"
     ]
    }
   ],
   "source": [
    " #CPU\n",
    "time_init = time.time()\n",
    "    \n",
    "\n",
    "def avaliaC1():\n",
    "    listaSol = []\n",
    "    valoresVarA = []\n",
    "    valoresVarB = []\n",
    "    valoresVarC = []\n",
    "    \n",
    "    aval = []\n",
    "    aval2 = []\n",
    "    ### Verificando falhas de entrada e variações nas variáveis de entrada\n",
    "    for i in range(8): # 8\n",
    "        xC1 =np.random.binomial(1,0.5,1)[0]\n",
    "        yC1 = np.random.binomial(1,0.5,1)[0]\n",
    "        zC1 = np.random.binomial(1,0.5,1)[0] # gerando valores aleatórios 0,1\n",
    "       \n",
    "        valoresVarA.append(xC1) # Variáveis\n",
    "        valoresVarB.append(yC1) # Variáveis\n",
    "        valoresVarC.append(zC1) # Variáveis\n",
    "\n",
    "        resppF1 = '( ( (', zC1, 'and', xC1 ,'^', yC1 ,') ) or (', yC1,' and ', xC1  ,')))'\n",
    "        resppF1_ = ( ( ( zC1 and xC1 ^ yC1 ) )or ( yC1 and xC1 ))\n",
    "        aval.append(resppF1_)\n",
    "        \n",
    "        \n",
    "        resppF2 = '( ( ( (' ,xC1 ^ yC1 ,') ^', zC1, ') ))'\n",
    "        resppF2_ = ( ( ( ( xC1 ^ yC1 ) ^ zC1 ) ))\n",
    "        aval2.append(resppF2_)\n",
    "        \n",
    "        \n",
    "        C1 = [valoresVarA,valoresVarB,valoresVarC,aval]\n",
    "        C1 = np.transpose(C1).tolist()  # Colocando num formato matriz 3x8\n",
    "        df2 = pd.DataFrame(C1, columns=['A','B','C','pF1'])\n",
    "        \n",
    "        C2 = [valoresVarA,valoresVarB,valoresVarC,aval2]\n",
    "        C2 = np.transpose(C2).tolist()  # Colocando num formato matriz 3x8\n",
    "        df3 = pd.DataFrame(C2, columns=['A','B','C','pF2'])\n",
    "\n",
    "                                        \n",
    "        if len(aval)==8 and aval == pF1C1:\n",
    "            if not(df2 in listaSol):\n",
    "                listaSol.append(df2)\n",
    "                print(listaSol)\n",
    "    #             print(df2.head(10))\n",
    "#                 print(dataComFalha.head(10)) # Imprimindo o DF Sem Falha            \n",
    "                xC1 =np.random.binomial(1,0.5,1)[0]\n",
    "                yC1 = np.random.binomial(1,0.5,1)[0]\n",
    "                zC1 = np.random.binomial(1,0.5,1)[0]\n",
    "                \n",
    "                #  Escrevendo os valores pelo qual gera o circuito com falha.\n",
    "                solFinais = open('SolucoesTVCircuit1Saida1.txt','a')\n",
    "                solFinais.write(str(listaSol))\n",
    "                solFinais.close()\n",
    "\n",
    "\n",
    "        if len(aval2)==8 and aval2 == pF2C1:\n",
    "            if not(df3 in listaSol):\n",
    "                listaSol.append(df3)            \n",
    "                print(listaSol)\n",
    "#                 print(dataComFalha.head(10)) # Imprimindo o DF Sem Falha            \n",
    "                xC1 =np.random.binomial(1,0.5,1)[0]\n",
    "                yC1 = np.random.binomial(1,0.5,1)[0]\n",
    "                zC1 = np.random.binomial(1,0.5,1)[0]    \n",
    "                #  Escrevendo os valores pelo qual gera o circuito com falha.\n",
    "                solFinais = open('SolucoesTVCircuit1Saida2.txt','a')\n",
    "                solFinais.write(str(listaSol))\n",
    "                solFinais.close()   \n",
    "\n",
    "k=1\n",
    "if k==1:\n",
    "    avaliaC1Preso0_1()\n",
    "    k+=1\n",
    "\n",
    "for i in range(100):  # Fazendo 1000 iterações para verificar soluções\n",
    "    avaliaC1()\n",
    "\n",
    "print (\"Tempo de Execução: \"+ str(time.time() - time_init))\n"
   ]
  },
  {
   "cell_type": "code",
   "execution_count": 114,
   "metadata": {},
   "outputs": [
    {
     "data": {
      "text/plain": [
       "('( ( (', 0, 'and', '(', 1, '^', 1, ') ) or (', 0, ' and ', 1, ')))')"
      ]
     },
     "execution_count": 114,
     "metadata": {},
     "output_type": "execute_result"
    }
   ],
   "source": []
  },
  {
   "cell_type": "code",
   "execution_count": 147,
   "metadata": {},
   "outputs": [
    {
     "name": "stdout",
     "output_type": "stream",
     "text": [
      "54.1 µs ± 399 ns per loop (mean ± std. dev. of 7 runs, 10000 loops each)\n"
     ]
    }
   ],
   "source": [
    "%%timeit\n",
    "dataComFalha.head(10)"
   ]
  },
  {
   "cell_type": "code",
   "execution_count": 148,
   "metadata": {},
   "outputs": [
    {
     "data": {
      "text/html": [
       "<div>\n",
       "<style scoped>\n",
       "    .dataframe tbody tr th:only-of-type {\n",
       "        vertical-align: middle;\n",
       "    }\n",
       "\n",
       "    .dataframe tbody tr th {\n",
       "        vertical-align: top;\n",
       "    }\n",
       "\n",
       "    .dataframe thead th {\n",
       "        text-align: right;\n",
       "    }\n",
       "</style>\n",
       "<table border=\"1\" class=\"dataframe\">\n",
       "  <thead>\n",
       "    <tr style=\"text-align: right;\">\n",
       "      <th></th>\n",
       "      <th>A</th>\n",
       "      <th>B</th>\n",
       "      <th>C</th>\n",
       "      <th>( A and B )</th>\n",
       "      <th>0</th>\n",
       "      <th>( 0 )</th>\n",
       "    </tr>\n",
       "  </thead>\n",
       "  <tbody>\n",
       "    <tr>\n",
       "      <th>0</th>\n",
       "      <td>0</td>\n",
       "      <td>0</td>\n",
       "      <td>0</td>\n",
       "      <td>0</td>\n",
       "      <td>0</td>\n",
       "      <td>0</td>\n",
       "    </tr>\n",
       "    <tr>\n",
       "      <th>1</th>\n",
       "      <td>0</td>\n",
       "      <td>0</td>\n",
       "      <td>1</td>\n",
       "      <td>0</td>\n",
       "      <td>0</td>\n",
       "      <td>0</td>\n",
       "    </tr>\n",
       "    <tr>\n",
       "      <th>2</th>\n",
       "      <td>0</td>\n",
       "      <td>1</td>\n",
       "      <td>0</td>\n",
       "      <td>0</td>\n",
       "      <td>0</td>\n",
       "      <td>0</td>\n",
       "    </tr>\n",
       "    <tr>\n",
       "      <th>3</th>\n",
       "      <td>0</td>\n",
       "      <td>1</td>\n",
       "      <td>1</td>\n",
       "      <td>0</td>\n",
       "      <td>0</td>\n",
       "      <td>0</td>\n",
       "    </tr>\n",
       "    <tr>\n",
       "      <th>4</th>\n",
       "      <td>1</td>\n",
       "      <td>0</td>\n",
       "      <td>0</td>\n",
       "      <td>0</td>\n",
       "      <td>0</td>\n",
       "      <td>0</td>\n",
       "    </tr>\n",
       "    <tr>\n",
       "      <th>5</th>\n",
       "      <td>1</td>\n",
       "      <td>0</td>\n",
       "      <td>1</td>\n",
       "      <td>0</td>\n",
       "      <td>0</td>\n",
       "      <td>0</td>\n",
       "    </tr>\n",
       "    <tr>\n",
       "      <th>6</th>\n",
       "      <td>1</td>\n",
       "      <td>1</td>\n",
       "      <td>0</td>\n",
       "      <td>1</td>\n",
       "      <td>0</td>\n",
       "      <td>0</td>\n",
       "    </tr>\n",
       "    <tr>\n",
       "      <th>7</th>\n",
       "      <td>1</td>\n",
       "      <td>1</td>\n",
       "      <td>1</td>\n",
       "      <td>1</td>\n",
       "      <td>0</td>\n",
       "      <td>0</td>\n",
       "    </tr>\n",
       "  </tbody>\n",
       "</table>\n",
       "</div>"
      ],
      "text/plain": [
       "   A  B  C  ( A and B )  0  ( 0 )\n",
       "0  0  0  0            0  0      0\n",
       "1  0  0  1            0  0      0\n",
       "2  0  1  0            0  0      0\n",
       "3  0  1  1            0  0      0\n",
       "4  1  0  0            0  0      0\n",
       "5  1  0  1            0  0      0\n",
       "6  1  1  0            1  0      0\n",
       "7  1  1  1            1  0      0"
      ]
     },
     "execution_count": 148,
     "metadata": {},
     "output_type": "execute_result"
    }
   ],
   "source": [
    "dataComFalha.head(10)"
   ]
  },
  {
   "cell_type": "code",
   "execution_count": null,
   "metadata": {},
   "outputs": [],
   "source": []
  },
  {
   "cell_type": "code",
   "execution_count": null,
   "metadata": {},
   "outputs": [],
   "source": []
  },
  {
   "cell_type": "code",
   "execution_count": null,
   "metadata": {},
   "outputs": [],
   "source": []
  },
  {
   "cell_type": "code",
   "execution_count": null,
   "metadata": {},
   "outputs": [],
   "source": []
  },
  {
   "cell_type": "code",
   "execution_count": null,
   "metadata": {},
   "outputs": [],
   "source": []
  },
  {
   "cell_type": "code",
   "execution_count": null,
   "metadata": {},
   "outputs": [],
   "source": []
  },
  {
   "cell_type": "code",
   "execution_count": null,
   "metadata": {},
   "outputs": [],
   "source": []
  },
  {
   "cell_type": "code",
   "execution_count": 57,
   "metadata": {},
   "outputs": [],
   "source": [
    "# !pip install ipynb"
   ]
  },
  {
   "cell_type": "code",
   "execution_count": 85,
   "metadata": {},
   "outputs": [],
   "source": [
    "import utils2 as ut\n",
    "import logic as lg"
   ]
  },
  {
   "cell_type": "code",
   "execution_count": 86,
   "metadata": {},
   "outputs": [
    {
     "data": {
      "text/plain": [
       "(A ^ B)"
      ]
     },
     "execution_count": 86,
     "metadata": {},
     "output_type": "execute_result"
    }
   ],
   "source": [
    "p0 = ut.expr('(A & B)')\n",
    "p1 = ut.expr('((A & B) & B)')\n",
    "pF2 = ut.expr('( ( ( C and ( A ^ B ) )or ( B and A )))')\n",
    "\n",
    "# A, B, C, D = ut.expr('A, B, C, D')\n",
    "# print(p0Cnf, p1Cnf, pF1Cnf)\n",
    "pF2"
   ]
  },
  {
   "cell_type": "code",
   "execution_count": 137,
   "metadata": {},
   "outputs": [
    {
     "name": "stdout",
     "output_type": "stream",
     "text": [
      "33.5 µs ± 782 ns per loop (mean ± std. dev. of 7 runs, 10000 loops each)\n"
     ]
    }
   ],
   "source": [
    "%%timeit\n",
    "lg.dpll_satisfiable(p0)"
   ]
  },
  {
   "cell_type": "code",
   "execution_count": 87,
   "metadata": {},
   "outputs": [
    {
     "data": {
      "text/plain": [
       "{A: True, B: False}"
      ]
     },
     "execution_count": 87,
     "metadata": {},
     "output_type": "execute_result"
    }
   ],
   "source": [
    "# %%timeit\n",
    "lg.dpll_satisfiable(pF2)  "
   ]
  },
  {
   "cell_type": "code",
   "execution_count": null,
   "metadata": {},
   "outputs": [],
   "source": [
    "lg.dpll_satisfiable(pF2)"
   ]
  },
  {
   "cell_type": "code",
   "execution_count": null,
   "metadata": {},
   "outputs": [],
   "source": []
  },
  {
   "cell_type": "code",
   "execution_count": 129,
   "metadata": {},
   "outputs": [],
   "source": [
    "P0, P1, PF2, A, B = ut.expr('P0, P1, PF2, A, B')\n",
    "p0Cnf = lg.to_cnf(A |'&'| B)\n",
    "p1Cnf = lg.to_cnf((A |'&'| B) |'&'| B)\n",
    "pF1Cnf = lg.to_cnf((A |'&'| B) |'&'| B)\n"
   ]
  },
  {
   "cell_type": "code",
   "execution_count": 94,
   "metadata": {},
   "outputs": [],
   "source": [
    "wumpus_kb = lg.PropKB()"
   ]
  },
  {
   "cell_type": "code",
   "execution_count": 95,
   "metadata": {},
   "outputs": [],
   "source": [
    "wumpus_kb.tell(A | '&' | B)\n",
    "wumpus_kb.tell(P0 | '&' | B)\n",
    "wumpus_kb.tell(P1)\n",
    "\n",
    "# wumpus_kb.tell(p1)\n",
    "# wumpus_kb.tell(pF2)"
   ]
  },
  {
   "cell_type": "code",
   "execution_count": 96,
   "metadata": {},
   "outputs": [
    {
     "data": {
      "text/plain": [
       "[A, B, P0, B, P1]"
      ]
     },
     "execution_count": 96,
     "metadata": {},
     "output_type": "execute_result"
    }
   ],
   "source": [
    "wumpus_kb.clauses"
   ]
  },
  {
   "cell_type": "code",
   "execution_count": 114,
   "metadata": {},
   "outputs": [
    {
     "data": {
      "text/plain": [
       "0"
      ]
     },
     "execution_count": 114,
     "metadata": {},
     "output_type": "execute_result"
    }
   ],
   "source": [
    "lg.tt_entails(A & B, 0)"
   ]
  },
  {
   "cell_type": "code",
   "execution_count": null,
   "metadata": {},
   "outputs": [],
   "source": [
    "var = [ A, B, C ] \n",
    "Fin = [ p0 = [ A = 0 ] , p1 = [ B = 0 ] , pF2 = [ ] ]\n",
    "Fout = [ p1 = 0 ]\n",
    "p0 = ( A  and B ) \n",
    "p1 = ( p0  and B ) \n",
    "pF2 = ( p1 )"
   ]
  },
  {
   "cell_type": "code",
   "execution_count": 101,
   "metadata": {},
   "outputs": [
    {
     "data": {
      "text/plain": [
       "((A | ~B) & (B | ~A))"
      ]
     },
     "execution_count": 101,
     "metadata": {},
     "output_type": "execute_result"
    }
   ],
   "source": [
    "A, B, C, D = ut.expr('A, B, C, D')\n",
    "lg.to_cnf(A |'<=>'| B)"
   ]
  },
  {
   "cell_type": "code",
   "execution_count": 143,
   "metadata": {},
   "outputs": [
    {
     "data": {
      "text/plain": [
       "{A: True, B: False}"
      ]
     },
     "execution_count": 143,
     "metadata": {},
     "output_type": "execute_result"
    }
   ],
   "source": [
    "lg.dpll_satisfiable((A & B) & (~(A & B) & ~B) |  (~(A & B) & ~B))"
   ]
  },
  {
   "cell_type": "code",
   "execution_count": 144,
   "metadata": {},
   "outputs": [
    {
     "data": {
      "text/plain": [
       "{A: True, B: True}"
      ]
     },
     "execution_count": 144,
     "metadata": {},
     "output_type": "execute_result"
    }
   ],
   "source": [
    "lg.dpll_satisfiable((A & B) & ((A & B)) & B |  ((A & B)) & B)"
   ]
  },
  {
   "cell_type": "code",
   "execution_count": null,
   "metadata": {},
   "outputs": [],
   "source": [
    "# def avaliaC1P01():\n",
    "#     listaSol = []\n",
    "#     valoresVarA = []\n",
    "#     valoresVarB = []\n",
    "#     valoresVarC = []\n",
    "#     valoresVarAPreso0 = []\n",
    "#     valoresVarBPreso0 = []\n",
    "#     valoresVarCPreso0 = []\n",
    "#     valoresVarAPreso1= []\n",
    "#     valoresVarBPreso1 = []\n",
    "#     valoresVarCPreso1 = []\n",
    "    \n",
    "#     aval = []\n",
    "#     aval2 = []\n",
    "#     ### Verificando falhas de entrada e variações nas variáveis de entrada\n",
    "#     for i in range(8): # 8\n",
    "#         xC1 = np.random.binomial(1,0.5,1)[0]\n",
    "#         yC1 = np.random.binomial(1,0.5,1)[0]\n",
    "#         zC1 = np.random.binomial(1,0.5,1)[0] # gerando valores aleatórios 0,1\n",
    "       \n",
    "#         valoresVarA.append(xC1) # Variáveis\n",
    "#         valoresVarB.append(yC1) # Variáveis\n",
    "#         valoresVarC.append(zC1) # Variáveis\n",
    "\n",
    "#         valoresVarAPreso0.append(0) # Variáveis\n",
    "#         valoresVarBPreso0.append(0) # Variáveis\n",
    "#         valoresVarCPreso0.append(0) # Variáveis\n",
    "\n",
    "#         valoresVarAPreso1.append(1) # Variáveis\n",
    "#         valoresVarBPreso1.append(1) # Variáveis\n",
    "#         valoresVarCPreso1.append(1) # Variáveis\n",
    "\n",
    "#         resppF1_0 = '( ( (', 0, 'and', xC1 ,'^', yC1 ,') ) or (', yC1,' and ', xC1  ,')))'\n",
    "#         resppF1__0 = ( ( ( 0 and xC1 ^ yC1 ) )or ( yC1 and xC1 ))\n",
    "#         aval.append(resppF1__0)\n",
    "        \n",
    "# #         resppF1_1 = '( ( (', zC1, 'and', 0 ,'^', yC1 ,') ) or (', yC1,' and ', 0  ,')))'\n",
    "# #         resppF1__1 = ( ( ( zC1 and 0 ^ yC1 ) )or ( yC1 and 0 ))\n",
    "# #         aval.append(resppF1__1)\n",
    "\n",
    "# #         resppF1_2 = '( ( (', zC1, 'and', xC1 ,'^', 0 ,') ) or (', 0,' and ', xC1  ,')))'\n",
    "# #         resppF1__2= ( ( ( zC1 and xC1 ^ 0 ) )or ( 0 and xC1 ))\n",
    "# #         aval.append(resppF1__2)\n",
    "\n",
    "# #         resppF1_3 = '( ( (', 1, 'and', xC1 ,'^', yC1 ,') ) or (', yC1,' and ', xC1  ,')))'\n",
    "# #         resppF1__3 = ( ( ( 1 and xC1 ^ yC1 ) )or ( yC1 and xC1 ))\n",
    "# #         aval.append(resppF1__3)\n",
    "        \n",
    "# #         resppF1_4 = '( ( (', zC1, 'and', 1 ,'^', yC1 ,') ) or (', yC1,' and ', 1  ,')))'\n",
    "# #         resppF1__4 = ( ( ( zC1 and 1 ^ yC1 ) )or ( yC1 and 1 ))\n",
    "# #         aval.append(resppF1__4)\n",
    "\n",
    "# #         resppF1_5 = '( ( (', zC1, 'and', xC1 ,'^', 1 ,') ) or (', 1,' and ', xC1  ,')))'\n",
    "# #         resppF1__5 = ( ( ( zC1 and xC1 ^ 1 ) )or ( 1 and xC1 ))\n",
    "# #         aval.append(resppF1__5)\n",
    "\n",
    "#         # preso em 0 2x2\n",
    "        \n",
    "# #         resppF1_6 = '( ( (', 0, 'and', 0 ,'^', yC1 ,') ) or (', yC1,' and ', 0  ,')))'\n",
    "# #         resppF1__6 = ( ( ( 0 and 0 ^ yC1 ) )or ( yC1 and 0 ))\n",
    "# #         aval.append(resppF1__6)\n",
    "        \n",
    "#         C1 = [valoresVarA,valoresVarB,valoresVarAPreso0,aval]\n",
    "#         C1 = np.transpose(C1).tolist()  # Colocando num formato matriz 3x8\n",
    "# #         df2 = pd.DataFrame(C1, columns=['A','B','C','pF1'])\n",
    "                                        \n",
    "#         if len(aval)==8 and aval !=  dataComFalha['( ( ( C and ( A ^ B ) )or ( B and A )))'].tolist():\n",
    "# #             if not(df2 in listaSol):\n",
    "# #                 listaSol.append(df2)\n",
    "\n",
    "# #                 print(df2.head(10))\n",
    "#             print('+++ ',aval,dataComFalha['( ( ( C and ( A ^ B ) )or ( B and A )))'].tolist())\n",
    "#     #             print(dataComFalha.head(10)) # Imprimindo o DF Sem Falha            \n",
    "# #                 xC1 =np.random.binomial(1,0.5,1)[0]\n",
    "# #                 yC1 = np.random.binomial(1,0.5,1)[0]\n",
    "# #                 zC1 = np.random.binomial(1,0.5,1)[0]\n",
    "        \n",
    "# #                 #  Escrevendo os valores pelo qual gera o circuito com falha.\n",
    "# #                 solFinais = open('SolucoesTVCircuit1_Preso01.txt','a')\n",
    "# #                 solFinais.write(str(listaSol))\n",
    "# #                 solFinais.close()\n"
   ]
  }
 ],
 "metadata": {
  "kernelspec": {
   "display_name": "Python 3",
   "language": "python",
   "name": "python3"
  },
  "language_info": {
   "codemirror_mode": {
    "name": "ipython",
    "version": 3
   },
   "file_extension": ".py",
   "mimetype": "text/x-python",
   "name": "python",
   "nbconvert_exporter": "python",
   "pygments_lexer": "ipython3",
   "version": "3.6.5"
  }
 },
 "nbformat": 4,
 "nbformat_minor": 2
}
