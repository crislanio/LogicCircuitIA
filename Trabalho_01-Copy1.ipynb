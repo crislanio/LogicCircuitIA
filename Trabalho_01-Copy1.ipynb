{
 "cells": [
  {
   "cell_type": "code",
   "execution_count": 7,
   "metadata": {},
   "outputs": [],
   "source": [
    "# !pip install prettytable\n",
    "\n",
    "# !pip install https://pypi.python.org/packages/source/P/PrettyTable/prettytable-0.7.2.tar.bz2\n",
    "\n",
    "# https://pt.stackoverflow.com/questions/130338/comparar-campos-em-dois-conjuntos-de-dados"
   ]
  },
  {
   "cell_type": "code",
   "execution_count": 431,
   "metadata": {},
   "outputs": [],
   "source": [
    "from prettytable import PrettyTable, from_csv\n",
    "import pandas as pd\n",
    "import numpy as np\n",
    "import itertools\n",
    "from itertools import chain\n",
    "import numpy\n",
    "import lxml\n",
    "import csv\n",
    "import re"
   ]
  },
  {
   "cell_type": "code",
   "execution_count": 515,
   "metadata": {},
   "outputs": [
    {
     "name": "stdout",
     "output_type": "stream",
     "text": [
      "[\"var = ['A', 'B', 'C']\\n\", \"{'p0 ': '( A  and B ) ', 'p1 ': '( ( A  and B )  and B ) ', 'pF2': ' ( ( ( A  and B )  and B ) )'}\"] <class 'list'> 2\n"
     ]
    }
   ],
   "source": [
    "## Circuito gerado pelo algoritmo\n",
    "f2 =  open(\"logicFormCircuitFinal.txt\",'r')\n",
    "# logicFormCircuit\n",
    "texto2 = f2.readlines()\n",
    "print(texto2, type(texto2), len(texto2))"
   ]
  },
  {
   "cell_type": "code",
   "execution_count": 516,
   "metadata": {},
   "outputs": [
    {
     "name": "stdout",
     "output_type": "stream",
     "text": [
      "['var', '=', 'A,', '', 'B,', '', 'C'] 7\n",
      "['A,', 'B,', 'C']\n"
     ]
    }
   ],
   "source": [
    "def tratamentoFileModel():\n",
    "    a2 =texto2[0].replace('=', '').replace('var', '').replace('\\n', '').replace(\"''\", '').replace(\" \", '').replace(\"[\", '').replace(\"]\", '').replace(\",\", '')\n",
    "    a3=str(texto2[0][0:19].split(',')).replace('\"', '').replace('[', '').replace(']', '').replace('(', '').replace(\"'\", '').split(\" \")\n",
    "    print(a3, len(a3))\n",
    "    var2 = []\n",
    "    for i in range(len(a3)):\n",
    "        if a3[i] =='' or a3[i] =='var' or a3[i] =='=':\n",
    "            pass\n",
    "        else:\n",
    "            var2.append(a3[i])\n",
    "    print(var2)# lista de variáveis do arquivo\n",
    "tratamentoFileModel()"
   ]
  },
  {
   "cell_type": "code",
   "execution_count": 527,
   "metadata": {},
   "outputs": [
    {
     "data": {
      "text/plain": [
       "[\"{'p0 ': '( A  and B ) '\",\n",
       " \" 'p1 ': '( ( A  and B )  and B ) '\",\n",
       " \" 'pF2': ' ( ( ( A  and B )  and B ) )'}\"]"
      ]
     },
     "execution_count": 527,
     "metadata": {},
     "output_type": "execute_result"
    }
   ],
   "source": [
    "texto2[1].split(',').replace('')"
   ]
  },
  {
   "cell_type": "code",
   "execution_count": 517,
   "metadata": {},
   "outputs": [
    {
     "data": {
      "text/plain": [
       "[[\"var = ['A', 'B', 'C']\\n\",\n",
       "  \"{'p0 ': '( A  and B ) ', 'p1 ': '( ( A  and B )  and B ) ', 'pF2': ' ( ( ( A  and B )  and B ) )'}\"],\n",
       " [\"var = ['A', 'B', 'C']\\n\",\n",
       "  \"{'p0 ': '( A  and B ) ', 'p1 ': '( ( A  and B )  and B ) ', 'pF2': ' ( ( ( A  and B )  and B ) )'}\"]]"
      ]
     },
     "execution_count": 517,
     "metadata": {},
     "output_type": "execute_result"
    }
   ],
   "source": [
    "def mapeamentoCircuitoModelGerado():\n",
    "    lPort = []\n",
    "    for i in range(len(texto2)):\n",
    "        lPort.append(texto2)\n",
    "    return lPort\n",
    "#     lForm = []\n",
    "#     for i in range(1, len(texto)):\n",
    "#         lForm.append(texto[i][5:])\n",
    "#     print(lForm)\n",
    "#     mapCircuito = dict(zip(lPort, lForm))\n",
    "#     print(\"Lista: \",mapCircuito)\n",
    "#     return mapCircuito\n",
    "mapeamentoCircuitoModelGerado()"
   ]
  },
  {
   "cell_type": "code",
   "execution_count": 435,
   "metadata": {},
   "outputs": [
    {
     "name": "stdout",
     "output_type": "stream",
     "text": [
      "['var = [ A, B, C ] \\n', 'p0 = ( A  and B ) \\n', 'p1 = ( p0  and B ) \\n', 'pF2 = ( p1 )'] <class 'list'> 4\n"
     ]
    }
   ],
   "source": [
    "# f = open(\"Circuito.txt\",'r')\n",
    "f = open(\"circuito4.txt\",'r')\n",
    "# logicFormCircuit\n",
    "texto = f.readlines()\n",
    "print(texto, type(texto), len(texto))"
   ]
  },
  {
   "cell_type": "code",
   "execution_count": 277,
   "metadata": {},
   "outputs": [
    {
     "name": "stdout",
     "output_type": "stream",
     "text": [
      "['A']\n",
      "['B']\n",
      "['C']\n",
      "['A', 'B', 'C']\n"
     ]
    }
   ],
   "source": [
    "a =texto[0].replace('=', '').replace('var', '').replace('\\n', '').replace(\"''\", '').replace(\" \", '').replace(\"[\", '').replace(\"]\", '').replace(\",\", '')\n",
    "# print(texto[0], a, len(texto[0]),  len(a) )\n",
    "## Lista de variáveis\n",
    "var = []\n",
    "for i in range(len(a)):\n",
    "    print(a[i].split(' '))\n",
    "    var.append(a[i])\n",
    "print(var)\n"
   ]
  },
  {
   "cell_type": "code",
   "execution_count": 503,
   "metadata": {},
   "outputs": [
    {
     "name": "stdout",
     "output_type": "stream",
     "text": [
      "['p0 ', 'p1 ', 'pF2']\n",
      "['( A  and B ) \\n', '( p0  and B ) \\n', ' ( p1 )']\n",
      "Lista:  {'p0 ': '( A  and B ) \\n', 'p1 ': '( p0  and B ) \\n', 'pF2': ' ( p1 )'}\n"
     ]
    },
    {
     "data": {
      "text/plain": [
       "{'p0 ': '( A  and B ) \\n', 'p1 ': '( p0  and B ) \\n', 'pF2': ' ( p1 )'}"
      ]
     },
     "execution_count": 503,
     "metadata": {},
     "output_type": "execute_result"
    }
   ],
   "source": [
    "listaPortas = []\n",
    "def mapeamentoCircuito():\n",
    "    lPort = []\n",
    "    for i in range(1, len(texto)):\n",
    "        lPort.append(texto[i][0:3])\n",
    "        listaPortas.append(texto[i][0:3])\n",
    "    print(lPort)\n",
    "    lForm = []\n",
    "    for i in range(1, len(texto)):\n",
    "        lForm.append(texto[i][5:])\n",
    "    print(lForm)\n",
    "    mapCircuito = dict(zip(lPort, lForm))\n",
    "    print(\"Lista: \",mapCircuito)\n",
    "    return mapCircuito\n",
    "mapeamentoCircuito()"
   ]
  },
  {
   "cell_type": "code",
   "execution_count": 405,
   "metadata": {},
   "outputs": [
    {
     "data": {
      "text/html": [
       "<div>\n",
       "<style scoped>\n",
       "    .dataframe tbody tr th:only-of-type {\n",
       "        vertical-align: middle;\n",
       "    }\n",
       "\n",
       "    .dataframe tbody tr th {\n",
       "        vertical-align: top;\n",
       "    }\n",
       "\n",
       "    .dataframe thead th {\n",
       "        text-align: right;\n",
       "    }\n",
       "</style>\n",
       "<table border=\"1\" class=\"dataframe\">\n",
       "  <thead>\n",
       "    <tr style=\"text-align: right;\">\n",
       "      <th></th>\n",
       "      <th>p0</th>\n",
       "      <th>p1</th>\n",
       "      <th>pF2</th>\n",
       "    </tr>\n",
       "  </thead>\n",
       "  <tbody>\n",
       "    <tr>\n",
       "      <th>0</th>\n",
       "      <td>( A  and B ) \\n</td>\n",
       "      <td>( p0  and B ) \\n</td>\n",
       "      <td>( p1 )</td>\n",
       "    </tr>\n",
       "  </tbody>\n",
       "</table>\n",
       "</div>"
      ],
      "text/plain": [
       "               p0                p1       pF2\n",
       "0  ( A  and B ) \\n  ( p0  and B ) \\n   ( p1 )"
      ]
     },
     "execution_count": 405,
     "metadata": {},
     "output_type": "execute_result"
    }
   ],
   "source": [
    "# Pegando o circuito e colocando em um csv\n",
    "dfCircuito = pd.DataFrame(data=mapCircuito, index=[0])\n",
    "dfCircuito"
   ]
  },
  {
   "cell_type": "code",
   "execution_count": 280,
   "metadata": {},
   "outputs": [
    {
     "data": {
      "text/plain": [
       "['( A  and B ) \\n', '( p0  and B ) \\n', ' ( p1 )']"
      ]
     },
     "execution_count": 280,
     "metadata": {},
     "output_type": "execute_result"
    }
   ],
   "source": [
    "# Colocando o circuito como uma lista para repassar para a função que irá gerar a tabela verdade\n",
    "listCircuito = dfCircuito.values.tolist()\n",
    "listCircuito = list(chain.from_iterable(listCircuito))\n",
    "listCircuito"
   ]
  },
  {
   "cell_type": "code",
   "execution_count": 144,
   "metadata": {},
   "outputs": [
    {
     "data": {
      "text/plain": [
       "'pF2'"
      ]
     },
     "execution_count": 144,
     "metadata": {},
     "output_type": "execute_result"
    }
   ],
   "source": [
    "dfCircuito.columns[2]"
   ]
  },
  {
   "cell_type": "code",
   "execution_count": 293,
   "metadata": {},
   "outputs": [
    {
     "name": "stdout",
     "output_type": "stream",
     "text": [
      "0    ( A  and B ) \n",
      "Name: p0 , dtype: object\n",
      "0    ( A  and B ) \n",
      "Name: p0 , dtype: object\n",
      "0    ( A  and B ) \n",
      "Name: p0 , dtype: object\n",
      "0    ( ( A  and B )  and B ) \n",
      "Name: p1 , dtype: object\n",
      "0    ( ( A  and B )  and B ) \n",
      "Name: p1 , dtype: object\n",
      "0    ( ( A  and B )  and B ) \n",
      "Name: p1 , dtype: object\n",
      "0     ( ( ( A  and B )  and B ) )\n",
      "Name: pF2, dtype: object\n",
      "0     ( ( ( A  and B )  and B ) )\n",
      "Name: pF2, dtype: object\n",
      "0     ( ( ( A  and B )  and B ) )\n",
      "Name: pF2, dtype: object\n"
     ]
    }
   ],
   "source": [
    "def aplicaClausula():\n",
    "    # Substituindo e gerando o circuito. Circuito de Teste\n",
    "    for feature in dfCircuito.columns:\n",
    "        for i in range(len(listCircuito)):\n",
    "            print(dfCircuito[feature])\n",
    "            dfCircuito[feature].replace(dfCircuito.columns[i], listCircuito[i], regex=True, inplace=True)\n",
    "            dfCircuito[feature].replace(\"\\n\", \"\", regex=True, inplace=True)            \n",
    "            dfCircuito[feature].replace(dfCircuito.columns[i], listCircuito[i], regex=True, inplace=True)\n",
    "            dfCircuito[feature].replace(\"\\n\", \"\", regex=True, inplace=True)            \n",
    "aplicaClausula()"
   ]
  },
  {
   "cell_type": "code",
   "execution_count": 91,
   "metadata": {},
   "outputs": [
    {
     "name": "stdout",
     "output_type": "stream",
     "text": [
      "0    ( A  and B ) \n",
      "Name: p0 , dtype: object\n",
      "0     ( ( A  and B ) )\n",
      "Name: pF2, dtype: object\n",
      "0    \n",
      "Name: \\t, dtype: object\n"
     ]
    }
   ],
   "source": [
    "# Substituindo e gerando o circuito\n",
    "for feature in dfCircuito.columns:\n",
    "    print(dfCircuito[feature])\n",
    "    dfCircuito[feature].replace(\"p0\", \"A  and B\", regex=True, inplace=True)\n",
    "    \n",
    "#     dfCircuito[feature].replace(\"p1\", \"( ( ( (A  and B) and ( not C ) ) or ( ( not (A  and B) ) and C)) )\", regex=True, inplace=True)\n",
    "#     dfCircuito[feature].replace(\"p2\", \"( (A  and B) and C )\", regex=True, inplace=True)\n",
    "#     dfCircuito[feature].replace(\"p3\", \"( A and B )\", regex=True, inplace=True)\n",
    "#     dfCircuito[feature].replace(\"p4\", \"( ( (A  and B) and C ) or ( A and B ) )\", regex=True, inplace=True)\n",
    "#     dfCircuito[feature].replace(\"pF1\", \"( ( ( (A  and B) and C ) or ( A and B ) ) )\", regex=True, inplace=True)\n",
    "#     dfCircuito[feature].replace(\"pF2\", \"( ( ( ( (A  and B) and ( not C ) ) or ( ( not (A  and B) ) and C)) ) )\", regex=True, inplace=True)\n",
    "\n",
    "#     dfCircuito[feature].replace(\"p0\", \"(A  and B)\", regex=True, inplace=True)\n",
    "#     dfCircuito[feature].replace(\"p1\", \"( ( ( (A  and B) and ( not C ) ) or ( ( not (A  and B) ) and C)) )\", regex=True, inplace=True)\n",
    "#     dfCircuito[feature].replace(\"p2\", \"( (A  and B) and C )\", regex=True, inplace=True)\n",
    "#     dfCircuito[feature].replace(\"p3\", \"( A and B )\", regex=True, inplace=True)\n",
    "#     dfCircuito[feature].replace(\"p4\", \"( ( (A  and B) and C ) or ( A and B ) )\", regex=True, inplace=True)\n",
    "#     dfCircuito[feature].replace(\"pF1\", \"( ( ( (A  and B) and C ) or ( A and B ) ) )\", regex=True, inplace=True)\n",
    "#     dfCircuito[feature].replace(\"pF2\", \"( ( ( ( (A  and B) and ( not C ) ) or ( ( not (A  and B) ) and C)) ) )\", regex=True, inplace=True)\n",
    "\n",
    "    dfCircuito[feature].replace(\"\\n\", \"\", regex=True, inplace=True)\n",
    "    dfCircuito[feature].replace(\"\\n\", \"\", regex=True, inplace=True)\n",
    "            \n"
   ]
  },
  {
   "cell_type": "code",
   "execution_count": 109,
   "metadata": {},
   "outputs": [
    {
     "name": "stdout",
     "output_type": "stream",
     "text": [
      "0    ( A  and B ) \n",
      "Name: p0 , dtype: object\n",
      "0     ( ( A  and B ) )\n",
      "Name: pF2, dtype: object\n",
      "0    \n",
      "Name: \\t, dtype: object\n"
     ]
    }
   ],
   "source": [
    "# Substituindo e gerando o circuito 1\n",
    "for feature in dfCircuito.columns:\n",
    "    print(dfCircuito[feature])\n",
    "    dfCircuito[feature].replace(\"p0\", \"( ( A and ( not B ) ) or ( ( not A ) and B) ) \", regex=True, inplace=True)\n",
    "    dfCircuito[feature].replace(\"p1\", \"( ( ( p0 and ( not C ) ) or ( ( not p0 ) and C)) )\", regex=True, inplace=True)\n",
    "    dfCircuito[feature].replace(\"p2\", \"( p0 and C )\", regex=True, inplace=True)\n",
    "    dfCircuito[feature].replace(\"p3\", \"( A and B )\", regex=True, inplace=True)\n",
    "    dfCircuito[feature].replace(\"p4\", \"( p2 or p3 )\", regex=True, inplace=True)\n",
    "    dfCircuito[feature].replace(\"pF1\", \"( p4 )\", regex=True, inplace=True)\n",
    "    dfCircuito[feature].replace(\"pF2\", \"( p1 )\", regex=True, inplace=True)\n",
    " \n",
    "    dfCircuito[feature].replace(\"p0\", \"( ( A and ( not B ) ) or ( ( not A ) and B) ) \", regex=True, inplace=True)\n",
    "    dfCircuito[feature].replace(\"p1\", \"( ( ( p0 and ( not C ) ) or ( ( not p0 ) and C)) )\", regex=True, inplace=True)\n",
    "    dfCircuito[feature].replace(\"p2\", \"( p0 and C )\", regex=True, inplace=True)\n",
    "    dfCircuito[feature].replace(\"p3\", \"( A and B )\", regex=True, inplace=True)\n",
    "    dfCircuito[feature].replace(\"p4\", \"( p2 or p3 )\", regex=True, inplace=True)\n",
    "    dfCircuito[feature].replace(\"pF1\", \"( p4 )\", regex=True, inplace=True)\n",
    "    dfCircuito[feature].replace(\"pF2\", \"( p1 )\", regex=True, inplace=True)\n",
    "\n",
    "\n",
    "    dfCircuito[feature].replace(\"\\n\", \"\", regex=True, inplace=True)\n",
    "    dfCircuito[feature].replace(\"\\n\", \"\", regex=True, inplace=True)\n",
    "            \n"
   ]
  },
  {
   "cell_type": "code",
   "execution_count": 331,
   "metadata": {},
   "outputs": [
    {
     "name": "stdout",
     "output_type": "stream",
     "text": [
      "p0  = ( A  and B ) ', 'p1  = ( ( A  and B )  and B ) ', 'pF2 =  ( ( ( A  and B )  and B ) )', 'p0  = ( A  and B ) ', 'p1  = ( ( A  and B )  and B ) ', 'pF2 =  ( ( ( A  and B )  and B ) )', 'p0  = ( A  and B ) ', 'p1  = ( ( A  and B )  and B ) ', 'pF2 =  ( ( ( A  and B )  and B ) )\n"
     ]
    }
   ],
   "source": [
    "circuitoOriginalVar = []\n",
    "circuitoOriginal = []\n",
    "# Gerando o circuito 1 original\n",
    "circuitoOriginalVar.append('var = ')          \n",
    "for i in range(len(var)):\n",
    "    circuitoOriginalVar.append(var[i])          \n",
    "for feature in dfCircuito.columns:\n",
    "    for i in range(len(listCircuito)):\n",
    "        circuitoOriginal.append(dfCircuito.columns[i]+' = '+ listCircuito[i])  \n",
    "        \n",
    "        \n",
    "circuitoOriginalVar = str(circuitoOriginalVar).replace(\"'\", '').replace(\"  \", ' ').replace(\"[var\", 'var ').replace(' , ',' [ ').replace('\")', '').replace(\"('\", '')\n",
    "c = str(circuitoOriginal).replace(\"['\", '').replace(\"\\n\", '').replace(\"']\", '') #.replace(\"[var\", 'var ').replace(' , ',' [ ')\n",
    "# print(circuitoOriginalVar,'\\n', circuitoOriginal)\n",
    "print(c)\n",
    "    "
   ]
  },
  {
   "cell_type": "code",
   "execution_count": 336,
   "metadata": {},
   "outputs": [
    {
     "data": {
      "text/plain": [
       "['p0  = ( A  and B ) ',\n",
       " \" 'p1  = ( ( A  and B )  and B ) \",\n",
       " \" 'pF2 =  ( ( ( A  and B )  and B ) )\",\n",
       " \" 'p0  = ( A  and B ) \",\n",
       " \" 'p1  = ( ( A  and B )  and B ) \",\n",
       " \" 'pF2 =  ( ( ( A  and B )  and B ) )\",\n",
       " \" 'p0  = ( A  and B ) \",\n",
       " \" 'p1  = ( ( A  and B )  and B ) \",\n",
       " \" 'pF2 =  ( ( ( A  and B )  and B ) )\"]"
      ]
     },
     "execution_count": 336,
     "metadata": {},
     "output_type": "execute_result"
    }
   ],
   "source": [
    "str(c).split(\"',\")\n",
    "c2 = str(c).split(\"',\")\n",
    "# print(circuitoOriginalVar,'\\n', circuitoOriginal)\n",
    "c2\n",
    "# Pegando o circuito e colocando em um csv\n"
   ]
  },
  {
   "cell_type": "code",
   "execution_count": null,
   "metadata": {},
   "outputs": [],
   "source": []
  },
  {
   "cell_type": "code",
   "execution_count": null,
   "metadata": {},
   "outputs": [],
   "source": []
  },
  {
   "cell_type": "code",
   "execution_count": 355,
   "metadata": {},
   "outputs": [],
   "source": [
    "\n",
    "#  Escrevendo a forma lógica do circuito paranteseada no formato de entrada\n",
    "logicForm = open('logicFormCircuitFinal.txt','w')\n",
    "logicForm.write(str( (circuitoOriginalVar,str(c) ) ))\n",
    "\n",
    "logicForm.close()"
   ]
  },
  {
   "cell_type": "code",
   "execution_count": 294,
   "metadata": {},
   "outputs": [
    {
     "name": "stdout",
     "output_type": "stream",
     "text": [
      "0    ( A  and B ) \n",
      "Name: p0 , dtype: object\n",
      "0    ( A  and B ) \n",
      "Name: p0 , dtype: object\n",
      "0    ( A  and B ) \n",
      "Name: p0 , dtype: object\n",
      "0    ( ( A  and B )  and B ) \n",
      "Name: p1 , dtype: object\n",
      "0    ( ( A  and B )  and B ) \n",
      "Name: p1 , dtype: object\n",
      "0    ( ( A  and B )  and B ) \n",
      "Name: p1 , dtype: object\n",
      "0     ( ( ( A  and B )  and B ) )\n",
      "Name: pF2, dtype: object\n",
      "0     ( ( ( A  and B )  and B ) )\n",
      "Name: pF2, dtype: object\n",
      "0     ( ( ( A  and B )  and B ) )\n",
      "Name: pF2, dtype: object\n"
     ]
    }
   ],
   "source": [
    "aplicaClausula()\n",
    "dfCircuito.to_csv('circuito4.csv', index=False)"
   ]
  },
  {
   "cell_type": "code",
   "execution_count": 431,
   "metadata": {},
   "outputs": [],
   "source": [
    "# dfCircuito['p1'].replace(\"p0\", \"( not ( A and B ))\", regex=True, inplace=True)\n",
    "# dfCircuito['p1'].replace(\"p2\", \"( p0 and Cin)\", regex=True, inplace=True)\n",
    "# dfCircuito['p1'].replace(\"p0\", \"( not ( A and B ))\", regex=True, inplace=True)\n",
    "\n",
    "# dfCircuito['p1'].replace(\"p0\", \"( not ( A and B ))\", regex=True, inplace=True)\n",
    "# dfCircuito['p1'].replace(\"p2\", \"( p0 and Cin)\", regex=True, inplace=True)\n",
    "# dfCircuito['p1'].replace(\"p0\", \"( not ( A and B ))\", regex=True, inplace=True)\n",
    "\n",
    "# df.head()"
   ]
  },
  {
   "cell_type": "code",
   "execution_count": null,
   "metadata": {},
   "outputs": [],
   "source": []
  },
  {
   "cell_type": "code",
   "execution_count": null,
   "metadata": {},
   "outputs": [],
   "source": []
  },
  {
   "cell_type": "code",
   "execution_count": 123,
   "metadata": {},
   "outputs": [
    {
     "name": "stdout",
     "output_type": "stream",
     "text": [
      "20 p1 = ( p0  and B ) \n",
      "\n",
      "13 pF2 = ( p1 )\n",
      "\n",
      "1 \t\n"
     ]
    }
   ],
   "source": [
    "text2 = texto\n",
    "text2.pop(0)\n",
    "for i in range(1, len(texto)):\n",
    "#     if 'p0' in texto[i]: \n",
    "    print(len(texto[i]), texto[i])"
   ]
  },
  {
   "cell_type": "code",
   "execution_count": 234,
   "metadata": {},
   "outputs": [
    {
     "name": "stdout",
     "output_type": "stream",
     "text": [
      "7 ['p1 = ( not( p0 and p2 ))\\n', 'p1 = ( not( p0 and p2 ))\\n', 'p2 = ( p0 and C )\\n', 'p4 = ( p2 or p3 )\\n', 'p4 = ( p2 or p3 )\\n', 'pF1 = ( p4 )\\n', 'pF2 = ( p1 )']\n"
     ]
    },
    {
     "data": {
      "text/plain": [
       "['p1 = ( not( p0 and p2 ))\\n',\n",
       " 'p1 = ( not( p0 and p2 ))\\n',\n",
       " 'p2 = ( p0 and C )\\n',\n",
       " 'p4 = ( p2 or p3 )\\n',\n",
       " 'p4 = ( p2 or p3 )\\n',\n",
       " 'pF1 = ( p4 )\\n',\n",
       " 'pF2 = ( p1 )']"
      ]
     },
     "execution_count": 234,
     "metadata": {},
     "output_type": "execute_result"
    }
   ],
   "source": [
    "# addC = []\n",
    "# for i in range(len(texto)):\n",
    "#     for j in range(1, len(texto[i].split(' '))):\n",
    "#         if texto[i].split(' ')[j] == 'p0' or  texto[i].split(' ')[j] == 'p1' or texto[i].split(' ')[j] == 'p2' or texto[i].split(' ')[j] == 'p3' or  texto[i].split(' ')[j] == 'p4':\n",
    "#             addC.append(texto[i])  \n",
    "#             texto[i].split(' ')[j]=texto[i]\n",
    "            \n",
    "# #             print(texto[i].split(' ')[j],\"   -  \" ,texto[i])\n",
    "# #             pass  \n",
    "        \n",
    "# print(len(addC), addC ) \n",
    "# addC"
   ]
  },
  {
   "cell_type": "code",
   "execution_count": 112,
   "metadata": {},
   "outputs": [
    {
     "data": {
      "text/plain": [
       "False"
      ]
     },
     "execution_count": 112,
     "metadata": {},
     "output_type": "execute_result"
    }
   ],
   "source": [
    "texto[1].split(' ')[0] in texto[2]   "
   ]
  },
  {
   "cell_type": "code",
   "execution_count": 290,
   "metadata": {},
   "outputs": [],
   "source": [
    "class Gob(object):\n",
    "    pass\n",
    "\n",
    "class Truths(object):\n",
    "    def __init__(self, base=None, phrases=None, ints=True):\n",
    "        if not base:\n",
    "            raise Exception('Base items are required')\n",
    "        self.base = base\n",
    "        self.phrases = phrases or []\n",
    "        self.ints = ints\n",
    "\n",
    "        # generate the sets of booleans for the bases\n",
    "        self.base_conditions = list(itertools.product([False, True],\n",
    "                                                      repeat=len(base)))\n",
    "\n",
    "        # regex to match whole words defined in self.bases\n",
    "        # used to add object context to variables in self.phrases\n",
    "        self.p = re.compile(r'(?<!\\w)(' + '|'.join(self.base) + ')(?!\\w)')\n",
    "\n",
    "    def calculate(self, *args):\n",
    "        # store bases in an object context\n",
    "        g = Gob()\n",
    "        for a, b in zip(self.base, args):\n",
    "            setattr(g, a, b)\n",
    "\n",
    "        # add object context to any base variables in self.phrases\n",
    "        # then evaluate each\n",
    "        eval_phrases = []\n",
    "        for item in self.phrases:\n",
    "            item = self.p.sub(r'g.\\1', item)\n",
    "            eval_phrases.append(eval(item))\n",
    "\n",
    "        # add the bases and evaluated phrases to create a single row\n",
    "        row = [getattr(g, b) for b in self.base] + eval_phrases\n",
    "        if self.ints:\n",
    "            return [int(item) for item in row]\n",
    "        else:\n",
    "            return row\n",
    "\n",
    "    def __str__(self):\n",
    "        t = PrettyTable(self.base + self.phrases)\n",
    "        for conditions_set in self.base_conditions:\n",
    "            t.add_row(self.calculate(*conditions_set))\n",
    "            \n",
    "        # Criando e escrevendo em arquivos de texto (modo 'w').\n",
    "            arquivo = open('arq02.txt','w')\n",
    "            arquivo.write(str(t))\n",
    "            arquivo.close()\n",
    "            df = pd.read_html(t.get_html_string())[0]\n",
    "            df.columns = df.iloc[0]\n",
    "            df = df.reindex(df.index.drop(0))\n",
    "            df.to_csv(\"tv4.csv\" , index=False)\n",
    "        return str(t)# t.get_html_string()  #str(t)\n"
   ]
  },
  {
   "cell_type": "code",
   "execution_count": 291,
   "metadata": {},
   "outputs": [
    {
     "data": {
      "text/plain": [
       "['( A  and B ) ', '( ( A  and B )  and B ) ', ' ( ( ( A  and B )  and B ) )']"
      ]
     },
     "execution_count": 291,
     "metadata": {},
     "output_type": "execute_result"
    }
   ],
   "source": [
    "# Colocando o circuito como uma lista para repassar para a função que irá gerar a tabela verdade\n",
    "listCircuito = dfCircuito.values.tolist()\n",
    "listCircuito = list(chain.from_iterable(listCircuito))\n",
    "listCircuito"
   ]
  },
  {
   "cell_type": "code",
   "execution_count": 126,
   "metadata": {},
   "outputs": [
    {
     "data": {
      "text/plain": [
       "Index(['p0 ', 'p1 ', 'pF2', '\\t'], dtype='object')"
      ]
     },
     "execution_count": 126,
     "metadata": {},
     "output_type": "execute_result"
    }
   ],
   "source": [
    "# # Circuito\n",
    "# var = [ A, B, C ] \n",
    "# p0 = ( ( A and ( not B ) ) or ( ( not A ) and B) )  \n",
    "# p1 = ( ( ( p1 and ( not p2 ) ) or ( ( not p1 ) and p2)) )\n",
    "# p2 = ( p0 and C )\n",
    "# p3 = ( A and B )\n",
    "# p4 = ( p2 or p3 )\n",
    "# pF1 = ( p4 )\n",
    "# pF2 = ( p1 )\n",
    "dfCircuito.columns"
   ]
  },
  {
   "cell_type": "code",
   "execution_count": 285,
   "metadata": {},
   "outputs": [
    {
     "name": "stdout",
     "output_type": "stream",
     "text": [
      "['A', 'B', 'C'] ['( A  and B ) ', '( ( A  and B )  and B ) ', ' ( ( p0  and B ) )']\n"
     ]
    }
   ],
   "source": [
    "print(var, listCircuito)"
   ]
  },
  {
   "cell_type": "code",
   "execution_count": 292,
   "metadata": {},
   "outputs": [
    {
     "name": "stdout",
     "output_type": "stream",
     "text": [
      "+---+---+---+---------------+--------------------------+------------------------------+\n",
      "| A | B | C | ( A  and B )  | ( ( A  and B )  and B )  |  ( ( ( A  and B )  and B ) ) |\n",
      "+---+---+---+---------------+--------------------------+------------------------------+\n",
      "| 0 | 0 | 0 |       0       |            0             |              0               |\n",
      "| 0 | 0 | 1 |       0       |            0             |              0               |\n",
      "| 0 | 1 | 0 |       0       |            0             |              0               |\n",
      "| 0 | 1 | 1 |       0       |            0             |              0               |\n",
      "| 1 | 0 | 0 |       0       |            0             |              0               |\n",
      "| 1 | 0 | 1 |       0       |            0             |              0               |\n",
      "| 1 | 1 | 0 |       1       |            1             |              1               |\n",
      "| 1 | 1 | 1 |       1       |            1             |              1               |\n",
      "+---+---+---+---------------+--------------------------+------------------------------+\n"
     ]
    }
   ],
   "source": [
    "print( Truths(var, listCircuito, ints=True) )"
   ]
  },
  {
   "cell_type": "code",
   "execution_count": 496,
   "metadata": {},
   "outputs": [],
   "source": [
    "# print( Truths(var, ['( ( A and ( not B ) ) or ( ( not A ) and B) )', '( ( ( p1 and ( not p2 ) ) or ( ( not p1 ) and p2)) )', ' ( (not( A and B)) and C)', '( A and B)', '( ( (not( A and B)) and C) or ( A and B))'], ints=True) )\n"
   ]
  },
  {
   "cell_type": "code",
   "execution_count": 163,
   "metadata": {},
   "outputs": [
    {
     "data": {
      "text/html": [
       "<div>\n",
       "<style scoped>\n",
       "    .dataframe tbody tr th:only-of-type {\n",
       "        vertical-align: middle;\n",
       "    }\n",
       "\n",
       "    .dataframe tbody tr th {\n",
       "        vertical-align: top;\n",
       "    }\n",
       "\n",
       "    .dataframe thead th {\n",
       "        text-align: right;\n",
       "    }\n",
       "</style>\n",
       "<table border=\"1\" class=\"dataframe\">\n",
       "  <thead>\n",
       "    <tr style=\"text-align: right;\">\n",
       "      <th></th>\n",
       "      <th>A</th>\n",
       "      <th>B</th>\n",
       "      <th>C</th>\n",
       "      <th>( A and B )</th>\n",
       "      <th>( ( A and B ) and B )</th>\n",
       "      <th>( ( ( A and B ) and B ) )</th>\n",
       "    </tr>\n",
       "  </thead>\n",
       "  <tbody>\n",
       "    <tr>\n",
       "      <th>0</th>\n",
       "      <td>0</td>\n",
       "      <td>0</td>\n",
       "      <td>0</td>\n",
       "      <td>0</td>\n",
       "      <td>0</td>\n",
       "      <td>0</td>\n",
       "    </tr>\n",
       "    <tr>\n",
       "      <th>1</th>\n",
       "      <td>0</td>\n",
       "      <td>0</td>\n",
       "      <td>1</td>\n",
       "      <td>0</td>\n",
       "      <td>0</td>\n",
       "      <td>0</td>\n",
       "    </tr>\n",
       "    <tr>\n",
       "      <th>2</th>\n",
       "      <td>0</td>\n",
       "      <td>1</td>\n",
       "      <td>0</td>\n",
       "      <td>0</td>\n",
       "      <td>0</td>\n",
       "      <td>0</td>\n",
       "    </tr>\n",
       "    <tr>\n",
       "      <th>3</th>\n",
       "      <td>0</td>\n",
       "      <td>1</td>\n",
       "      <td>1</td>\n",
       "      <td>0</td>\n",
       "      <td>0</td>\n",
       "      <td>0</td>\n",
       "    </tr>\n",
       "    <tr>\n",
       "      <th>4</th>\n",
       "      <td>1</td>\n",
       "      <td>0</td>\n",
       "      <td>0</td>\n",
       "      <td>0</td>\n",
       "      <td>0</td>\n",
       "      <td>0</td>\n",
       "    </tr>\n",
       "  </tbody>\n",
       "</table>\n",
       "</div>"
      ],
      "text/plain": [
       "   A  B  C  ( A and B )  ( ( A and B ) and B )  ( ( ( A and B ) and B ) )\n",
       "0  0  0  0            0                      0                          0\n",
       "1  0  0  1            0                      0                          0\n",
       "2  0  1  0            0                      0                          0\n",
       "3  0  1  1            0                      0                          0\n",
       "4  1  0  0            0                      0                          0"
      ]
     },
     "execution_count": 163,
     "metadata": {},
     "output_type": "execute_result"
    }
   ],
   "source": [
    "data = pd.read_csv('tv4.csv')\n",
    "data.head()"
   ]
  },
  {
   "cell_type": "code",
   "execution_count": 210,
   "metadata": {},
   "outputs": [],
   "source": [
    "#  Escrevendo a forma lógica do circuito paranteseada\n",
    "logicForm = open('logicFormCircuit.txt','w')\n",
    "logicForm.write(str( (str(var),str(listCircuito)) ))\n",
    "logicForm.close()"
   ]
  },
  {
   "cell_type": "code",
   "execution_count": 483,
   "metadata": {},
   "outputs": [
    {
     "name": "stdout",
     "output_type": "stream",
     "text": [
      "( A  and B ) \n",
      "( ( A  and B )  and B ) \n",
      " ( ( ( A  and B )  and B ) )\n"
     ]
    }
   ],
   "source": [
    "# a=\"var = \"+str(var).replace(\"'\", '')\n",
    "# a\n",
    "len(listCircuito)\n",
    "for i in range(len(listCircuito)):\n",
    "    print(listCircuito[i])"
   ]
  },
  {
   "cell_type": "code",
   "execution_count": 514,
   "metadata": {},
   "outputs": [
    {
     "name": "stdout",
     "output_type": "stream",
     "text": [
      "Lista:  {'p0 ': '( A  and B ) ', 'p1 ': '( ( A  and B )  and B ) ', 'pF2': ' ( ( ( A  and B )  and B ) )'}\n"
     ]
    }
   ],
   "source": [
    "\n",
    "mapCircuito = dict(zip(listaPortas, listCircuito))\n",
    "print(\"Lista: \",mapCircuito)\n",
    "#  Escrevendo a forma lógica do circuito paranteseada no formato de entrada\n",
    "logicForm = open('logicFormCircuitFinal.txt','w')\n",
    "logicForm.write(\"var = \" + str(var))\n",
    "logicForm.write(\"\\n\")\n",
    "logicForm.write(str(mapCircuito))\n",
    "logicForm.close()"
   ]
  },
  {
   "cell_type": "code",
   "execution_count": 214,
   "metadata": {},
   "outputs": [],
   "source": [
    "#  Escrevendo a forma lógica do circuito paranteseada\n",
    "logicForm = open('TVCircuit.txt','w')\n",
    "logicForm.write(str( (str(listCircuito),str(data.values)  ) ))\n",
    "logicForm.close()"
   ]
  },
  {
   "cell_type": "code",
   "execution_count": 502,
   "metadata": {},
   "outputs": [
    {
     "data": {
      "text/plain": [
       "(array([[0, 0, 0, 0, 0, 0],\n",
       "        [0, 0, 1, 0, 0, 0],\n",
       "        [0, 1, 0, 0, 0, 0],\n",
       "        [0, 1, 1, 0, 0, 0],\n",
       "        [1, 0, 0, 0, 0, 0],\n",
       "        [1, 0, 1, 0, 0, 0],\n",
       "        [1, 1, 0, 1, 1, 1],\n",
       "        [1, 1, 1, 1, 1, 1]], dtype=int64),\n",
       " Index(['A', 'B', 'C', '( A and B )', '( ( A and B ) and B )',\n",
       "        '( ( ( A and B ) and B ) )'],\n",
       "       dtype='object'))"
      ]
     },
     "execution_count": 502,
     "metadata": {},
     "output_type": "execute_result"
    }
   ],
   "source": [
    "# str(str(data.values).split(' ')).replace('\"', '')\n",
    "data.values, data.columns, "
   ]
  }
 ],
 "metadata": {
  "kernelspec": {
   "display_name": "Python 3",
   "language": "python",
   "name": "python3"
  },
  "language_info": {
   "codemirror_mode": {
    "name": "ipython",
    "version": 3
   },
   "file_extension": ".py",
   "mimetype": "text/x-python",
   "name": "python",
   "nbconvert_exporter": "python",
   "pygments_lexer": "ipython3",
   "version": "3.6.5"
  }
 },
 "nbformat": 4,
 "nbformat_minor": 2
}
